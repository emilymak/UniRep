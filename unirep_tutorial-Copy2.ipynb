{
 "cells": [
  {
   "cell_type": "markdown",
   "metadata": {},
   "source": [
    "## How to use the UniRep mLSTM \"babbler\". This version demonstrates the 64-unit and the 1900-unit architecture. \n",
    "\n",
    "We recommend getting started with the 64-unit architecture as it is easier and faster to run, but has the same interface as the 1900-unit one."
   ]
  },
  {
   "cell_type": "markdown",
   "metadata": {},
   "source": [
    "Use the 64-unit or the 1900-unit model?"
   ]
  },
  {
   "cell_type": "code",
   "execution_count": 1,
   "metadata": {
    "collapsed": true
   },
   "outputs": [],
   "source": [
    "USE_FULL_1900_DIM_MODEL = False # if True use 1900 dimensional model, else use 64 dimensional one."
   ]
  },
  {
   "cell_type": "markdown",
   "metadata": {},
   "source": [
    "## Setup"
   ]
  },
  {
   "cell_type": "code",
   "execution_count": 2,
   "metadata": {
    "collapsed": true
   },
   "outputs": [],
   "source": [
    "import tensorflow as tf\n",
    "import numpy as np\n",
    "import pandas as pd\n",
    "import matplotlib.pyplot as plt\n",
    "\n",
    "# Set seeds\n",
    "tf.set_random_seed(42)\n",
    "np.random.seed(42)\n",
    "\n",
    "if USE_FULL_1900_DIM_MODEL:\n",
    "    # Sync relevant weight files\n",
    "    !aws s3 sync --no-sign-request --quiet s3://unirep-public/1900_weights/ 1900_weights/\n",
    "    \n",
    "    # Import the mLSTM babbler model\n",
    "    from unirep import babbler1900 as babbler\n",
    "    \n",
    "    # Where model weights are stored.\n",
    "    MODEL_WEIGHT_PATH = \"./1900_weights\"\n",
    "    \n",
    "else:\n",
    "    # Sync relevant weight files\n",
    "    !aws s3 sync --no-sign-request --quiet s3://unirep-public/64_weights/ 64_weights/\n",
    "    \n",
    "    # Import the mLSTM babbler model\n",
    "    from unirep import babbler64 as babbler\n",
    "    \n",
    "    # Where model weights are stored.\n",
    "    MODEL_WEIGHT_PATH = \"./64_weights\""
   ]
  },
  {
   "cell_type": "markdown",
   "metadata": {},
   "source": [
    "## Data formatting and management"
   ]
  },
  {
   "cell_type": "markdown",
   "metadata": {},
   "source": [
    "Initialize UniRep, also referred to as the \"babbler\" in our code. You need to provide the batch size you will use and the path to the weight directory."
   ]
  },
  {
   "cell_type": "code",
   "execution_count": 3,
   "metadata": {},
   "outputs": [
    {
     "name": "stderr",
     "output_type": "stream",
     "text": [
      "/usr/local/lib/python3.5/dist-packages/h5py/__init__.py:34: FutureWarning: Conversion of the second argument of issubdtype from `float` to `np.floating` is deprecated. In future, it will be treated as `np.float64 == np.dtype(float).type`.\n",
      "  from ._conv import register_converters as _register_converters\n"
     ]
    }
   ],
   "source": [
    "batch_size = 50\n",
    "b = babbler(batch_size=batch_size, model_path=MODEL_WEIGHT_PATH)"
   ]
  },
  {
   "cell_type": "markdown",
   "metadata": {},
   "source": [
    "UniRep needs to receive data in the correct format, a (batch_size, max_seq_len) matrix with integer values, where the integers correspond to an amino acid label at that position, and the end of the sequence is padded with 0s until the max sequence length to form a non-ragged rectangular matrix. We provide a formatting function to translate a string of amino acids into a list of integers with the correct codex:"
   ]
  },
  {
   "cell_type": "code",
   "execution_count": 4,
   "metadata": {
    "collapsed": true
   },
   "outputs": [],
   "source": [
    "seq_open = open(\"./emi_iso_seqs.txt\")\n",
    "seq = seq_open.read()"
   ]
  },
  {
   "cell_type": "code",
   "execution_count": 5,
   "metadata": {
    "collapsed": true
   },
   "outputs": [],
   "source": [
    "seq_formatted = []\n",
    "for line in seq.splitlines():\n",
    "    seq_formatted.append(np.array(b.format_seq(line)))"
   ]
  },
  {
   "cell_type": "markdown",
   "metadata": {},
   "source": [
    "We also provide a function that will check your amino acid sequences don't contain any characters which will break the UniRep model."
   ]
  },
  {
   "cell_type": "code",
   "execution_count": null,
   "metadata": {
    "collapsed": true
   },
   "outputs": [],
   "source": [
    "b.is_valid_seq(seq)"
   ]
  },
  {
   "cell_type": "markdown",
   "metadata": {},
   "source": [
    "You could use your own data flow as long as you ensure that the data format is obeyed. Alternatively, you can use the data flow we've implemented for UniRep training, which happens in the tensorflow graph. It reads from a file of integer sequences, shuffles them around, collects them into groups of similar length (to minimize padding waste) and pads them to the max_length. Here's how to do that:"
   ]
  },
  {
   "cell_type": "markdown",
   "metadata": {},
   "source": [
    "First, sequences need to be saved in the correct format. Suppose we have a new-line seperated file of amino acid sequences, `seqs.txt`, and we want to format them. Note that training is currently only publicly supported for amino acid sequences less than 275 amino acids as gradient updates for sequences longer than that start to get unwieldy. If you want to train on sequences longer than this, please reach out to us. \n",
    "\n",
    "Sequence formatting can be done as follows:"
   ]
  },
  {
   "cell_type": "code",
   "execution_count": 4,
   "metadata": {
    "collapsed": true
   },
   "outputs": [],
   "source": [
    "# Before you can train your model, \n",
    "sequences = []\n",
    "with open(\"lenzi_neg_seqs_10Y_2.txt\", \"r\") as source:\n",
    "    with open(\"formatted.txt\", \"w\") as destination:\n",
    "        for i,seq in enumerate(source):\n",
    "            seq = seq.strip()\n",
    "            sequences.append(seq)\n",
    "            if b.is_valid_seq(seq) and len(seq) < 275: \n",
    "                formatted = \",\".join(map(str,b.format_seq(seq)))\n",
    "                destination.write(formatted)\n",
    "                destination.write('\\n')"
   ]
  },
  {
   "cell_type": "markdown",
   "metadata": {},
   "source": [
    "This is what the integer format looks like"
   ]
  },
  {
   "cell_type": "code",
   "execution_count": null,
   "metadata": {
    "collapsed": true
   },
   "outputs": [],
   "source": [
    "!head -n1 formatted.txt"
   ]
  },
  {
   "cell_type": "markdown",
   "metadata": {},
   "source": [
    "Notice that by default format_seq does not include the stop symbol (25) at the end of the sequence. This is the correct behavior if you are trying to train a top model, but not if you are training UniRep representations."
   ]
  },
  {
   "cell_type": "markdown",
   "metadata": {},
   "source": [
    "Now we can use a custom function to bucket, batch and pad sequences from `formatted.txt` (which has the correct integer codex after calling `babbler.format_seq()`). The bucketing occurs in the graph. \n",
    "\n",
    "What is bucketing? Specify a lower and upper bound, and interval. All sequences less than lower or greater than upper will be batched together. The interval defines the \"sides\" of buckets between these bounds. Don't pick a small interval for a small dataset because the function will just repeat a sequence if there are not enough to\n",
    "fill a batch. All batches are the size you passed when initializing the babbler.\n",
    "\n",
    "This is also doing a few other things:\n",
    "- Shuffling the sequences by randomly sampling from a 10000 sequence buffer\n",
    "- Automatically padding the sequences with zeros so the returned batch is a perfect rectangle\n",
    "- Automatically repeating the dataset"
   ]
  },
  {
   "cell_type": "code",
   "execution_count": 7,
   "metadata": {
    "collapsed": true
   },
   "outputs": [],
   "source": [
    "bucket_op = b.bucket_batch_pad(\"formatted.txt\", interval=1000) # Large interval"
   ]
  },
  {
   "cell_type": "markdown",
   "metadata": {},
   "source": [
    "Inconveniently, this does not make it easy for a value to be associated with each sequence and not lost during shuffling. You can get around this by just prepending every integer sequence with the sequence label (eg, every sequence would be saved to the file as \"{brightness value}, 24, 1, 5,...\" and then you could just index out the first column after calling the `bucket_op`. Please reach out if you have questions on how to do this."
   ]
  },
  {
   "cell_type": "markdown",
   "metadata": {},
   "source": [
    "Now that we have the `bucket_op`, we can simply `sess.run()` it to get a correctly formatted batch"
   ]
  },
  {
   "cell_type": "code",
   "execution_count": 8,
   "metadata": {},
   "outputs": [
    {
     "name": "stdout",
     "output_type": "stream",
     "text": [
      "[[24 10 16 ... 16  7  7]\n",
      " [24 10 16 ... 16  7  7]\n",
      " [24 10 16 ... 16  7  7]\n",
      " ...\n",
      " [24 10 16 ... 16  7  7]\n",
      " [24 10 16 ... 16  7  7]\n",
      " [24 10 16 ... 16  7  7]]\n",
      "(50, 116)\n"
     ]
    }
   ],
   "source": [
    "with tf.Session() as sess:\n",
    "    sess.run(tf.global_variables_initializer())\n",
    "    batch = sess.run(bucket_op)\n",
    "    \n",
    "print(batch)\n",
    "print(batch.shape)"
   ]
  },
  {
   "cell_type": "markdown",
   "metadata": {},
   "source": [
    "You can look back and see that the batch_size we passed to __init__ is indeed 12, and the second dimension must be the longest sequence included in this batch. Now we have the data flow setup (note that as long as your batch looks like this, you don't need my flow), so we can proceed to implementing the graph. The module returns all the operations needed to feed in sequence and get out trainable representations."
   ]
  },
  {
   "cell_type": "markdown",
   "metadata": {},
   "source": [
    "## Training a top model and a top model + mLSTM."
   ]
  },
  {
   "cell_type": "markdown",
   "metadata": {},
   "source": [
    "First, obtain all of the ops needed to output a representation"
   ]
  },
  {
   "cell_type": "code",
   "execution_count": 9,
   "metadata": {
    "collapsed": true
   },
   "outputs": [],
   "source": [
    "final_hidden, x_placeholder, batch_size_placeholder, seq_length_placeholder, initial_state_placeholder = (\n",
    "    b.get_rep_ops())"
   ]
  },
  {
   "cell_type": "markdown",
   "metadata": {},
   "source": [
    "`final_hidden` should be a batch_size x rep_dim matrix.\n",
    "\n",
    "Lets say we want to train a basic feed-forward network as the top model, doing regression with MSE loss, and the Adam optimizer. We can do that by:\n",
    "\n",
    "1.  Defining a loss function.\n",
    "\n",
    "2.  Defining an optimizer that's only optimizing variables in the top model.\n",
    "\n",
    "3.  Minimizing the loss inside of a TensorFlow session"
   ]
  },
  {
   "cell_type": "code",
   "execution_count": 10,
   "metadata": {
    "collapsed": true
   },
   "outputs": [],
   "source": [
    "y_placeholder = tf.placeholder(tf.float32, shape=[None,1], name=\"y\")\n",
    "initializer = tf.contrib.layers.xavier_initializer(uniform=False)\n",
    "\n",
    "with tf.variable_scope(\"top\"):\n",
    "    prediction = tf.contrib.layers.fully_connected(\n",
    "        final_hidden, 1, activation_fn=None, \n",
    "        weights_initializer=initializer,\n",
    "        biases_initializer=tf.zeros_initializer()\n",
    "    )\n",
    "\n",
    "loss = tf.losses.mean_squared_error(y_placeholder, prediction)"
   ]
  },
  {
   "cell_type": "markdown",
   "metadata": {},
   "source": [
    "You can specifically train the top model first by isolating variables of the \"top\" scope, and forcing the optimizer to only optimize these."
   ]
  },
  {
   "cell_type": "code",
   "execution_count": 11,
   "metadata": {
    "collapsed": true
   },
   "outputs": [],
   "source": [
    "learning_rate=.005\n",
    "top_variables = tf.get_collection(tf.GraphKeys.GLOBAL_VARIABLES, scope=\"top\")\n",
    "optimizer = tf.train.AdamOptimizer(learning_rate)\n",
    "top_only_step_op = optimizer.minimize(loss, var_list=top_variables)\n",
    "all_step_op = optimizer.minimize(loss)"
   ]
  },
  {
   "cell_type": "markdown",
   "metadata": {},
   "source": [
    "We next need to define a function that allows us to calculate the length each sequence in the batch so that we know what index to use to obtain the right \"final\" hidden state"
   ]
  },
  {
   "cell_type": "code",
   "execution_count": 12,
   "metadata": {},
   "outputs": [
    {
     "data": {
      "text/plain": [
       "array([116, 116, 116, 116, 116, 116, 116, 116, 116, 116, 116, 116, 116,\n",
       "       116, 116, 116, 116, 116, 116, 116, 116, 116, 116, 116, 116, 116,\n",
       "       116, 116, 116, 116, 116, 116, 116, 116, 116, 116, 116, 116, 116,\n",
       "       116, 116, 116, 116, 116, 116, 116, 116, 116, 116, 116])"
      ]
     },
     "execution_count": 12,
     "metadata": {},
     "output_type": "execute_result"
    }
   ],
   "source": [
    "def nonpad_len(batch):\n",
    "    nonzero = batch > 0\n",
    "    lengths = np.sum(nonzero, axis=1)\n",
    "    return lengths\n",
    "\n",
    "nonpad_len(batch)"
   ]
  },
  {
   "cell_type": "markdown",
   "metadata": {},
   "source": [
    "We are ready to train. As an illustration, let's learn to predict the number 42 just optimizing the top model."
   ]
  },
  {
   "cell_type": "code",
   "execution_count": null,
   "metadata": {
    "collapsed": true
   },
   "outputs": [],
   "source": [
    "\"\"\"\n",
    "y = [[1], [1], [1], [0], [0], [0], [0], [0], [0], [1], [1], [1], [1], [0], [0], [0], [1], [0], [1], [1], [1], [1], [0], [1], [0], [0], [0], [1], [0], [1], [1], [0], [1], [0], [1], [0], [1], [1], [1], [1], [0], [1], [1], [1], [1], [0], [0], [1], [1], [1], [1], [1], [0], [1], [1], [1], [1], [1], [1], [1], [0], [1], [1]]\n",
    "num_iters = 1\n",
    "with tf.Session() as sess:\n",
    "    sess.run(tf.global_variables_initializer())\n",
    "    for i in range(num_iters):\n",
    "        batch = sess.run(bucket_op)\n",
    "        length = nonpad_len(batch)\n",
    "        loss_, __, = sess.run([loss, top_only_step_op],\n",
    "                feed_dict={\n",
    "                     x_placeholder: batch,\n",
    "                     y_placeholder: y,\n",
    "                     batch_size_placeholder: batch_size,\n",
    "                     seq_length_placeholder:length,\n",
    "                     initial_state_placeholder:b._zero_state\n",
    "                }\n",
    "        )\n",
    "        viscosity_pred, final_hidden_layer = sess.run([prediction, final_hidden],\n",
    "                feed_dict={\n",
    "                     x_placeholder: batch,\n",
    "                     batch_size_placeholder: batch_size,\n",
    "                     seq_length_placeholder:length,\n",
    "                     initial_state_placeholder:b._zero_state})\n",
    "        print(\"Iteration {0}: {1}\".format(i,loss_))\n",
    "#    print(np.hstack([viscosity_pred, y])\n",
    "    print(final_hidden_layer)\n",
    "    plt.scatter(viscosity_pred, y)\n",
    "    plt.show()\n",
    "\"\"\""
   ]
  },
  {
   "cell_type": "markdown",
   "metadata": {},
   "source": [
    "We can also jointly train the top model and the mLSTM. Note that if using the 1900-unit (full) model, you will need a GPU with at least 16GB RAM. To see a demonstration of joint training with fewer computational resources, please run this notebook using the 64-unit model."
   ]
  },
  {
   "cell_type": "code",
   "execution_count": null,
   "metadata": {
    "collapsed": true
   },
   "outputs": [],
   "source": [
    "\"\"\"y = [[1], [1], [1], [0], [0], [0], [0], [0], [0], [1], [1], [1], [1], [0], [0], [0], [1], [0], [1], [1], [1], [1], [0], [1], [0], [0], [0], [1], [0], [1], [1], [0], [1], [0], [1], [0], [1], [1], [1], [1], [0], [1], [1], [1], [1], [0], [0], [1], [1], [1], [1], [1], [0], [1], [1], [1], [1], [1], [1], [1], [0], [1], [1]]\n",
    "num_iters = 25\n",
    "with tf.Session() as sess:\n",
    "    sess.run(tf.global_variables_initializer())\n",
    "    for i in range(num_iters):\n",
    "        batch = sess.run(bucket_op)\n",
    "        length = nonpad_len(batch)\n",
    "        loss_, __, = sess.run([loss, all_step_op],\n",
    "                feed_dict={\n",
    "                     x_placeholder: batch,\n",
    "                     y_placeholder: y,\n",
    "                     batch_size_placeholder: batch_size,\n",
    "                     seq_length_placeholder:length,\n",
    "                     initial_state_placeholder:b._zero_state\n",
    "                }\n",
    "        )\n",
    "        viscosity_pred = sess.run(prediction,\n",
    "                feed_dict={\n",
    "                     x_placeholder: batch,\n",
    "                     batch_size_placeholder: batch_size,\n",
    "                     seq_length_placeholder:length,\n",
    "                     initial_state_placeholder:b._zero_state})\n",
    "        print(\"Iteration {0}: {1}\".format(i,loss_))\n",
    "    print(np.hstack([viscosity_pred, y]))\n",
    "\"\"\""
   ]
  },
  {
   "cell_type": "code",
   "execution_count": 5,
   "metadata": {
    "scrolled": true
   },
   "outputs": [
    {
     "name": "stdout",
     "output_type": "stream",
     "text": [
      "rep\n",
      "rep\n",
      "rep\n",
      "rep\n",
      "rep\n",
      "rep\n",
      "rep\n",
      "rep\n",
      "rep\n",
      "rep\n",
      "rep\n",
      "rep\n",
      "rep\n",
      "rep\n",
      "rep\n",
      "rep\n",
      "rep\n",
      "rep\n",
      "rep\n",
      "rep\n",
      "rep\n",
      "rep\n",
      "rep\n",
      "rep\n",
      "rep\n",
      "rep\n",
      "rep\n",
      "rep\n",
      "rep\n",
      "rep\n",
      "rep\n",
      "rep\n",
      "rep\n",
      "rep\n",
      "rep\n",
      "rep\n",
      "rep\n",
      "rep\n",
      "rep\n",
      "rep\n",
      "rep\n",
      "rep\n",
      "rep\n",
      "rep\n",
      "rep\n",
      "rep\n",
      "rep\n",
      "rep\n",
      "rep\n",
      "rep\n",
      "rep\n",
      "rep\n",
      "rep\n",
      "rep\n",
      "rep\n",
      "rep\n",
      "rep\n",
      "rep\n",
      "rep\n",
      "rep\n",
      "rep\n",
      "rep\n",
      "rep\n",
      "rep\n",
      "rep\n",
      "rep\n",
      "rep\n",
      "rep\n",
      "rep\n",
      "rep\n",
      "rep\n",
      "rep\n",
      "rep\n",
      "rep\n",
      "rep\n",
      "rep\n",
      "rep\n",
      "rep\n",
      "rep\n",
      "rep\n",
      "rep\n",
      "rep\n",
      "rep\n",
      "rep\n",
      "rep\n",
      "rep\n",
      "rep\n",
      "rep\n",
      "rep\n",
      "rep\n",
      "rep\n",
      "rep\n",
      "rep\n",
      "rep\n",
      "rep\n",
      "rep\n",
      "rep\n",
      "rep\n",
      "rep\n",
      "rep\n",
      "rep\n",
      "rep\n",
      "rep\n",
      "rep\n",
      "rep\n",
      "rep\n",
      "rep\n",
      "rep\n",
      "rep\n",
      "rep\n",
      "rep\n",
      "rep\n",
      "rep\n",
      "rep\n",
      "rep\n",
      "rep\n",
      "rep\n",
      "rep\n",
      "rep\n",
      "rep\n",
      "rep\n",
      "rep\n",
      "rep\n",
      "rep\n",
      "rep\n",
      "rep\n",
      "rep\n",
      "rep\n",
      "rep\n",
      "rep\n",
      "rep\n",
      "rep\n",
      "rep\n",
      "rep\n",
      "rep\n",
      "rep\n",
      "rep\n",
      "rep\n",
      "rep\n",
      "rep\n",
      "rep\n",
      "rep\n",
      "rep\n",
      "rep\n",
      "rep\n",
      "rep\n",
      "rep\n",
      "rep\n",
      "rep\n",
      "rep\n",
      "rep\n",
      "rep\n",
      "rep\n",
      "rep\n",
      "rep\n",
      "rep\n",
      "rep\n",
      "rep\n",
      "rep\n",
      "rep\n",
      "rep\n",
      "rep\n",
      "rep\n",
      "rep\n",
      "rep\n",
      "rep\n",
      "rep\n",
      "rep\n",
      "rep\n",
      "rep\n",
      "rep\n",
      "rep\n",
      "rep\n",
      "rep\n",
      "rep\n",
      "rep\n",
      "rep\n",
      "rep\n",
      "rep\n",
      "rep\n",
      "rep\n",
      "rep\n",
      "rep\n",
      "rep\n",
      "rep\n",
      "rep\n",
      "rep\n",
      "rep\n",
      "rep\n",
      "rep\n",
      "rep\n",
      "rep\n",
      "rep\n",
      "rep\n",
      "rep\n",
      "rep\n",
      "rep\n",
      "rep\n",
      "rep\n",
      "rep\n",
      "rep\n",
      "rep\n",
      "rep\n",
      "rep\n",
      "rep\n",
      "rep\n",
      "rep\n",
      "rep\n",
      "rep\n",
      "rep\n",
      "rep\n",
      "rep\n",
      "rep\n",
      "rep\n",
      "rep\n",
      "rep\n",
      "rep\n",
      "rep\n",
      "rep\n",
      "rep\n",
      "rep\n",
      "rep\n",
      "rep\n",
      "rep\n",
      "rep\n",
      "rep\n",
      "rep\n",
      "rep\n",
      "rep\n",
      "rep\n",
      "rep\n",
      "rep\n",
      "rep\n",
      "rep\n",
      "rep\n",
      "rep\n",
      "rep\n",
      "rep\n",
      "rep\n",
      "rep\n",
      "rep\n",
      "rep\n",
      "rep\n",
      "rep\n",
      "rep\n",
      "rep\n",
      "rep\n",
      "rep\n",
      "rep\n",
      "rep\n",
      "rep\n",
      "rep\n",
      "rep\n",
      "rep\n",
      "rep\n",
      "rep\n",
      "rep\n",
      "rep\n",
      "rep\n",
      "rep\n",
      "rep\n",
      "rep\n",
      "rep\n",
      "rep\n",
      "rep\n",
      "rep\n",
      "rep\n",
      "rep\n",
      "rep\n",
      "rep\n",
      "rep\n",
      "rep\n",
      "rep\n",
      "rep\n",
      "rep\n",
      "rep\n",
      "rep\n",
      "rep\n",
      "rep\n",
      "rep\n",
      "rep\n",
      "rep\n",
      "rep\n",
      "rep\n",
      "rep\n",
      "rep\n",
      "rep\n",
      "rep\n",
      "rep\n",
      "rep\n",
      "rep\n",
      "rep\n",
      "rep\n",
      "rep\n",
      "rep\n",
      "rep\n",
      "rep\n",
      "rep\n",
      "rep\n",
      "rep\n",
      "rep\n",
      "rep\n",
      "rep\n",
      "rep\n",
      "rep\n",
      "rep\n",
      "rep\n",
      "rep\n",
      "rep\n",
      "rep\n",
      "rep\n",
      "rep\n",
      "rep\n",
      "rep\n",
      "rep\n",
      "rep\n"
     ]
    },
    {
     "ename": "IndexError",
     "evalue": "list index out of range",
     "output_type": "error",
     "traceback": [
      "\u001b[0;31m---------------------------------------------------------------------------\u001b[0m",
      "\u001b[0;31mIndexError\u001b[0m                                Traceback (most recent call last)",
      "\u001b[0;32m<ipython-input-5-abae7d084eab>\u001b[0m in \u001b[0;36m<module>\u001b[0;34m()\u001b[0m\n\u001b[1;32m     12\u001b[0m     \u001b[0mnum1\u001b[0m \u001b[0;34m=\u001b[0m \u001b[0mrange\u001b[0m\u001b[0;34m(\u001b[0m\u001b[0mx\u001b[0m\u001b[0;34m,\u001b[0m \u001b[0my\u001b[0m\u001b[0;34m)\u001b[0m\u001b[0;34m\u001b[0m\u001b[0m\n\u001b[1;32m     13\u001b[0m     \u001b[0;32mfor\u001b[0m \u001b[0mj\u001b[0m \u001b[0;32min\u001b[0m \u001b[0mnum1\u001b[0m\u001b[0;34m:\u001b[0m\u001b[0;34m\u001b[0m\u001b[0m\n\u001b[0;32m---> 14\u001b[0;31m         \u001b[0mavg_hidden\u001b[0m\u001b[0;34m,\u001b[0m \u001b[0mfinal_hidden\u001b[0m\u001b[0;34m,\u001b[0m \u001b[0mfinal_cell\u001b[0m\u001b[0;34m,\u001b[0m \u001b[0mhs_out\u001b[0m \u001b[0;34m=\u001b[0m \u001b[0;34m(\u001b[0m\u001b[0mb\u001b[0m\u001b[0;34m.\u001b[0m\u001b[0mget_rep_hs\u001b[0m\u001b[0;34m(\u001b[0m\u001b[0msequences\u001b[0m\u001b[0;34m[\u001b[0m\u001b[0mj\u001b[0m\u001b[0;34m]\u001b[0m\u001b[0;34m)\u001b[0m\u001b[0;34m)\u001b[0m\u001b[0;34m\u001b[0m\u001b[0m\n\u001b[0m\u001b[1;32m     15\u001b[0m         \u001b[0maverage_hidden_list\u001b[0m\u001b[0;34m.\u001b[0m\u001b[0mappend\u001b[0m\u001b[0;34m(\u001b[0m\u001b[0mavg_hidden\u001b[0m\u001b[0;34m)\u001b[0m\u001b[0;34m\u001b[0m\u001b[0m\n\u001b[1;32m     16\u001b[0m         \u001b[0mfinal_hidden_list\u001b[0m\u001b[0;34m.\u001b[0m\u001b[0mappend\u001b[0m\u001b[0;34m(\u001b[0m\u001b[0mfinal_hidden\u001b[0m\u001b[0;34m)\u001b[0m\u001b[0;34m\u001b[0m\u001b[0m\n",
      "\u001b[0;31mIndexError\u001b[0m: list index out of range"
     ]
    }
   ],
   "source": [
    "## \n",
    "average_hidden_list = []\n",
    "final_hidden_list = []\n",
    "hs_list = []\n",
    "final_cell_list = []\n",
    "\n",
    "\n",
    "num2 = range(0, 50)\n",
    "x = 0\n",
    "y = 50\n",
    "for i in num2:\n",
    "    num1 = range(x, y)\n",
    "    for j in num1:\n",
    "        avg_hidden, final_hidden, final_cell, hs_out = (b.get_rep_hs(sequences[j]))\n",
    "        average_hidden_list.append(avg_hidden)\n",
    "        final_hidden_list.append(final_hidden)\n",
    "        final_cell_list.append(final_cell)\n",
    "        hs_list.append(hs_out)\n",
    "        print('rep')\n",
    "    x = x + 50\n",
    "    y = y + 50\n",
    "    \n"
   ]
  },
  {
   "cell_type": "code",
   "execution_count": null,
   "metadata": {
    "collapsed": true
   },
   "outputs": [],
   "source": []
  },
  {
   "cell_type": "code",
   "execution_count": 7,
   "metadata": {},
   "outputs": [
    {
     "name": "stdout",
     "output_type": "stream",
     "text": [
      "             0         1         2         3         4         5         6   \\\n",
      "0     -0.165004  0.367741  0.358379 -0.652705  0.310745  0.112354  0.319343   \n",
      "1     -0.117507  0.015849 -0.005665 -0.945347 -0.161479 -0.059104  0.105382   \n",
      "2     -0.149950  0.035742 -0.040070 -0.982778 -0.080040 -0.096058  0.044528   \n",
      "3     -0.071795  0.100204 -0.063417 -0.986795  0.008397 -0.125489  0.072548   \n",
      "4     -0.059268  0.068293 -0.067980 -0.980529 -0.035562 -0.091877  0.018135   \n",
      "5     -0.006058  0.080899 -0.091961 -0.981459 -0.033209 -0.121571  0.013050   \n",
      "6     -0.051401  0.110002 -0.107895 -0.978658 -0.035257 -0.102357  0.035238   \n",
      "7      0.019964  0.069578 -0.095498 -0.978140 -0.050059 -0.092941  0.004678   \n",
      "8      0.035149  0.082405 -0.081118 -0.986739 -0.028930 -0.133066  0.020592   \n",
      "9     -0.007347  0.143629 -0.072519 -0.988234 -0.009851 -0.146884  0.055827   \n",
      "10    -0.011108  0.146124 -0.072513 -0.981836 -0.003423 -0.178665  0.021780   \n",
      "11     0.102804  0.121156 -0.056406 -0.980689 -0.007311 -0.174651  0.047031   \n",
      "12     0.024613  0.245574 -0.056957 -0.987129 -0.002754 -0.137906  0.048848   \n",
      "13     0.056284  0.189939 -0.071070 -0.964666 -0.007051 -0.083755  0.034446   \n",
      "14     0.053084  0.102598 -0.043938 -0.973664  0.008729 -0.033049  0.018732   \n",
      "15     0.046399  0.168291 -0.045277 -0.989611  0.011176 -0.047634 -0.003205   \n",
      "16    -0.017595  0.161685 -0.039933 -0.989882  0.000776 -0.046692  0.021617   \n",
      "17     0.052280  0.186658 -0.038593 -0.984139  0.029491 -0.096819 -0.014056   \n",
      "18     0.033918  0.147643 -0.031908 -0.987575  0.018213 -0.111897  0.014478   \n",
      "19    -0.001360  0.152630 -0.034647 -0.989222  0.004664 -0.096450  0.019756   \n",
      "20     0.017725  0.180424 -0.035717 -0.978073  0.009542 -0.040090 -0.007046   \n",
      "21    -0.010569  0.253632 -0.046540 -0.986258  0.013043 -0.046835  0.018753   \n",
      "22     0.014618  0.194855 -0.060609 -0.964744  0.023541 -0.083094  0.042144   \n",
      "23    -0.003599  0.143461 -0.074131 -0.979909 -0.004640 -0.052943 -0.000186   \n",
      "24     0.008019  0.125353 -0.092882 -0.924073  0.024342 -0.038320  0.016176   \n",
      "25     0.011956  0.186728 -0.062255 -0.962391  0.063119 -0.031165  0.038265   \n",
      "26     0.008531  0.109099 -0.054513 -0.966260  0.038061 -0.032165  0.001390   \n",
      "27    -0.015511  0.205201 -0.057790 -0.977129  0.059028 -0.020001  0.025425   \n",
      "28     0.013787  0.167330 -0.041172 -0.979845  0.034968 -0.059147  0.001895   \n",
      "29     0.031835  0.148362 -0.027574 -0.985327  0.033913 -0.095606  0.031413   \n",
      "...         ...       ...       ...       ...       ...       ...       ...   \n",
      "39470  0.047516  0.335754 -0.084192 -0.976884 -0.008389 -0.389921  0.069812   \n",
      "39471  0.059849  0.301108 -0.101790 -0.959085 -0.014443 -0.388704  0.065137   \n",
      "39472  0.018635  0.239108 -0.215773 -0.927229 -0.016692 -0.396588  0.054845   \n",
      "39473 -0.033358  0.194388 -0.262793 -0.906465 -0.008710 -0.348679  0.050850   \n",
      "39474 -0.012928  0.110181 -0.276276 -0.643524  0.003843 -0.235196  0.051818   \n",
      "39475  0.005943  0.101454 -0.230474 -0.561922 -0.002955 -0.243633  0.149749   \n",
      "39476  0.057832  0.090640 -0.209079 -0.697064 -0.019691 -0.268090  0.084050   \n",
      "39477  0.044727  0.141708 -0.185502 -0.854079 -0.024175 -0.287691  0.048776   \n",
      "39478  0.105580  0.207220 -0.186400 -0.906762 -0.018544 -0.312066  0.163350   \n",
      "39479  0.180573  0.128713 -0.117096 -0.943478 -0.023235 -0.396049  0.067574   \n",
      "39480  0.120764  0.214714 -0.102295 -0.970065 -0.022603 -0.420326  0.178151   \n",
      "39481  0.103342  0.169258 -0.086732 -0.982006  0.012601 -0.475941  0.085294   \n",
      "39482  0.059509  0.223838 -0.102689 -0.984697 -0.006039 -0.423978  0.074849   \n",
      "39483  0.082058  0.202815 -0.048944 -0.990701 -0.013256 -0.492722  0.096070   \n",
      "39484  0.074778  0.248836 -0.069691 -0.982366 -0.000761 -0.453763  0.104093   \n",
      "39485  0.053116  0.262778 -0.076301 -0.958469  0.002504 -0.444730  0.083716   \n",
      "39486  0.018935  0.189201 -0.097083 -0.963024  0.001821 -0.446629  0.081921   \n",
      "39487  0.052761  0.127310 -0.117364 -0.954652 -0.008268 -0.398932  0.073914   \n",
      "39488  0.025186  0.176502 -0.110487 -0.949476  0.002221 -0.416694  0.095305   \n",
      "39489  0.117420  0.224480 -0.111689 -0.974022 -0.001893 -0.524002  0.101926   \n",
      "39490  0.046299  0.214750 -0.176917 -0.976211 -0.023269 -0.450541  0.055914   \n",
      "39491  0.060904  0.281145 -0.143920 -0.957592 -0.011974 -0.393660  0.065041   \n",
      "39492  0.060859  0.236386 -0.168280 -0.931391 -0.023173 -0.361200  0.107343   \n",
      "39493 -0.009219  0.163321 -0.336464 -0.875515 -0.041507 -0.346000  0.060057   \n",
      "39494  0.064417  0.161942 -0.354472 -0.669125 -0.027545 -0.315218  0.097944   \n",
      "39495  0.071479  0.118971 -0.260440 -0.740983 -0.028664 -0.374284  0.103876   \n",
      "39496  0.047986  0.116998 -0.236831 -0.831126 -0.042186 -0.430073  0.071997   \n",
      "39497  0.122784  0.166593 -0.230821 -0.844494 -0.023494 -0.451972  0.116271   \n",
      "39498  0.124928  0.144297 -0.186630 -0.928182 -0.022244 -0.522301  0.114319   \n",
      "39499  0.093943  0.105459 -0.138765 -0.921395 -0.016357 -0.441917  0.088407   \n",
      "\n",
      "             7         8         9     ...           54        55        56  \\\n",
      "0      0.479474  0.566543  0.441343    ...     0.537194  0.512816  0.240133   \n",
      "1      0.122901  0.049716 -0.096079    ...     0.032351  0.033621 -0.055703   \n",
      "2      0.089513  0.143008 -0.105348    ...     0.024890  0.015125 -0.023609   \n",
      "3      0.136738  0.168587 -0.123290    ...     0.041501  0.014029  0.029225   \n",
      "4      0.170694  0.107983 -0.165431    ...     0.046188  0.009338  0.037045   \n",
      "5      0.165641  0.139143 -0.172715    ...     0.053979  0.016953  0.063793   \n",
      "6      0.159790  0.164532 -0.133319    ...     0.057097  0.007669  0.067446   \n",
      "7      0.181194  0.138843 -0.163429    ...     0.061656  0.013315  0.085633   \n",
      "8      0.180380  0.175245 -0.160909    ...     0.043897  0.013297  0.078069   \n",
      "9      0.165973  0.191721 -0.238454    ...     0.054236 -0.008248 -0.028296   \n",
      "10     0.203062  0.193097 -0.264260    ...     0.064573 -0.005010  0.026961   \n",
      "11     0.247952  0.120759 -0.217409    ...     0.050909 -0.012394  0.017991   \n",
      "12     0.131467  0.169184 -0.303067    ...     0.046962 -0.019060 -0.024325   \n",
      "13     0.319084  0.159575 -0.230420    ...     0.076514 -0.027438  0.032291   \n",
      "14     0.313485  0.186063 -0.249592    ...     0.087082 -0.010809  0.056237   \n",
      "15     0.273389  0.128648 -0.315466    ...     0.110160 -0.013379  0.102675   \n",
      "16     0.266948  0.125378 -0.351110    ...     0.090584 -0.022273 -0.025244   \n",
      "17     0.364258  0.104187 -0.396869    ...     0.107651 -0.033697  0.108367   \n",
      "18     0.275418  0.166183 -0.326664    ...     0.059596 -0.021747  0.108152   \n",
      "19     0.189539  0.164498 -0.389573    ...     0.072539 -0.018387  0.085205   \n",
      "20     0.351391  0.125746 -0.298151    ...     0.111135 -0.027105  0.111858   \n",
      "21     0.151509  0.157287 -0.469065    ...     0.106660 -0.036672  0.053442   \n",
      "22     0.278623  0.169522 -0.271420    ...     0.108888 -0.022161  0.092709   \n",
      "23     0.157082  0.304046 -0.389941    ...     0.139405 -0.009720  0.141818   \n",
      "24     0.384959  0.169591 -0.276093    ...     0.206178 -0.011744  0.071080   \n",
      "25     0.317758  0.272899 -0.386198    ...     0.191574  0.006081  0.178238   \n",
      "26     0.298442  0.250710 -0.395650    ...     0.135237 -0.006502  0.143546   \n",
      "27     0.299764  0.284019 -0.505952    ...     0.142692 -0.082795  0.068770   \n",
      "28     0.297151  0.224567 -0.427764    ...     0.127404 -0.035387  0.049587   \n",
      "29     0.326790  0.259301 -0.344107    ...     0.083189 -0.030281  0.100999   \n",
      "...         ...       ...       ...    ...          ...       ...       ...   \n",
      "39470  0.137999  0.447926 -0.429934    ...     0.077394 -0.016597 -0.049433   \n",
      "39471  0.145677  0.437520 -0.413730    ...     0.092283 -0.004275 -0.028887   \n",
      "39472  0.145796  0.436216 -0.347300    ...     0.142294  0.000522  0.010190   \n",
      "39473  0.151690  0.373648 -0.322740    ...     0.151151  0.006898 -0.003825   \n",
      "39474  0.201983  0.349282 -0.204129    ...     0.189554  0.009979  0.014300   \n",
      "39475  0.295467  0.341714 -0.265018    ...     0.153607  0.011607  0.042306   \n",
      "39476  0.238050  0.336272 -0.408264    ...     0.149639  0.012690  0.026418   \n",
      "39477  0.237358  0.391419 -0.373262    ...     0.082806  0.008869  0.033202   \n",
      "39478  0.300199  0.456120 -0.443346    ...     0.080341  0.007880  0.102128   \n",
      "39479  0.194813  0.321235 -0.464065    ...     0.073509 -0.011626 -0.049468   \n",
      "39480  0.224023  0.467012 -0.479722    ...     0.066517  0.007894  0.060174   \n",
      "39481  0.150637  0.394476 -0.466411    ...     0.058396 -0.010454 -0.080728   \n",
      "39482  0.106227  0.449903 -0.602259    ...     0.071245 -0.017599 -0.091156   \n",
      "39483  0.226079  0.399171 -0.314117    ...     0.047852  0.008853  0.006803   \n",
      "39484  0.120062  0.449410 -0.481983    ...     0.069079 -0.011686 -0.078958   \n",
      "39485  0.171645  0.399089 -0.359345    ...     0.115691 -0.003436 -0.098833   \n",
      "39486  0.201577  0.402231 -0.393871    ...     0.123300  0.000007 -0.043955   \n",
      "39487  0.224750  0.327575 -0.353580    ...     0.101954  0.004745 -0.054877   \n",
      "39488  0.186615  0.391171 -0.496871    ...     0.112952 -0.012669 -0.081612   \n",
      "39489  0.237322  0.356794 -0.535261    ...     0.100275 -0.015585 -0.039045   \n",
      "39490  0.116947  0.371332 -0.583705    ...     0.100915 -0.023581 -0.076265   \n",
      "39491  0.207215  0.355798 -0.378440    ...     0.118330  0.001129 -0.045208   \n",
      "39492  0.173696  0.398207 -0.354342    ...     0.112712  0.011004  0.005677   \n",
      "39493  0.090056  0.334928 -0.551911    ...     0.198558  0.000773 -0.012803   \n",
      "39494  0.268841  0.403328 -0.306243    ...     0.210541  0.016544  0.074438   \n",
      "39495  0.193719  0.453189 -0.429022    ...     0.128329  0.016245  0.095514   \n",
      "39496  0.196430  0.370804 -0.498094    ...     0.123404  0.008476  0.052367   \n",
      "39497  0.271598  0.476327 -0.507429    ...     0.101896  0.015659  0.126161   \n",
      "39498  0.197308  0.433140 -0.521225    ...     0.071649 -0.004702  0.073161   \n",
      "39499  0.213123  0.377254 -0.497301    ...     0.107462 -0.025759 -0.005196   \n",
      "\n",
      "             57        58        59        60        61        62        63  \n",
      "0      0.487939  0.511597  0.349602 -0.145424 -0.455004  0.441083  0.015762  \n",
      "1     -0.100180 -0.109079  0.861306 -0.030453 -0.004870  0.276220 -0.001159  \n",
      "2     -0.061344 -0.070064  0.872930 -0.087733 -0.027163  0.458864 -0.026906  \n",
      "3     -0.036227 -0.028498  0.874399 -0.076890 -0.076135  0.664418 -0.047361  \n",
      "4     -0.055834 -0.024499  0.828397 -0.097801 -0.040970  0.587182 -0.035725  \n",
      "5     -0.065255 -0.020831  0.807510 -0.080203 -0.074531  0.602184 -0.032362  \n",
      "6     -0.085975 -0.024998  0.802211 -0.078301 -0.048093  0.621827 -0.025963  \n",
      "7     -0.072331 -0.015654  0.789413 -0.077622 -0.036873  0.601786 -0.032838  \n",
      "8     -0.045717 -0.019460  0.735055 -0.088073 -0.056154  0.619219 -0.069592  \n",
      "9      0.044913 -0.022542  0.796862 -0.116380 -0.035516  0.595831 -0.038470  \n",
      "10    -0.032551 -0.031352  0.674358 -0.133492 -0.101365  0.492303 -0.091527  \n",
      "11    -0.097499 -0.009632  0.694540 -0.172704 -0.085258  0.548891 -0.029582  \n",
      "12    -0.137515 -0.009522  0.730874 -0.157711 -0.092096  0.507843 -0.023493  \n",
      "13    -0.207996 -0.019312  0.615043 -0.190200 -0.083326  0.436494 -0.033045  \n",
      "14    -0.149187 -0.001541  0.531279 -0.219266 -0.028953  0.442099  0.005680  \n",
      "15    -0.176560  0.000146  0.564199 -0.242235 -0.055378  0.445094 -0.011707  \n",
      "16    -0.056057 -0.021533  0.644116 -0.176776 -0.047873  0.426916 -0.033084  \n",
      "17    -0.119173 -0.012213  0.646087 -0.212360 -0.108696  0.405019 -0.064166  \n",
      "18    -0.114293 -0.029798  0.510106 -0.178779 -0.048619  0.452241 -0.075845  \n",
      "19    -0.153878 -0.016474  0.600128 -0.174358 -0.057601  0.477770 -0.002418  \n",
      "20    -0.273355 -0.023466  0.591382 -0.222463 -0.070758  0.419024 -0.000289  \n",
      "21    -0.154791 -0.026620  0.593208 -0.205800 -0.093358  0.425064 -0.004628  \n",
      "22    -0.224634 -0.015133  0.426570 -0.167575 -0.071403  0.472694 -0.032425  \n",
      "23    -0.084819 -0.042298  0.293065 -0.112372 -0.048078  0.386061 -0.011810  \n",
      "24    -0.229183 -0.021403  0.303429 -0.184154 -0.058205  0.398094 -0.025002  \n",
      "25    -0.093662 -0.008897  0.343711 -0.096041 -0.046066  0.503124 -0.075575  \n",
      "26    -0.156620 -0.036557  0.241181 -0.102214 -0.030687  0.459181 -0.052806  \n",
      "27     0.032481 -0.045792  0.369877 -0.117120 -0.014021  0.472085 -0.004533  \n",
      "28    -0.065791 -0.119934  0.256380 -0.105553 -0.054912  0.391613 -0.028204  \n",
      "29    -0.082602 -0.078912  0.231460 -0.105476 -0.052698  0.479750 -0.039959  \n",
      "...         ...       ...       ...       ...       ...       ...       ...  \n",
      "39470  0.090466 -0.030557  0.291999 -0.197590 -0.053273  0.568195 -0.022416  \n",
      "39471  0.097347 -0.030303  0.267579 -0.168147 -0.041625  0.627744 -0.023333  \n",
      "39472  0.045300 -0.027835  0.195139 -0.159843 -0.054289  0.565943 -0.028328  \n",
      "39473 -0.039289 -0.003320  0.167776 -0.158536 -0.060916  0.584541 -0.046274  \n",
      "39474 -0.002653 -0.003732  0.119967 -0.181283 -0.036940  0.467024 -0.047291  \n",
      "39475 -0.018713  0.000773  0.103862 -0.170374  0.011944  0.436328 -0.071868  \n",
      "39476 -0.041721 -0.010458  0.106486 -0.185233  0.006993  0.440713 -0.050149  \n",
      "39477 -0.082087 -0.012037  0.139217 -0.170608 -0.016236  0.429860 -0.072452  \n",
      "39478  0.012510  0.004555  0.180932 -0.179580  0.024160  0.497962 -0.077029  \n",
      "39479 -0.080803 -0.014947  0.163769 -0.226571 -0.067756  0.498110 -0.035491  \n",
      "39480  0.053565 -0.004763  0.173585 -0.188793  0.037017  0.461578 -0.081433  \n",
      "39481 -0.024845 -0.022658  0.179435 -0.194542 -0.052171  0.537006 -0.022992  \n",
      "39482  0.105303 -0.035223  0.230715 -0.189935 -0.045191  0.512354 -0.000873  \n",
      "39483  0.009878  0.014019  0.221124 -0.170475 -0.060865  0.564721  0.032825  \n",
      "39484  0.086697 -0.021836  0.238451 -0.185236 -0.049242  0.570137  0.036522  \n",
      "39485  0.106688 -0.059330  0.283059 -0.167591 -0.055951  0.614336  0.001981  \n",
      "39486  0.100959 -0.044138  0.231890 -0.156281 -0.021822  0.575467  0.004380  \n",
      "39487  0.021425 -0.023898  0.156556 -0.173447 -0.052938  0.497347 -0.021135  \n",
      "39488  0.076795 -0.027699  0.236742 -0.167934 -0.032998  0.562276 -0.021142  \n",
      "39489  0.049914 -0.003340  0.270048 -0.202201 -0.104868  0.608138 -0.029116  \n",
      "39490  0.073932 -0.027878  0.270814 -0.166512 -0.097407  0.531346 -0.028519  \n",
      "39491  0.028575 -0.006901  0.299695 -0.137659 -0.096913  0.594908 -0.038693  \n",
      "39492 -0.007662  0.011110  0.256330 -0.152897 -0.074632  0.614688 -0.050001  \n",
      "39493 -0.025103  0.001391  0.261015 -0.171796 -0.085297  0.561238 -0.027772  \n",
      "39494 -0.053800  0.031110  0.212737 -0.171967 -0.040785  0.600290 -0.054778  \n",
      "39495 -0.047506  0.014789  0.130631 -0.197017 -0.033386  0.556608 -0.071499  \n",
      "39496 -0.110996  0.024100  0.187325 -0.208956 -0.052471  0.579592 -0.048490  \n",
      "39497 -0.013778  0.017419  0.177053 -0.204733 -0.034049  0.567459 -0.134702  \n",
      "39498 -0.087195  0.016385  0.178220 -0.221832 -0.080697  0.589945 -0.097027  \n",
      "39499 -0.069354 -0.019467  0.150709 -0.315235 -0.063180  0.388909 -0.080790  \n",
      "\n",
      "[39500 rows x 64 columns]\n"
     ]
    }
   ],
   "source": [
    "average_hidden_pd = pd.DataFrame(np.row_stack(average_hidden_list))\n",
    "final_hidden_pd = pd.DataFrame(np.row_stack(final_hidden_list))\n",
    "hidden_state = pd.DataFrame(np.row_stack(hs_list))\n",
    "print(hidden_state)"
   ]
  },
  {
   "cell_type": "code",
   "execution_count": 9,
   "metadata": {},
   "outputs": [],
   "source": [
    "average_hidden_pd.to_csv(\"lenzi_neg_reps_10Y_2.csv\")\n",
    "final_hidden_pd.to_csv(\"lenzi_neg_finalhidden_10Y_2.csv\")"
   ]
  },
  {
   "cell_type": "code",
   "execution_count": 4,
   "metadata": {},
   "outputs": [
    {
     "ename": "NameError",
     "evalue": "name 'QVQLVQSGAEVKKPGASVKVSCKASGYTFTDYYMHWVRQAPGQGLEWMGRVNPNRRGTTYNQKFEGRVTMTTDTSTSTAYMELRSLRSDDTAVYYCARANWLDYWGQGTTVTVSS' is not defined",
     "output_type": "error",
     "traceback": [
      "\u001b[0;31m---------------------------------------------------------------------------\u001b[0m",
      "\u001b[0;31mNameError\u001b[0m                                 Traceback (most recent call last)",
      "\u001b[0;32m<ipython-input-4-2661d4686aef>\u001b[0m in \u001b[0;36m<module>\u001b[0;34m()\u001b[0m\n\u001b[0;32m----> 1\u001b[0;31m \u001b[0mavg_hidden\u001b[0m\u001b[0;34m,\u001b[0m \u001b[0mfinal_hidden\u001b[0m\u001b[0;34m,\u001b[0m \u001b[0mfinal_cell\u001b[0m \u001b[0;34m=\u001b[0m \u001b[0;34m(\u001b[0m\u001b[0mb\u001b[0m\u001b[0;34m.\u001b[0m\u001b[0mget_rep\u001b[0m\u001b[0;34m(\u001b[0m\u001b[0mQVQLVQSGAEVKKPGASVKVSCKASGYTFTDYYMHWVRQAPGQGLEWMGRVNPNRRGTTYNQKFEGRVTMTTDTSTSTAYMELRSLRSDDTAVYYCARANWLDYWGQGTTVTVSS\u001b[0m\u001b[0;34m)\u001b[0m\u001b[0;34m)\u001b[0m\u001b[0;34m\u001b[0m\u001b[0m\n\u001b[0m",
      "\u001b[0;31mNameError\u001b[0m: name 'QVQLVQSGAEVKKPGASVKVSCKASGYTFTDYYMHWVRQAPGQGLEWMGRVNPNRRGTTYNQKFEGRVTMTTDTSTSTAYMELRSLRSDDTAVYYCARANWLDYWGQGTTVTVSS' is not defined"
     ]
    }
   ],
   "source": [
    "avg_hidden, final_hidden, final_cell = (b.get_rep(QVQLVQSGAEVKKPGASVKVSCKASGYTFTDYYMHWVRQAPGQGLEWMGRVNPNRRGTTYNQKFEGRVTMTTDTSTSTAYMELRSLRSDDTAVYYCARANWLDYWGQGTTVTVSS))"
   ]
  },
  {
   "cell_type": "code",
   "execution_count": 10,
   "metadata": {
    "collapsed": true
   },
   "outputs": [],
   "source": [
    "import pickle\n",
    "save_loc = \"C:\\\\Users\\\\pkinn\\\\Documents\\\\UniRep\\\\full representations\\\\emi larger set\\\\\"\n",
    "data_name = 'lenzi_neg_reps_10Y_2'\n",
    "file_append = '.pickle'\n",
    "\n",
    "\n",
    "fn = save_loc + data_name + 'avg_hidden' + file_append\n",
    "with open(fn, 'wb') as f:\n",
    "    pickle.dump(average_hidden_list, f)\n",
    "\n",
    "fn = save_loc + data_name + 'final_hidden' + file_append\n",
    "with open(fn, 'wb') as f:\n",
    "    pickle.dump(final_hidden_list, f)\n",
    "\n",
    "fn = save_loc + data_name + 'final_cell' + file_append\n",
    "with open(fn, 'wb') as f:\n",
    "    pickle.dump(final_cell_list, f)\n",
    "   \n",
    "fn = save_loc + data_name + 'hidden_state' + file_append\n",
    "with open(fn, 'wb') as f:\n",
    "    pickle.dump(hs_list, f)\n",
    "   \n",
    "fn = save_loc + data_name + 'all_output_hs' + file_append\n",
    "with open(fn, 'wb') as f:\n",
    "    pickle.dump([average_hidden_list, final_hidden_list, final_cell_list, hs_list], f)"
   ]
  },
  {
   "cell_type": "code",
   "execution_count": null,
   "metadata": {
    "collapsed": true
   },
   "outputs": [],
   "source": []
  }
 ],
 "metadata": {
  "kernelspec": {
   "display_name": "Python 3",
   "language": "python",
   "name": "python3"
  },
  "language_info": {
   "codemirror_mode": {
    "name": "ipython",
    "version": 3
   },
   "file_extension": ".py",
   "mimetype": "text/x-python",
   "name": "python",
   "nbconvert_exporter": "python",
   "pygments_lexer": "ipython3",
   "version": "3.5.2"
  }
 },
 "nbformat": 4,
 "nbformat_minor": 2
}
