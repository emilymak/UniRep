{
 "cells": [
  {
   "cell_type": "code",
   "execution_count": 1,
   "metadata": {
    "collapsed": true
   },
   "outputs": [],
   "source": [
    "USE_FULL_1900_DIM_MODEL = False # if True use 1900 dimensional model, else use 64 dimensional one."
   ]
  },
  {
   "cell_type": "code",
   "execution_count": 2,
   "metadata": {
    "collapsed": true
   },
   "outputs": [],
   "source": [
    "import tensorflow as tf\n",
    "import numpy as np\n",
    "import pandas as pd\n",
    "import matplotlib.pyplot as plt\n",
    "\n",
    "# Set seeds\n",
    "tf.set_random_seed(42)\n",
    "np.random.seed(42)\n",
    "\n",
    "if USE_FULL_1900_DIM_MODEL:\n",
    "    # Sync relevant weight files\n",
    "    !aws s3 sync --no-sign-request --quiet s3://unirep-public/1900_weights/ 1900_weights/\n",
    "    \n",
    "    # Import the mLSTM babbler model\n",
    "    from unirep import babbler1900 as babbler\n",
    "    \n",
    "    # Where model weights are stored.\n",
    "    MODEL_WEIGHT_PATH = \"./1900_weights\"\n",
    "    \n",
    "else:\n",
    "    # Sync relevant weight files\n",
    "    !aws s3 sync --no-sign-request --quiet s3://unirep-public/64_weights/ 64_weights/\n",
    "    \n",
    "    # Import the mLSTM babbler model\n",
    "    from unirep import babbler64 as babbler\n",
    "    \n",
    "    # Where model weights are stored.\n",
    "    MODEL_WEIGHT_PATH = \"./64_weights\""
   ]
  },
  {
   "cell_type": "code",
   "execution_count": 3,
   "metadata": {},
   "outputs": [
    {
     "name": "stderr",
     "output_type": "stream",
     "text": [
      "/usr/local/lib/python3.5/dist-packages/h5py/__init__.py:34: FutureWarning: Conversion of the second argument of issubdtype from `float` to `np.floating` is deprecated. In future, it will be treated as `np.float64 == np.dtype(float).type`.\n",
      "  from ._conv import register_converters as _register_converters\n"
     ]
    }
   ],
   "source": [
    "batch_size = 50\n",
    "b = babbler(batch_size=batch_size, model_path=MODEL_WEIGHT_PATH)"
   ]
  },
  {
   "cell_type": "code",
   "execution_count": 4,
   "metadata": {
    "collapsed": true,
    "scrolled": true
   },
   "outputs": [],
   "source": [
    "# Before you can train your model, \n",
    "sequences = []\n",
    "with open(\"lenzi_IgG_seqs.txt\", \"r\") as source:\n",
    "    with open(\"formatted.txt\", \"w\") as destination:\n",
    "        for i,seq in enumerate(source):\n",
    "            seq = seq.strip()\n",
    "            sequences.append(seq)\n",
    "            if b.is_valid_seq(seq) and len(seq) < 275: \n",
    "                formatted = \",\".join(map(str,b.format_seq(seq)))\n",
    "                destination.write(formatted)\n",
    "                destination.write('\\n')"
   ]
  },
  {
   "cell_type": "code",
   "execution_count": 5,
   "metadata": {
    "scrolled": false
   },
   "outputs": [
    {
     "ename": "IndexError",
     "evalue": "list index out of range",
     "output_type": "error",
     "traceback": [
      "\u001b[0;31m---------------------------------------------------------------------------\u001b[0m",
      "\u001b[0;31mIndexError\u001b[0m                                Traceback (most recent call last)",
      "\u001b[0;32m<ipython-input-5-15decadfd271>\u001b[0m in \u001b[0;36m<module>\u001b[0;34m()\u001b[0m\n\u001b[1;32m     12\u001b[0m     \u001b[0mnum1\u001b[0m \u001b[0;34m=\u001b[0m \u001b[0mrange\u001b[0m\u001b[0;34m(\u001b[0m\u001b[0mx\u001b[0m\u001b[0;34m,\u001b[0m \u001b[0my\u001b[0m\u001b[0;34m)\u001b[0m\u001b[0;34m\u001b[0m\u001b[0m\n\u001b[1;32m     13\u001b[0m     \u001b[0;32mfor\u001b[0m \u001b[0mj\u001b[0m \u001b[0;32min\u001b[0m \u001b[0mnum1\u001b[0m\u001b[0;34m:\u001b[0m\u001b[0;34m\u001b[0m\u001b[0m\n\u001b[0;32m---> 14\u001b[0;31m         \u001b[0mavg_hidden\u001b[0m\u001b[0;34m,\u001b[0m \u001b[0mfinal_hidden\u001b[0m\u001b[0;34m,\u001b[0m \u001b[0mfinal_cell\u001b[0m\u001b[0;34m,\u001b[0m \u001b[0mhs_out\u001b[0m \u001b[0;34m=\u001b[0m \u001b[0;34m(\u001b[0m\u001b[0mb\u001b[0m\u001b[0;34m.\u001b[0m\u001b[0mget_rep_hs\u001b[0m\u001b[0;34m(\u001b[0m\u001b[0msequences\u001b[0m\u001b[0;34m[\u001b[0m\u001b[0mj\u001b[0m\u001b[0;34m]\u001b[0m\u001b[0;34m)\u001b[0m\u001b[0;34m)\u001b[0m\u001b[0;34m\u001b[0m\u001b[0m\n\u001b[0m\u001b[1;32m     15\u001b[0m         \u001b[0maverage_hidden_list\u001b[0m\u001b[0;34m.\u001b[0m\u001b[0mappend\u001b[0m\u001b[0;34m(\u001b[0m\u001b[0mavg_hidden\u001b[0m\u001b[0;34m)\u001b[0m\u001b[0;34m\u001b[0m\u001b[0m\n\u001b[1;32m     16\u001b[0m         \u001b[0mfinal_hidden_list\u001b[0m\u001b[0;34m.\u001b[0m\u001b[0mappend\u001b[0m\u001b[0;34m(\u001b[0m\u001b[0mfinal_hidden\u001b[0m\u001b[0;34m)\u001b[0m\u001b[0;34m\u001b[0m\u001b[0m\n",
      "\u001b[0;31mIndexError\u001b[0m: list index out of range"
     ]
    }
   ],
   "source": [
    "## \n",
    "average_hidden_list = []\n",
    "final_hidden_list = []\n",
    "hs_list = []\n",
    "final_cell_list = []\n",
    "\n",
    "\n",
    "num2 = range(0, 50)\n",
    "x = 0\n",
    "y = 50\n",
    "for i in num2:\n",
    "    num1 = range(x, y)\n",
    "    for j in num1:\n",
    "        avg_hidden, final_hidden, final_cell, hs_out = (b.get_rep_hs(sequences[j]))\n",
    "        average_hidden_list.append(avg_hidden)\n",
    "        final_hidden_list.append(final_hidden)\n",
    "        final_cell_list.append(final_cell)\n",
    "        hs_list.append(hs_out)\n",
    "    print('rep')\n",
    "    x = x + 50\n",
    "    y = y + 50\n",
    "    \n"
   ]
  },
  {
   "cell_type": "code",
   "execution_count": 6,
   "metadata": {
    "scrolled": true
   },
   "outputs": [
    {
     "name": "stdout",
     "output_type": "stream",
     "text": [
      "          0         1         2         3         4         5         6   \\\n",
      "0   0.020610  0.145407 -0.120054 -0.932633 -0.013100 -0.245656  0.053652   \n",
      "1   0.017736  0.148150 -0.119509 -0.936535 -0.012785 -0.260615  0.057269   \n",
      "2   0.017736  0.148150 -0.119509 -0.936535 -0.012785 -0.260615  0.057269   \n",
      "3   0.019182  0.148362 -0.123810 -0.933355 -0.014555 -0.254277  0.056301   \n",
      "4   0.015054  0.149194 -0.121009 -0.935461 -0.013920 -0.259639  0.058716   \n",
      "5   0.015386  0.148215 -0.121974 -0.933573 -0.013413 -0.255779  0.056615   \n",
      "6   0.019942  0.153960 -0.114148 -0.936296 -0.006929 -0.243435  0.055108   \n",
      "7   0.018800  0.147051 -0.119155 -0.935827 -0.013196 -0.257927  0.056387   \n",
      "8   0.019037  0.150681 -0.121480 -0.931899 -0.009484 -0.256503  0.057348   \n",
      "9   0.014978  0.146661 -0.117601 -0.935768 -0.012224 -0.257753  0.058429   \n",
      "10  0.017106  0.147859 -0.116981 -0.937364 -0.011710 -0.261494  0.057818   \n",
      "11  0.017052  0.149506 -0.122949 -0.929077 -0.009561 -0.261849  0.056959   \n",
      "12  0.016619  0.149919 -0.123555 -0.933380 -0.013872 -0.254775  0.056822   \n",
      "13  0.015054  0.149194 -0.121009 -0.935461 -0.013920 -0.259639  0.058716   \n",
      "14  0.019096  0.149592 -0.122594 -0.934682 -0.015095 -0.251932  0.057687   \n",
      "15  0.018443  0.149324 -0.120736 -0.936202 -0.013545 -0.261768  0.056164   \n",
      "16  0.018867  0.151064 -0.119283 -0.936440 -0.012596 -0.259360  0.058441   \n",
      "17  0.030538  0.161551 -0.122810 -0.928819 -0.008952 -0.236525  0.058364   \n",
      "\n",
      "          7         8         9     ...           54        55        56  \\\n",
      "0   0.241472  0.305474 -0.348882    ...     0.119626  0.001963  0.026202   \n",
      "1   0.244190  0.306328 -0.356701    ...     0.117213  0.000799  0.017354   \n",
      "2   0.244190  0.306328 -0.356701    ...     0.117213  0.000799  0.017354   \n",
      "3   0.240856  0.305588 -0.357856    ...     0.117716  0.000771  0.017860   \n",
      "4   0.245441  0.305494 -0.360983    ...     0.118068  0.000679  0.016756   \n",
      "5   0.243722  0.306216 -0.357464    ...     0.118176  0.000572  0.016430   \n",
      "6   0.242099  0.299824 -0.342325    ...     0.120616 -0.001080  0.026345   \n",
      "7   0.240878  0.306955 -0.355045    ...     0.116355  0.001103  0.019268   \n",
      "8   0.247603  0.305061 -0.361707    ...     0.116341  0.000061  0.018596   \n",
      "9   0.244721  0.305074 -0.358715    ...     0.118543  0.001051  0.016257   \n",
      "10  0.243834  0.306291 -0.355458    ...     0.116611  0.000657  0.016600   \n",
      "11  0.252248  0.306051 -0.366648    ...     0.117688  0.000097  0.018830   \n",
      "12  0.244451  0.305167 -0.359379    ...     0.118545 -0.000383  0.017270   \n",
      "13  0.245441  0.305494 -0.360983    ...     0.118068  0.000679  0.016756   \n",
      "14  0.241472  0.304928 -0.357695    ...     0.117495  0.000629  0.017076   \n",
      "15  0.244310  0.308593 -0.358317    ...     0.116611  0.000757  0.017096   \n",
      "16  0.244169  0.305026 -0.358677    ...     0.117592  0.000408  0.018474   \n",
      "17  0.236810  0.294027 -0.363630    ...     0.118571 -0.002781  0.020014   \n",
      "\n",
      "          57        58        59        60        61        62        63  \n",
      "0  -0.021450 -0.028785  0.298549 -0.159127 -0.045497  0.494790 -0.032739  \n",
      "1  -0.016494 -0.029149  0.301934 -0.161319 -0.046701  0.501507 -0.032025  \n",
      "2  -0.016494 -0.029149  0.301934 -0.161319 -0.046701  0.501507 -0.032025  \n",
      "3  -0.017752 -0.027265  0.296906 -0.161170 -0.047088  0.500047 -0.032211  \n",
      "4  -0.016811 -0.028132  0.300221 -0.161202 -0.046873  0.503532 -0.031885  \n",
      "5  -0.016860 -0.027948  0.298194 -0.160300 -0.045915  0.500638 -0.031816  \n",
      "6  -0.032561 -0.029376  0.304622 -0.158137 -0.049307  0.474935 -0.033160  \n",
      "7  -0.018461 -0.028511  0.300940 -0.159873 -0.047132  0.502850 -0.031137  \n",
      "8  -0.018398 -0.029104  0.304885 -0.166271 -0.047334  0.502060 -0.037228  \n",
      "9  -0.017868 -0.029144  0.300598 -0.160741 -0.047031  0.501309 -0.031602  \n",
      "10 -0.017319 -0.029060  0.304358 -0.161061 -0.046697  0.500792 -0.030907  \n",
      "11 -0.016752 -0.029403  0.299548 -0.165689 -0.046957  0.503817 -0.040689  \n",
      "12 -0.017025 -0.027813  0.300587 -0.161994 -0.046130  0.499712 -0.031605  \n",
      "13 -0.016811 -0.028132  0.300221 -0.161202 -0.046873  0.503532 -0.031885  \n",
      "14 -0.017894 -0.026973  0.299555 -0.161802 -0.046535  0.499791 -0.030437  \n",
      "15 -0.015240 -0.029075  0.297520 -0.162186 -0.046208  0.499571 -0.033845  \n",
      "16 -0.017389 -0.029117  0.304962 -0.162421 -0.047137  0.500489 -0.032261  \n",
      "17 -0.025320 -0.027564  0.319475 -0.169415 -0.050752  0.482685 -0.032551  \n",
      "\n",
      "[18 rows x 64 columns]\n"
     ]
    }
   ],
   "source": [
    "average_hidden_pd = pd.DataFrame(np.row_stack(average_hidden_list))\n",
    "final_hidden_pd = pd.DataFrame(np.row_stack(final_hidden_list))\n",
    "hidden_state = pd.DataFrame(np.row_stack(hs_list))\n",
    "print(average_hidden_pd)"
   ]
  },
  {
   "cell_type": "code",
   "execution_count": 7,
   "metadata": {
    "collapsed": true
   },
   "outputs": [],
   "source": [
    "average_hidden_pd.to_csv(\"lenzi_IgG_reps.csv\")\n",
    "#final_hidden_pd.to_csv(\"input_finalhidden_pos_4.csv\")"
   ]
  },
  {
   "cell_type": "code",
   "execution_count": 8,
   "metadata": {
    "collapsed": true
   },
   "outputs": [],
   "source": [
    "import pickle\n",
    "save_loc = \"C:\\\\Users\\\\pkinn\\\\Documents\\\\UniRep\\\\full representations\\\\emi larger set\\\\\"\n",
    "data_name = 'ins_seq_2'\n",
    "file_append = '.pickle'\n",
    "\n",
    "\n",
    "fn = save_loc + data_name + 'avg_hidden' + file_append\n",
    "with open(fn, 'wb') as f:\n",
    "    pickle.dump(average_hidden_list, f)\n",
    "\n",
    "fn = save_loc + data_name + 'final_hidden' + file_append\n",
    "with open(fn, 'wb') as f:\n",
    "    pickle.dump(final_hidden_list, f)\n",
    "\n",
    "fn = save_loc + data_name + 'final_cell' + file_append\n",
    "with open(fn, 'wb') as f:\n",
    "    pickle.dump(final_cell_list, f)\n",
    "   \n",
    "fn = save_loc + data_name + 'hidden_state' + file_append\n",
    "with open(fn, 'wb') as f:\n",
    "    pickle.dump(hs_list, f)\n",
    "   \n",
    "fn = save_loc + data_name + 'all_output_hs' + file_append\n",
    "with open(fn, 'wb') as f:\n",
    "    pickle.dump([average_hidden_list, final_hidden_list, final_cell_list, hs_list], f)"
   ]
  },
  {
   "cell_type": "code",
   "execution_count": null,
   "metadata": {
    "collapsed": true
   },
   "outputs": [],
   "source": []
  },
  {
   "cell_type": "code",
   "execution_count": null,
   "metadata": {
    "collapsed": true
   },
   "outputs": [],
   "source": []
  }
 ],
 "metadata": {
  "kernelspec": {
   "display_name": "Python 3",
   "language": "python",
   "name": "python3"
  },
  "language_info": {
   "codemirror_mode": {
    "name": "ipython",
    "version": 3
   },
   "file_extension": ".py",
   "mimetype": "text/x-python",
   "name": "python",
   "nbconvert_exporter": "python",
   "pygments_lexer": "ipython3",
   "version": "3.5.2"
  }
 },
 "nbformat": 4,
 "nbformat_minor": 2
}
