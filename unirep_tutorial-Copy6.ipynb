{
 "cells": [
  {
   "cell_type": "markdown",
   "metadata": {},
   "source": [
    "## How to use the UniRep mLSTM \"babbler\". This version demonstrates the 64-unit and the 1900-unit architecture. \n",
    "\n",
    "We recommend getting started with the 64-unit architecture as it is easier and faster to run, but has the same interface as the 1900-unit one."
   ]
  },
  {
   "cell_type": "markdown",
   "metadata": {},
   "source": [
    "Use the 64-unit or the 1900-unit model?"
   ]
  },
  {
   "cell_type": "code",
   "execution_count": 1,
   "metadata": {
    "collapsed": true
   },
   "outputs": [],
   "source": [
    "USE_FULL_1900_DIM_MODEL = False # if True use 1900 dimensional model, else use 64 dimensional one."
   ]
  },
  {
   "cell_type": "markdown",
   "metadata": {},
   "source": [
    "## Setup"
   ]
  },
  {
   "cell_type": "code",
   "execution_count": 2,
   "metadata": {
    "collapsed": true
   },
   "outputs": [],
   "source": [
    "import tensorflow as tf\n",
    "import numpy as np\n",
    "import pandas as pd\n",
    "import matplotlib.pyplot as plt\n",
    "\n",
    "# Set seeds\n",
    "tf.set_random_seed(42)\n",
    "np.random.seed(42)\n",
    "\n",
    "if USE_FULL_1900_DIM_MODEL:\n",
    "    # Sync relevant weight files\n",
    "    !aws s3 sync --no-sign-request --quiet s3://unirep-public/1900_weights/ 1900_weights/\n",
    "    \n",
    "    # Import the mLSTM babbler model\n",
    "    from unirep import babbler1900 as babbler\n",
    "    \n",
    "    # Where model weights are stored.\n",
    "    MODEL_WEIGHT_PATH = \"./1900_weights\"\n",
    "    \n",
    "else:\n",
    "    # Sync relevant weight files\n",
    "    !aws s3 sync --no-sign-request --quiet s3://unirep-public/64_weights/ 64_weights/\n",
    "    \n",
    "    # Import the mLSTM babbler model\n",
    "    from unirep import babbler64 as babbler\n",
    "    \n",
    "    # Where model weights are stored.\n",
    "    MODEL_WEIGHT_PATH = \"./64_weights\""
   ]
  },
  {
   "cell_type": "markdown",
   "metadata": {},
   "source": [
    "## Data formatting and management"
   ]
  },
  {
   "cell_type": "markdown",
   "metadata": {},
   "source": [
    "Initialize UniRep, also referred to as the \"babbler\" in our code. You need to provide the batch size you will use and the path to the weight directory."
   ]
  },
  {
   "cell_type": "code",
   "execution_count": 3,
   "metadata": {},
   "outputs": [
    {
     "name": "stderr",
     "output_type": "stream",
     "text": [
      "/usr/local/lib/python3.5/dist-packages/h5py/__init__.py:34: FutureWarning: Conversion of the second argument of issubdtype from `float` to `np.floating` is deprecated. In future, it will be treated as `np.float64 == np.dtype(float).type`.\n",
      "  from ._conv import register_converters as _register_converters\n"
     ]
    }
   ],
   "source": [
    "batch_size = 50\n",
    "b = babbler(batch_size=batch_size, model_path=MODEL_WEIGHT_PATH)"
   ]
  },
  {
   "cell_type": "markdown",
   "metadata": {},
   "source": [
    "UniRep needs to receive data in the correct format, a (batch_size, max_seq_len) matrix with integer values, where the integers correspond to an amino acid label at that position, and the end of the sequence is padded with 0s until the max sequence length to form a non-ragged rectangular matrix. We provide a formatting function to translate a string of amino acids into a list of integers with the correct codex:"
   ]
  },
  {
   "cell_type": "code",
   "execution_count": 4,
   "metadata": {
    "collapsed": true
   },
   "outputs": [],
   "source": [
    "seq_open = open(\"./emi_iso_seqs.txt\")\n",
    "seq = seq_open.read()"
   ]
  },
  {
   "cell_type": "code",
   "execution_count": 5,
   "metadata": {
    "collapsed": true
   },
   "outputs": [],
   "source": [
    "seq_formatted = []\n",
    "for line in seq.splitlines():\n",
    "    seq_formatted.append(np.array(b.format_seq(line)))"
   ]
  },
  {
   "cell_type": "markdown",
   "metadata": {},
   "source": [
    "We also provide a function that will check your amino acid sequences don't contain any characters which will break the UniRep model."
   ]
  },
  {
   "cell_type": "code",
   "execution_count": null,
   "metadata": {
    "collapsed": true
   },
   "outputs": [],
   "source": [
    "b.is_valid_seq(seq)"
   ]
  },
  {
   "cell_type": "markdown",
   "metadata": {},
   "source": [
    "You could use your own data flow as long as you ensure that the data format is obeyed. Alternatively, you can use the data flow we've implemented for UniRep training, which happens in the tensorflow graph. It reads from a file of integer sequences, shuffles them around, collects them into groups of similar length (to minimize padding waste) and pads them to the max_length. Here's how to do that:"
   ]
  },
  {
   "cell_type": "markdown",
   "metadata": {},
   "source": [
    "First, sequences need to be saved in the correct format. Suppose we have a new-line seperated file of amino acid sequences, `seqs.txt`, and we want to format them. Note that training is currently only publicly supported for amino acid sequences less than 275 amino acids as gradient updates for sequences longer than that start to get unwieldy. If you want to train on sequences longer than this, please reach out to us. \n",
    "\n",
    "Sequence formatting can be done as follows:"
   ]
  },
  {
   "cell_type": "code",
   "execution_count": 4,
   "metadata": {
    "collapsed": true
   },
   "outputs": [],
   "source": [
    "# Before you can train your model, \n",
    "sequences = []\n",
    "with open(\"lenzi_pos_seqs_10Y_4.txt\", \"r\") as source:\n",
    "    with open(\"formatted.txt\", \"w\") as destination:\n",
    "        for i,seq in enumerate(source):\n",
    "            seq = seq.strip()\n",
    "            sequences.append(seq)\n",
    "            if b.is_valid_seq(seq) and len(seq) < 275: \n",
    "                formatted = \",\".join(map(str,b.format_seq(seq)))\n",
    "                destination.write(formatted)\n",
    "                destination.write('\\n')"
   ]
  },
  {
   "cell_type": "markdown",
   "metadata": {},
   "source": [
    "This is what the integer format looks like"
   ]
  },
  {
   "cell_type": "code",
   "execution_count": null,
   "metadata": {
    "collapsed": true
   },
   "outputs": [],
   "source": [
    "!head -n1 formatted.txt"
   ]
  },
  {
   "cell_type": "markdown",
   "metadata": {},
   "source": [
    "Notice that by default format_seq does not include the stop symbol (25) at the end of the sequence. This is the correct behavior if you are trying to train a top model, but not if you are training UniRep representations."
   ]
  },
  {
   "cell_type": "markdown",
   "metadata": {},
   "source": [
    "Now we can use a custom function to bucket, batch and pad sequences from `formatted.txt` (which has the correct integer codex after calling `babbler.format_seq()`). The bucketing occurs in the graph. \n",
    "\n",
    "What is bucketing? Specify a lower and upper bound, and interval. All sequences less than lower or greater than upper will be batched together. The interval defines the \"sides\" of buckets between these bounds. Don't pick a small interval for a small dataset because the function will just repeat a sequence if there are not enough to\n",
    "fill a batch. All batches are the size you passed when initializing the babbler.\n",
    "\n",
    "This is also doing a few other things:\n",
    "- Shuffling the sequences by randomly sampling from a 10000 sequence buffer\n",
    "- Automatically padding the sequences with zeros so the returned batch is a perfect rectangle\n",
    "- Automatically repeating the dataset"
   ]
  },
  {
   "cell_type": "code",
   "execution_count": 7,
   "metadata": {
    "collapsed": true
   },
   "outputs": [],
   "source": [
    "bucket_op = b.bucket_batch_pad(\"formatted.txt\", interval=1000) # Large interval"
   ]
  },
  {
   "cell_type": "markdown",
   "metadata": {},
   "source": [
    "Inconveniently, this does not make it easy for a value to be associated with each sequence and not lost during shuffling. You can get around this by just prepending every integer sequence with the sequence label (eg, every sequence would be saved to the file as \"{brightness value}, 24, 1, 5,...\" and then you could just index out the first column after calling the `bucket_op`. Please reach out if you have questions on how to do this."
   ]
  },
  {
   "cell_type": "markdown",
   "metadata": {},
   "source": [
    "Now that we have the `bucket_op`, we can simply `sess.run()` it to get a correctly formatted batch"
   ]
  },
  {
   "cell_type": "code",
   "execution_count": 8,
   "metadata": {},
   "outputs": [
    {
     "name": "stdout",
     "output_type": "stream",
     "text": [
      "[[24 10 16 ... 16  7  7]\n",
      " [24 10 16 ... 16  7  7]\n",
      " [24 10 16 ... 16  7  7]\n",
      " ...\n",
      " [24 10 16 ... 16  7  7]\n",
      " [24 10 16 ... 16  7  7]\n",
      " [24 10 16 ... 16  7  7]]\n",
      "(50, 116)\n"
     ]
    }
   ],
   "source": [
    "with tf.Session() as sess:\n",
    "    sess.run(tf.global_variables_initializer())\n",
    "    batch = sess.run(bucket_op)\n",
    "    \n",
    "print(batch)\n",
    "print(batch.shape)"
   ]
  },
  {
   "cell_type": "markdown",
   "metadata": {},
   "source": [
    "You can look back and see that the batch_size we passed to __init__ is indeed 12, and the second dimension must be the longest sequence included in this batch. Now we have the data flow setup (note that as long as your batch looks like this, you don't need my flow), so we can proceed to implementing the graph. The module returns all the operations needed to feed in sequence and get out trainable representations."
   ]
  },
  {
   "cell_type": "markdown",
   "metadata": {},
   "source": [
    "## Training a top model and a top model + mLSTM."
   ]
  },
  {
   "cell_type": "markdown",
   "metadata": {},
   "source": [
    "First, obtain all of the ops needed to output a representation"
   ]
  },
  {
   "cell_type": "code",
   "execution_count": 9,
   "metadata": {
    "collapsed": true
   },
   "outputs": [],
   "source": [
    "final_hidden, x_placeholder, batch_size_placeholder, seq_length_placeholder, initial_state_placeholder = (\n",
    "    b.get_rep_ops())"
   ]
  },
  {
   "cell_type": "markdown",
   "metadata": {},
   "source": [
    "`final_hidden` should be a batch_size x rep_dim matrix.\n",
    "\n",
    "Lets say we want to train a basic feed-forward network as the top model, doing regression with MSE loss, and the Adam optimizer. We can do that by:\n",
    "\n",
    "1.  Defining a loss function.\n",
    "\n",
    "2.  Defining an optimizer that's only optimizing variables in the top model.\n",
    "\n",
    "3.  Minimizing the loss inside of a TensorFlow session"
   ]
  },
  {
   "cell_type": "code",
   "execution_count": 10,
   "metadata": {
    "collapsed": true
   },
   "outputs": [],
   "source": [
    "y_placeholder = tf.placeholder(tf.float32, shape=[None,1], name=\"y\")\n",
    "initializer = tf.contrib.layers.xavier_initializer(uniform=False)\n",
    "\n",
    "with tf.variable_scope(\"top\"):\n",
    "    prediction = tf.contrib.layers.fully_connected(\n",
    "        final_hidden, 1, activation_fn=None, \n",
    "        weights_initializer=initializer,\n",
    "        biases_initializer=tf.zeros_initializer()\n",
    "    )\n",
    "\n",
    "loss = tf.losses.mean_squared_error(y_placeholder, prediction)"
   ]
  },
  {
   "cell_type": "markdown",
   "metadata": {},
   "source": [
    "You can specifically train the top model first by isolating variables of the \"top\" scope, and forcing the optimizer to only optimize these."
   ]
  },
  {
   "cell_type": "code",
   "execution_count": 11,
   "metadata": {
    "collapsed": true
   },
   "outputs": [],
   "source": [
    "learning_rate=.005\n",
    "top_variables = tf.get_collection(tf.GraphKeys.GLOBAL_VARIABLES, scope=\"top\")\n",
    "optimizer = tf.train.AdamOptimizer(learning_rate)\n",
    "top_only_step_op = optimizer.minimize(loss, var_list=top_variables)\n",
    "all_step_op = optimizer.minimize(loss)"
   ]
  },
  {
   "cell_type": "markdown",
   "metadata": {},
   "source": [
    "We next need to define a function that allows us to calculate the length each sequence in the batch so that we know what index to use to obtain the right \"final\" hidden state"
   ]
  },
  {
   "cell_type": "code",
   "execution_count": 12,
   "metadata": {},
   "outputs": [
    {
     "data": {
      "text/plain": [
       "array([116, 116, 116, 116, 116, 116, 116, 116, 116, 116, 116, 116, 116,\n",
       "       116, 116, 116, 116, 116, 116, 116, 116, 116, 116, 116, 116, 116,\n",
       "       116, 116, 116, 116, 116, 116, 116, 116, 116, 116, 116, 116, 116,\n",
       "       116, 116, 116, 116, 116, 116, 116, 116, 116, 116, 116])"
      ]
     },
     "execution_count": 12,
     "metadata": {},
     "output_type": "execute_result"
    }
   ],
   "source": [
    "def nonpad_len(batch):\n",
    "    nonzero = batch > 0\n",
    "    lengths = np.sum(nonzero, axis=1)\n",
    "    return lengths\n",
    "\n",
    "nonpad_len(batch)"
   ]
  },
  {
   "cell_type": "markdown",
   "metadata": {},
   "source": [
    "We are ready to train. As an illustration, let's learn to predict the number 42 just optimizing the top model."
   ]
  },
  {
   "cell_type": "code",
   "execution_count": null,
   "metadata": {
    "collapsed": true
   },
   "outputs": [],
   "source": [
    "\"\"\"\n",
    "y = [[1], [1], [1], [0], [0], [0], [0], [0], [0], [1], [1], [1], [1], [0], [0], [0], [1], [0], [1], [1], [1], [1], [0], [1], [0], [0], [0], [1], [0], [1], [1], [0], [1], [0], [1], [0], [1], [1], [1], [1], [0], [1], [1], [1], [1], [0], [0], [1], [1], [1], [1], [1], [0], [1], [1], [1], [1], [1], [1], [1], [0], [1], [1]]\n",
    "num_iters = 1\n",
    "with tf.Session() as sess:\n",
    "    sess.run(tf.global_variables_initializer())\n",
    "    for i in range(num_iters):\n",
    "        batch = sess.run(bucket_op)\n",
    "        length = nonpad_len(batch)\n",
    "        loss_, __, = sess.run([loss, top_only_step_op],\n",
    "                feed_dict={\n",
    "                     x_placeholder: batch,\n",
    "                     y_placeholder: y,\n",
    "                     batch_size_placeholder: batch_size,\n",
    "                     seq_length_placeholder:length,\n",
    "                     initial_state_placeholder:b._zero_state\n",
    "                }\n",
    "        )\n",
    "        viscosity_pred, final_hidden_layer = sess.run([prediction, final_hidden],\n",
    "                feed_dict={\n",
    "                     x_placeholder: batch,\n",
    "                     batch_size_placeholder: batch_size,\n",
    "                     seq_length_placeholder:length,\n",
    "                     initial_state_placeholder:b._zero_state})\n",
    "        print(\"Iteration {0}: {1}\".format(i,loss_))\n",
    "#    print(np.hstack([viscosity_pred, y])\n",
    "    print(final_hidden_layer)\n",
    "    plt.scatter(viscosity_pred, y)\n",
    "    plt.show()\n",
    "\"\"\""
   ]
  },
  {
   "cell_type": "markdown",
   "metadata": {},
   "source": [
    "We can also jointly train the top model and the mLSTM. Note that if using the 1900-unit (full) model, you will need a GPU with at least 16GB RAM. To see a demonstration of joint training with fewer computational resources, please run this notebook using the 64-unit model."
   ]
  },
  {
   "cell_type": "code",
   "execution_count": null,
   "metadata": {
    "collapsed": true
   },
   "outputs": [],
   "source": [
    "\"\"\"y = [[1], [1], [1], [0], [0], [0], [0], [0], [0], [1], [1], [1], [1], [0], [0], [0], [1], [0], [1], [1], [1], [1], [0], [1], [0], [0], [0], [1], [0], [1], [1], [0], [1], [0], [1], [0], [1], [1], [1], [1], [0], [1], [1], [1], [1], [0], [0], [1], [1], [1], [1], [1], [0], [1], [1], [1], [1], [1], [1], [1], [0], [1], [1]]\n",
    "num_iters = 25\n",
    "with tf.Session() as sess:\n",
    "    sess.run(tf.global_variables_initializer())\n",
    "    for i in range(num_iters):\n",
    "        batch = sess.run(bucket_op)\n",
    "        length = nonpad_len(batch)\n",
    "        loss_, __, = sess.run([loss, all_step_op],\n",
    "                feed_dict={\n",
    "                     x_placeholder: batch,\n",
    "                     y_placeholder: y,\n",
    "                     batch_size_placeholder: batch_size,\n",
    "                     seq_length_placeholder:length,\n",
    "                     initial_state_placeholder:b._zero_state\n",
    "                }\n",
    "        )\n",
    "        viscosity_pred = sess.run(prediction,\n",
    "                feed_dict={\n",
    "                     x_placeholder: batch,\n",
    "                     batch_size_placeholder: batch_size,\n",
    "                     seq_length_placeholder:length,\n",
    "                     initial_state_placeholder:b._zero_state})\n",
    "        print(\"Iteration {0}: {1}\".format(i,loss_))\n",
    "    print(np.hstack([viscosity_pred, y]))\n",
    "\"\"\""
   ]
  },
  {
   "cell_type": "code",
   "execution_count": 5,
   "metadata": {
    "scrolled": true
   },
   "outputs": [
    {
     "name": "stdout",
     "output_type": "stream",
     "text": [
      "rep\n",
      "rep\n",
      "rep\n",
      "rep\n",
      "rep\n",
      "rep\n",
      "rep\n",
      "rep\n",
      "rep\n",
      "rep\n",
      "rep\n",
      "rep\n",
      "rep\n",
      "rep\n",
      "rep\n",
      "rep\n",
      "rep\n",
      "rep\n",
      "rep\n",
      "rep\n",
      "rep\n",
      "rep\n",
      "rep\n",
      "rep\n",
      "rep\n",
      "rep\n",
      "rep\n",
      "rep\n",
      "rep\n",
      "rep\n",
      "rep\n",
      "rep\n",
      "rep\n",
      "rep\n",
      "rep\n",
      "rep\n",
      "rep\n",
      "rep\n",
      "rep\n",
      "rep\n",
      "rep\n",
      "rep\n",
      "rep\n",
      "rep\n",
      "rep\n",
      "rep\n",
      "rep\n",
      "rep\n",
      "rep\n",
      "rep\n",
      "rep\n",
      "rep\n",
      "rep\n",
      "rep\n",
      "rep\n",
      "rep\n",
      "rep\n",
      "rep\n",
      "rep\n",
      "rep\n",
      "rep\n",
      "rep\n",
      "rep\n",
      "rep\n",
      "rep\n",
      "rep\n",
      "rep\n",
      "rep\n",
      "rep\n",
      "rep\n",
      "rep\n",
      "rep\n",
      "rep\n",
      "rep\n",
      "rep\n",
      "rep\n",
      "rep\n",
      "rep\n",
      "rep\n",
      "rep\n",
      "rep\n",
      "rep\n",
      "rep\n",
      "rep\n",
      "rep\n",
      "rep\n",
      "rep\n",
      "rep\n",
      "rep\n",
      "rep\n",
      "rep\n",
      "rep\n",
      "rep\n",
      "rep\n",
      "rep\n",
      "rep\n",
      "rep\n",
      "rep\n",
      "rep\n",
      "rep\n",
      "rep\n",
      "rep\n",
      "rep\n",
      "rep\n",
      "rep\n",
      "rep\n",
      "rep\n",
      "rep\n",
      "rep\n",
      "rep\n",
      "rep\n",
      "rep\n",
      "rep\n",
      "rep\n",
      "rep\n",
      "rep\n",
      "rep\n",
      "rep\n",
      "rep\n",
      "rep\n",
      "rep\n",
      "rep\n",
      "rep\n",
      "rep\n",
      "rep\n",
      "rep\n",
      "rep\n",
      "rep\n",
      "rep\n",
      "rep\n",
      "rep\n",
      "rep\n",
      "rep\n",
      "rep\n",
      "rep\n",
      "rep\n",
      "rep\n",
      "rep\n",
      "rep\n",
      "rep\n",
      "rep\n",
      "rep\n",
      "rep\n",
      "rep\n",
      "rep\n",
      "rep\n",
      "rep\n",
      "rep\n",
      "rep\n",
      "rep\n",
      "rep\n",
      "rep\n",
      "rep\n",
      "rep\n",
      "rep\n",
      "rep\n",
      "rep\n",
      "rep\n",
      "rep\n",
      "rep\n",
      "rep\n",
      "rep\n",
      "rep\n",
      "rep\n",
      "rep\n",
      "rep\n",
      "rep\n",
      "rep\n",
      "rep\n",
      "rep\n",
      "rep\n",
      "rep\n",
      "rep\n",
      "rep\n",
      "rep\n",
      "rep\n",
      "rep\n",
      "rep\n",
      "rep\n",
      "rep\n",
      "rep\n",
      "rep\n",
      "rep\n"
     ]
    },
    {
     "ename": "IndexError",
     "evalue": "list index out of range",
     "output_type": "error",
     "traceback": [
      "\u001b[0;31m---------------------------------------------------------------------------\u001b[0m",
      "\u001b[0;31mIndexError\u001b[0m                                Traceback (most recent call last)",
      "\u001b[0;32m<ipython-input-5-abae7d084eab>\u001b[0m in \u001b[0;36m<module>\u001b[0;34m()\u001b[0m\n\u001b[1;32m     12\u001b[0m     \u001b[0mnum1\u001b[0m \u001b[0;34m=\u001b[0m \u001b[0mrange\u001b[0m\u001b[0;34m(\u001b[0m\u001b[0mx\u001b[0m\u001b[0;34m,\u001b[0m \u001b[0my\u001b[0m\u001b[0;34m)\u001b[0m\u001b[0;34m\u001b[0m\u001b[0m\n\u001b[1;32m     13\u001b[0m     \u001b[0;32mfor\u001b[0m \u001b[0mj\u001b[0m \u001b[0;32min\u001b[0m \u001b[0mnum1\u001b[0m\u001b[0;34m:\u001b[0m\u001b[0;34m\u001b[0m\u001b[0m\n\u001b[0;32m---> 14\u001b[0;31m         \u001b[0mavg_hidden\u001b[0m\u001b[0;34m,\u001b[0m \u001b[0mfinal_hidden\u001b[0m\u001b[0;34m,\u001b[0m \u001b[0mfinal_cell\u001b[0m\u001b[0;34m,\u001b[0m \u001b[0mhs_out\u001b[0m \u001b[0;34m=\u001b[0m \u001b[0;34m(\u001b[0m\u001b[0mb\u001b[0m\u001b[0;34m.\u001b[0m\u001b[0mget_rep_hs\u001b[0m\u001b[0;34m(\u001b[0m\u001b[0msequences\u001b[0m\u001b[0;34m[\u001b[0m\u001b[0mj\u001b[0m\u001b[0;34m]\u001b[0m\u001b[0;34m)\u001b[0m\u001b[0;34m)\u001b[0m\u001b[0;34m\u001b[0m\u001b[0m\n\u001b[0m\u001b[1;32m     15\u001b[0m         \u001b[0maverage_hidden_list\u001b[0m\u001b[0;34m.\u001b[0m\u001b[0mappend\u001b[0m\u001b[0;34m(\u001b[0m\u001b[0mavg_hidden\u001b[0m\u001b[0;34m)\u001b[0m\u001b[0;34m\u001b[0m\u001b[0m\n\u001b[1;32m     16\u001b[0m         \u001b[0mfinal_hidden_list\u001b[0m\u001b[0;34m.\u001b[0m\u001b[0mappend\u001b[0m\u001b[0;34m(\u001b[0m\u001b[0mfinal_hidden\u001b[0m\u001b[0;34m)\u001b[0m\u001b[0;34m\u001b[0m\u001b[0m\n",
      "\u001b[0;31mIndexError\u001b[0m: list index out of range"
     ]
    }
   ],
   "source": [
    "## \n",
    "average_hidden_list = []\n",
    "final_hidden_list = []\n",
    "hs_list = []\n",
    "final_cell_list = []\n",
    "\n",
    "\n",
    "num2 = range(0, 50)\n",
    "x = 0\n",
    "y = 50\n",
    "for i in num2:\n",
    "    num1 = range(x, y)\n",
    "    for j in num1:\n",
    "        avg_hidden, final_hidden, final_cell, hs_out = (b.get_rep_hs(sequences[j]))\n",
    "        average_hidden_list.append(avg_hidden)\n",
    "        final_hidden_list.append(final_hidden)\n",
    "        final_cell_list.append(final_cell)\n",
    "        hs_list.append(hs_out)\n",
    "        print('rep')\n",
    "    x = x + 50\n",
    "    y = y + 50\n",
    "    \n"
   ]
  },
  {
   "cell_type": "code",
   "execution_count": null,
   "metadata": {
    "collapsed": true
   },
   "outputs": [],
   "source": []
  },
  {
   "cell_type": "code",
   "execution_count": 6,
   "metadata": {},
   "outputs": [
    {
     "name": "stdout",
     "output_type": "stream",
     "text": [
      "             0         1         2         3         4         5         6   \\\n",
      "0     -0.165004  0.367741  0.358379 -0.652705  0.310745  0.112354  0.319343   \n",
      "1     -0.117507  0.015849 -0.005665 -0.945347 -0.161479 -0.059104  0.105382   \n",
      "2     -0.149950  0.035742 -0.040070 -0.982778 -0.080040 -0.096058  0.044528   \n",
      "3     -0.071795  0.100204 -0.063417 -0.986795  0.008397 -0.125489  0.072548   \n",
      "4     -0.059268  0.068293 -0.067980 -0.980529 -0.035562 -0.091877  0.018135   \n",
      "5     -0.006058  0.080899 -0.091961 -0.981459 -0.033209 -0.121571  0.013050   \n",
      "6     -0.051401  0.110002 -0.107895 -0.978658 -0.035257 -0.102357  0.035238   \n",
      "7      0.019964  0.069578 -0.095498 -0.978140 -0.050059 -0.092941  0.004678   \n",
      "8      0.035149  0.082405 -0.081118 -0.986739 -0.028930 -0.133066  0.020592   \n",
      "9     -0.007347  0.143629 -0.072519 -0.988234 -0.009851 -0.146884  0.055827   \n",
      "10    -0.011108  0.146124 -0.072513 -0.981836 -0.003423 -0.178665  0.021780   \n",
      "11     0.102804  0.121156 -0.056406 -0.980689 -0.007311 -0.174651  0.047031   \n",
      "12     0.024613  0.245574 -0.056957 -0.987129 -0.002754 -0.137906  0.048848   \n",
      "13     0.056284  0.189939 -0.071070 -0.964666 -0.007051 -0.083755  0.034446   \n",
      "14     0.053084  0.102598 -0.043938 -0.973664  0.008729 -0.033049  0.018732   \n",
      "15     0.046399  0.168291 -0.045277 -0.989611  0.011176 -0.047634 -0.003205   \n",
      "16    -0.017595  0.161685 -0.039933 -0.989882  0.000776 -0.046692  0.021617   \n",
      "17     0.052280  0.186658 -0.038593 -0.984139  0.029491 -0.096819 -0.014056   \n",
      "18     0.033918  0.147643 -0.031908 -0.987575  0.018213 -0.111897  0.014478   \n",
      "19    -0.001360  0.152630 -0.034647 -0.989222  0.004664 -0.096450  0.019756   \n",
      "20     0.017725  0.180424 -0.035717 -0.978073  0.009542 -0.040090 -0.007046   \n",
      "21    -0.010569  0.253632 -0.046540 -0.986258  0.013043 -0.046835  0.018753   \n",
      "22     0.014618  0.194855 -0.060609 -0.964744  0.023541 -0.083094  0.042144   \n",
      "23    -0.003599  0.143461 -0.074131 -0.979909 -0.004640 -0.052943 -0.000186   \n",
      "24     0.008019  0.125353 -0.092882 -0.924073  0.024342 -0.038320  0.016176   \n",
      "25     0.011956  0.186728 -0.062255 -0.962391  0.063119 -0.031165  0.038265   \n",
      "26     0.008531  0.109099 -0.054513 -0.966260  0.038061 -0.032165  0.001390   \n",
      "27    -0.015511  0.205201 -0.057790 -0.977129  0.059028 -0.020001  0.025425   \n",
      "28     0.013787  0.167330 -0.041172 -0.979845  0.034968 -0.059147  0.001895   \n",
      "29     0.031835  0.148362 -0.027574 -0.985327  0.033913 -0.095606  0.031413   \n",
      "...         ...       ...       ...       ...       ...       ...       ...   \n",
      "22845  0.045251  0.335583 -0.070175 -0.979203 -0.009855 -0.387476  0.069757   \n",
      "22846  0.057385  0.299209 -0.091433 -0.962522 -0.016396 -0.388448  0.065673   \n",
      "22847  0.014614  0.239663 -0.205863 -0.933461 -0.018639 -0.394549  0.054655   \n",
      "22848 -0.033590  0.193165 -0.252014 -0.913964 -0.010480 -0.348768  0.049224   \n",
      "22849 -0.014910  0.112513 -0.266743 -0.672336  0.002131 -0.234398  0.050286   \n",
      "22850 -0.004096  0.083287 -0.215134 -0.604999  0.000729 -0.295574  0.034356   \n",
      "22851  0.023947  0.124685 -0.202123 -0.817434 -0.021635 -0.350099  0.012705   \n",
      "22852  0.015702  0.082728 -0.165536 -0.872932 -0.006720 -0.335304 -0.025848   \n",
      "22853  0.038496  0.107199 -0.176275 -0.898322 -0.001369 -0.293082 -0.003319   \n",
      "22854 -0.044115  0.137323 -0.151763 -0.967824 -0.020075 -0.293737  0.014643   \n",
      "22855  0.039913  0.148444 -0.139234 -0.971367 -0.013581 -0.372472  0.056454   \n",
      "22856  0.044011  0.156605 -0.135451 -0.982577 -0.035169 -0.408848  0.057219   \n",
      "22857 -0.007223  0.137049 -0.170351 -0.971821 -0.019241 -0.390051  0.043247   \n",
      "22858 -0.003529  0.140936 -0.141365 -0.973351 -0.038858 -0.349381  0.092245   \n",
      "22859  0.045213  0.158927 -0.164378 -0.971756 -0.023668 -0.394461  0.096337   \n",
      "22860  0.036108  0.148974 -0.181393 -0.924299 -0.025332 -0.375844  0.078218   \n",
      "22861  0.013640  0.138775 -0.160260 -0.931079 -0.017452 -0.385502  0.088347   \n",
      "22862  0.023216  0.091509 -0.162774 -0.935708 -0.026045 -0.374949  0.064184   \n",
      "22863  0.026183  0.161044 -0.128811 -0.954128 -0.014853 -0.418718  0.097173   \n",
      "22864  0.081780  0.179590 -0.132239 -0.980663 -0.032096 -0.525114  0.083227   \n",
      "22865  0.042074  0.172393 -0.163569 -0.984495 -0.047099 -0.483115  0.051465   \n",
      "22866  0.042229  0.229592 -0.186152 -0.970240 -0.044719 -0.415549  0.063423   \n",
      "22867  0.058241  0.206941 -0.180458 -0.954078 -0.048268 -0.411598  0.096281   \n",
      "22868 -0.014140  0.142386 -0.316895 -0.917486 -0.059204 -0.393574  0.061246   \n",
      "22869  0.054211  0.143916 -0.340013 -0.779933 -0.046475 -0.353465  0.091693   \n",
      "22870  0.047455  0.110747 -0.238852 -0.837467 -0.037168 -0.408988  0.097172   \n",
      "22871  0.026383  0.109899 -0.209727 -0.895196 -0.045465 -0.461466  0.070983   \n",
      "22872  0.093709  0.151906 -0.199257 -0.906484 -0.035068 -0.490611  0.099265   \n",
      "22873  0.087361  0.142319 -0.154363 -0.959978 -0.033510 -0.572352  0.100444   \n",
      "22874  0.065172  0.109541 -0.120911 -0.954983 -0.025548 -0.456863  0.077168   \n",
      "\n",
      "             7         8         9     ...           54        55        56  \\\n",
      "0      0.479474  0.566543  0.441343    ...     0.537194  0.512816  0.240133   \n",
      "1      0.122901  0.049716 -0.096079    ...     0.032351  0.033621 -0.055703   \n",
      "2      0.089513  0.143008 -0.105348    ...     0.024890  0.015125 -0.023609   \n",
      "3      0.136738  0.168587 -0.123290    ...     0.041501  0.014029  0.029225   \n",
      "4      0.170694  0.107983 -0.165431    ...     0.046188  0.009338  0.037045   \n",
      "5      0.165641  0.139143 -0.172715    ...     0.053979  0.016953  0.063793   \n",
      "6      0.159790  0.164532 -0.133319    ...     0.057097  0.007669  0.067446   \n",
      "7      0.181194  0.138843 -0.163429    ...     0.061656  0.013315  0.085633   \n",
      "8      0.180380  0.175245 -0.160909    ...     0.043897  0.013297  0.078069   \n",
      "9      0.165973  0.191721 -0.238454    ...     0.054236 -0.008248 -0.028296   \n",
      "10     0.203062  0.193097 -0.264260    ...     0.064573 -0.005010  0.026961   \n",
      "11     0.247952  0.120759 -0.217409    ...     0.050909 -0.012394  0.017991   \n",
      "12     0.131467  0.169184 -0.303067    ...     0.046962 -0.019060 -0.024325   \n",
      "13     0.319084  0.159575 -0.230420    ...     0.076514 -0.027438  0.032291   \n",
      "14     0.313485  0.186063 -0.249592    ...     0.087082 -0.010809  0.056237   \n",
      "15     0.273389  0.128648 -0.315466    ...     0.110160 -0.013379  0.102675   \n",
      "16     0.266948  0.125378 -0.351110    ...     0.090584 -0.022273 -0.025244   \n",
      "17     0.364258  0.104187 -0.396869    ...     0.107651 -0.033697  0.108367   \n",
      "18     0.275418  0.166183 -0.326664    ...     0.059596 -0.021747  0.108152   \n",
      "19     0.189539  0.164498 -0.389573    ...     0.072539 -0.018387  0.085205   \n",
      "20     0.351391  0.125746 -0.298151    ...     0.111135 -0.027105  0.111858   \n",
      "21     0.151509  0.157287 -0.469065    ...     0.106660 -0.036672  0.053442   \n",
      "22     0.278623  0.169522 -0.271420    ...     0.108888 -0.022161  0.092709   \n",
      "23     0.157082  0.304046 -0.389941    ...     0.139405 -0.009720  0.141818   \n",
      "24     0.384959  0.169591 -0.276093    ...     0.206178 -0.011744  0.071080   \n",
      "25     0.317758  0.272899 -0.386198    ...     0.191574  0.006081  0.178238   \n",
      "26     0.298442  0.250710 -0.395650    ...     0.135237 -0.006502  0.143546   \n",
      "27     0.299764  0.284019 -0.505952    ...     0.142692 -0.082795  0.068770   \n",
      "28     0.297151  0.224567 -0.427764    ...     0.127404 -0.035387  0.049587   \n",
      "29     0.326790  0.259301 -0.344107    ...     0.083189 -0.030281  0.100999   \n",
      "...         ...       ...       ...    ...          ...       ...       ...   \n",
      "22845  0.150190  0.438811 -0.417772    ...     0.081297 -0.016802 -0.039160   \n",
      "22846  0.158353  0.431522 -0.402663    ...     0.097189 -0.004410 -0.018954   \n",
      "22847  0.154723  0.431043 -0.339202    ...     0.145271  0.000328  0.016890   \n",
      "22848  0.159715  0.370032 -0.315134    ...     0.154317  0.006827  0.002702   \n",
      "22849  0.214037  0.342469 -0.200256    ...     0.192784  0.009504  0.021377   \n",
      "22850  0.231594  0.372274 -0.247250    ...     0.201478  0.014167  0.048615   \n",
      "22851  0.207442  0.428453 -0.293204    ...     0.168290  0.016773  0.113551   \n",
      "22852  0.188009  0.374040 -0.237053    ...     0.135219  0.011171  0.023001   \n",
      "22853  0.167010  0.396926 -0.324818    ...     0.162833  0.010196  0.073524   \n",
      "22854  0.235693  0.333318 -0.273391    ...     0.104404  0.003893 -0.034282   \n",
      "22855  0.239395  0.460668 -0.333713    ...     0.126719  0.010626  0.068055   \n",
      "22856  0.184743  0.393676 -0.335467    ...     0.119966  0.009094  0.048023   \n",
      "22857  0.140994  0.412829 -0.318851    ...     0.136130  0.010787  0.034533   \n",
      "22858  0.252159  0.387675 -0.246165    ...     0.076221  0.010459  0.064131   \n",
      "22859  0.160001  0.423671 -0.371915    ...     0.112248  0.009946  0.022234   \n",
      "22860  0.187457  0.345500 -0.322006    ...     0.170965  0.007451 -0.010545   \n",
      "22861  0.245146  0.381144 -0.351156    ...     0.170180  0.008356  0.026427   \n",
      "22862  0.245723  0.302988 -0.372612    ...     0.149541  0.007397 -0.021611   \n",
      "22863  0.243126  0.411526 -0.488396    ...     0.132216 -0.009496 -0.031824   \n",
      "22864  0.249369  0.357402 -0.507822    ...     0.109536 -0.018172 -0.024046   \n",
      "22865  0.154802  0.377827 -0.506932    ...     0.095166 -0.012379 -0.042051   \n",
      "22866  0.215346  0.364793 -0.352390    ...     0.115837  0.005871 -0.009535   \n",
      "22867  0.193986  0.402316 -0.316959    ...     0.111332  0.015649  0.031443   \n",
      "22868  0.101841  0.351406 -0.486909    ...     0.180813  0.006699  0.003740   \n",
      "22869  0.257113  0.408532 -0.286530    ...     0.201304  0.017861  0.072654   \n",
      "22870  0.211960  0.469853 -0.372146    ...     0.126086  0.017432  0.088542   \n",
      "22871  0.221467  0.407346 -0.442398    ...     0.119066  0.012504  0.054943   \n",
      "22872  0.289405  0.500142 -0.457567    ...     0.100853  0.019331  0.122052   \n",
      "22873  0.223785  0.468041 -0.464554    ...     0.069495 -0.001519  0.080935   \n",
      "22874  0.251213  0.385258 -0.443159    ...     0.103041 -0.019849  0.010129   \n",
      "\n",
      "             57        58        59        60        61        62        63  \n",
      "0      0.487939  0.511597  0.349602 -0.145424 -0.455004  0.441083  0.015762  \n",
      "1     -0.100180 -0.109079  0.861306 -0.030453 -0.004870  0.276220 -0.001159  \n",
      "2     -0.061344 -0.070064  0.872930 -0.087733 -0.027163  0.458864 -0.026906  \n",
      "3     -0.036227 -0.028498  0.874399 -0.076890 -0.076135  0.664418 -0.047361  \n",
      "4     -0.055834 -0.024499  0.828397 -0.097801 -0.040970  0.587182 -0.035725  \n",
      "5     -0.065255 -0.020831  0.807510 -0.080203 -0.074531  0.602184 -0.032362  \n",
      "6     -0.085975 -0.024998  0.802211 -0.078301 -0.048093  0.621827 -0.025963  \n",
      "7     -0.072331 -0.015654  0.789413 -0.077622 -0.036873  0.601786 -0.032838  \n",
      "8     -0.045717 -0.019460  0.735055 -0.088073 -0.056154  0.619219 -0.069592  \n",
      "9      0.044913 -0.022542  0.796862 -0.116380 -0.035516  0.595831 -0.038470  \n",
      "10    -0.032551 -0.031352  0.674358 -0.133492 -0.101365  0.492303 -0.091527  \n",
      "11    -0.097499 -0.009632  0.694540 -0.172704 -0.085258  0.548891 -0.029582  \n",
      "12    -0.137515 -0.009522  0.730874 -0.157711 -0.092096  0.507843 -0.023493  \n",
      "13    -0.207996 -0.019312  0.615043 -0.190200 -0.083326  0.436494 -0.033045  \n",
      "14    -0.149187 -0.001541  0.531279 -0.219266 -0.028953  0.442099  0.005680  \n",
      "15    -0.176560  0.000146  0.564199 -0.242235 -0.055378  0.445094 -0.011707  \n",
      "16    -0.056057 -0.021533  0.644116 -0.176776 -0.047873  0.426916 -0.033084  \n",
      "17    -0.119173 -0.012213  0.646087 -0.212360 -0.108696  0.405019 -0.064166  \n",
      "18    -0.114293 -0.029798  0.510106 -0.178779 -0.048619  0.452241 -0.075845  \n",
      "19    -0.153878 -0.016474  0.600128 -0.174358 -0.057601  0.477770 -0.002418  \n",
      "20    -0.273355 -0.023466  0.591382 -0.222463 -0.070758  0.419024 -0.000289  \n",
      "21    -0.154791 -0.026620  0.593208 -0.205800 -0.093358  0.425064 -0.004628  \n",
      "22    -0.224634 -0.015133  0.426570 -0.167575 -0.071403  0.472694 -0.032425  \n",
      "23    -0.084819 -0.042298  0.293065 -0.112372 -0.048078  0.386061 -0.011810  \n",
      "24    -0.229183 -0.021403  0.303429 -0.184154 -0.058205  0.398094 -0.025002  \n",
      "25    -0.093662 -0.008897  0.343711 -0.096041 -0.046066  0.503124 -0.075575  \n",
      "26    -0.156620 -0.036557  0.241181 -0.102214 -0.030687  0.459181 -0.052806  \n",
      "27     0.032481 -0.045792  0.369877 -0.117120 -0.014021  0.472085 -0.004533  \n",
      "28    -0.065791 -0.119934  0.256380 -0.105553 -0.054912  0.391613 -0.028204  \n",
      "29    -0.082602 -0.078912  0.231460 -0.105476 -0.052698  0.479750 -0.039959  \n",
      "...         ...       ...       ...       ...       ...       ...       ...  \n",
      "22845  0.090286 -0.033257  0.294185 -0.184543 -0.046750  0.562228 -0.018723  \n",
      "22846  0.096534 -0.032216  0.267498 -0.155828 -0.036031  0.623073 -0.021551  \n",
      "22847  0.045538 -0.029403  0.194356 -0.148965 -0.049449  0.560424 -0.028501  \n",
      "22848 -0.033286 -0.004309  0.164047 -0.146238 -0.056788  0.576671 -0.045379  \n",
      "22849 -0.000149 -0.005113  0.120617 -0.167485 -0.033699  0.461788 -0.046494  \n",
      "22850  0.012502 -0.014943  0.102651 -0.182995 -0.005666  0.377631 -0.048875  \n",
      "22851  0.038819 -0.036586  0.108150 -0.147649  0.006394  0.377251 -0.045736  \n",
      "22852 -0.005881 -0.042603  0.097056 -0.141453 -0.021301  0.355554 -0.044583  \n",
      "22853  0.037668 -0.037904  0.164692 -0.167240 -0.015516  0.442646 -0.020039  \n",
      "22854 -0.049427 -0.033103  0.160057 -0.132956 -0.037255  0.400993 -0.049868  \n",
      "22855  0.066182 -0.054418  0.158040 -0.151741 -0.048265  0.483426 -0.035850  \n",
      "22856  0.064642 -0.056281  0.161938 -0.137085 -0.038364  0.512078 -0.013790  \n",
      "22857  0.028204 -0.050717  0.145254 -0.125748 -0.041296  0.513909 -0.024253  \n",
      "22858  0.002870  0.000069  0.162469 -0.125583 -0.032245  0.528998 -0.006916  \n",
      "22859  0.047411 -0.002366  0.204155 -0.161310 -0.046974  0.602807  0.011703  \n",
      "22860  0.069658 -0.048561  0.208067 -0.141048 -0.043396  0.581903 -0.004382  \n",
      "22861  0.073011 -0.045332  0.186259 -0.135831 -0.006791  0.541353 -0.003710  \n",
      "22862  0.017899 -0.031892  0.124807 -0.145142 -0.042817  0.461879 -0.027891  \n",
      "22863  0.081827 -0.033727  0.192107 -0.140457 -0.017302  0.536902 -0.027936  \n",
      "22864  0.057922 -0.017109  0.197246 -0.166324 -0.085453  0.564073 -0.026930  \n",
      "22865  0.063085 -0.026838  0.209799 -0.145652 -0.081149  0.534139 -0.022474  \n",
      "22866  0.032707 -0.004115  0.238603 -0.124962 -0.073182  0.589639 -0.027547  \n",
      "22867  0.002566  0.015884  0.213785 -0.138124 -0.065978  0.634596 -0.031619  \n",
      "22868 -0.010983  0.004375  0.209834 -0.152915 -0.071309  0.581432 -0.020708  \n",
      "22869 -0.029967  0.025075  0.169078 -0.145918 -0.040474  0.612813 -0.042027  \n",
      "22870 -0.017381  0.002438  0.116948 -0.163063 -0.030503  0.564699 -0.059192  \n",
      "22871 -0.065672  0.012930  0.158253 -0.172431 -0.043932  0.585405 -0.046261  \n",
      "22872  0.011034 -0.001788  0.151913 -0.171172 -0.026124  0.574349 -0.103296  \n",
      "22873 -0.048475 -0.002791  0.156953 -0.195398 -0.062758  0.598515 -0.079141  \n",
      "22874 -0.040562 -0.027235  0.146090 -0.284425 -0.048556  0.421194 -0.068287  \n",
      "\n",
      "[22875 rows x 64 columns]\n"
     ]
    }
   ],
   "source": [
    "average_hidden_pd = pd.DataFrame(np.row_stack(average_hidden_list))\n",
    "final_hidden_pd = pd.DataFrame(np.row_stack(final_hidden_list))\n",
    "hidden_state = pd.DataFrame(np.row_stack(hs_list))\n",
    "print(hidden_state)"
   ]
  },
  {
   "cell_type": "code",
   "execution_count": 7,
   "metadata": {
    "collapsed": true
   },
   "outputs": [],
   "source": [
    "average_hidden_pd.to_csv(\"lenzi_pos_reps_10Y_4.csv\")\n",
    "final_hidden_pd.to_csv(\"lenzi_pos_finalhidden_10Y_4.csv\")"
   ]
  },
  {
   "cell_type": "code",
   "execution_count": 4,
   "metadata": {},
   "outputs": [
    {
     "ename": "NameError",
     "evalue": "name 'QVQLVQSGAEVKKPGASVKVSCKASGYTFTDYYMHWVRQAPGQGLEWMGRVNPNRRGTTYNQKFEGRVTMTTDTSTSTAYMELRSLRSDDTAVYYCARANWLDYWGQGTTVTVSS' is not defined",
     "output_type": "error",
     "traceback": [
      "\u001b[0;31m---------------------------------------------------------------------------\u001b[0m",
      "\u001b[0;31mNameError\u001b[0m                                 Traceback (most recent call last)",
      "\u001b[0;32m<ipython-input-4-2661d4686aef>\u001b[0m in \u001b[0;36m<module>\u001b[0;34m()\u001b[0m\n\u001b[0;32m----> 1\u001b[0;31m \u001b[0mavg_hidden\u001b[0m\u001b[0;34m,\u001b[0m \u001b[0mfinal_hidden\u001b[0m\u001b[0;34m,\u001b[0m \u001b[0mfinal_cell\u001b[0m \u001b[0;34m=\u001b[0m \u001b[0;34m(\u001b[0m\u001b[0mb\u001b[0m\u001b[0;34m.\u001b[0m\u001b[0mget_rep\u001b[0m\u001b[0;34m(\u001b[0m\u001b[0mQVQLVQSGAEVKKPGASVKVSCKASGYTFTDYYMHWVRQAPGQGLEWMGRVNPNRRGTTYNQKFEGRVTMTTDTSTSTAYMELRSLRSDDTAVYYCARANWLDYWGQGTTVTVSS\u001b[0m\u001b[0;34m)\u001b[0m\u001b[0;34m)\u001b[0m\u001b[0;34m\u001b[0m\u001b[0m\n\u001b[0m",
      "\u001b[0;31mNameError\u001b[0m: name 'QVQLVQSGAEVKKPGASVKVSCKASGYTFTDYYMHWVRQAPGQGLEWMGRVNPNRRGTTYNQKFEGRVTMTTDTSTSTAYMELRSLRSDDTAVYYCARANWLDYWGQGTTVTVSS' is not defined"
     ]
    }
   ],
   "source": [
    "avg_hidden, final_hidden, final_cell = (b.get_rep(QVQLVQSGAEVKKPGASVKVSCKASGYTFTDYYMHWVRQAPGQGLEWMGRVNPNRRGTTYNQKFEGRVTMTTDTSTSTAYMELRSLRSDDTAVYYCARANWLDYWGQGTTVTVSS))"
   ]
  },
  {
   "cell_type": "code",
   "execution_count": 8,
   "metadata": {
    "collapsed": true
   },
   "outputs": [],
   "source": [
    "import pickle\n",
    "save_loc = \"C:\\\\Users\\\\pkinn\\\\Documents\\\\UniRep\\\\full representations\\\\emi larger set\\\\\"\n",
    "data_name = 'lenzi_pos_reps_10Y_4'\n",
    "file_append = '.pickle'\n",
    "\n",
    "\n",
    "fn = save_loc + data_name + 'avg_hidden' + file_append\n",
    "with open(fn, 'wb') as f:\n",
    "    pickle.dump(average_hidden_list, f)\n",
    "\n",
    "fn = save_loc + data_name + 'final_hidden' + file_append\n",
    "with open(fn, 'wb') as f:\n",
    "    pickle.dump(final_hidden_list, f)\n",
    "\n",
    "fn = save_loc + data_name + 'final_cell' + file_append\n",
    "with open(fn, 'wb') as f:\n",
    "    pickle.dump(final_cell_list, f)\n",
    "   \n",
    "fn = save_loc + data_name + 'hidden_state' + file_append\n",
    "with open(fn, 'wb') as f:\n",
    "    pickle.dump(hs_list, f)\n",
    "   \n",
    "fn = save_loc + data_name + 'all_output_hs' + file_append\n",
    "with open(fn, 'wb') as f:\n",
    "    pickle.dump([average_hidden_list, final_hidden_list, final_cell_list, hs_list], f)"
   ]
  },
  {
   "cell_type": "code",
   "execution_count": null,
   "metadata": {
    "collapsed": true
   },
   "outputs": [],
   "source": []
  }
 ],
 "metadata": {
  "kernelspec": {
   "display_name": "Python 3",
   "language": "python",
   "name": "python3"
  },
  "language_info": {
   "codemirror_mode": {
    "name": "ipython",
    "version": 3
   },
   "file_extension": ".py",
   "mimetype": "text/x-python",
   "name": "python",
   "nbconvert_exporter": "python",
   "pygments_lexer": "ipython3",
   "version": "3.5.2"
  }
 },
 "nbformat": 4,
 "nbformat_minor": 2
}
