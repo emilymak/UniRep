{
 "cells": [
  {
   "cell_type": "markdown",
   "metadata": {},
   "source": [
    "## How to use the UniRep mLSTM \"babbler\". This version demonstrates the 64-unit and the 1900-unit architecture. \n",
    "\n",
    "We recommend getting started with the 64-unit architecture as it is easier and faster to run, but has the same interface as the 1900-unit one."
   ]
  },
  {
   "cell_type": "markdown",
   "metadata": {},
   "source": [
    "Use the 64-unit or the 1900-unit model?"
   ]
  },
  {
   "cell_type": "code",
   "execution_count": 1,
   "metadata": {
    "collapsed": true
   },
   "outputs": [],
   "source": [
    "USE_FULL_1900_DIM_MODEL = False # if True use 1900 dimensional model, else use 64 dimensional one."
   ]
  },
  {
   "cell_type": "markdown",
   "metadata": {},
   "source": [
    "## Setup"
   ]
  },
  {
   "cell_type": "code",
   "execution_count": 2,
   "metadata": {
    "collapsed": true
   },
   "outputs": [],
   "source": [
    "import tensorflow as tf\n",
    "import numpy as np\n",
    "import pandas as pd\n",
    "import matplotlib.pyplot as plt\n",
    "\n",
    "# Set seeds\n",
    "tf.set_random_seed(42)\n",
    "np.random.seed(42)\n",
    "\n",
    "if USE_FULL_1900_DIM_MODEL:\n",
    "    # Sync relevant weight files\n",
    "    !aws s3 sync --no-sign-request --quiet s3://unirep-public/1900_weights/ 1900_weights/\n",
    "    \n",
    "    # Import the mLSTM babbler model\n",
    "    from unirep import babbler1900 as babbler\n",
    "    \n",
    "    # Where model weights are stored.\n",
    "    MODEL_WEIGHT_PATH = \"./1900_weights\"\n",
    "    \n",
    "else:\n",
    "    # Sync relevant weight files\n",
    "    !aws s3 sync --no-sign-request --quiet s3://unirep-public/64_weights/ 64_weights/\n",
    "    \n",
    "    # Import the mLSTM babbler model\n",
    "    from unirep import babbler64 as babbler\n",
    "    \n",
    "    # Where model weights are stored.\n",
    "    MODEL_WEIGHT_PATH = \"./64_weights\""
   ]
  },
  {
   "cell_type": "markdown",
   "metadata": {},
   "source": [
    "## Data formatting and management"
   ]
  },
  {
   "cell_type": "markdown",
   "metadata": {},
   "source": [
    "Initialize UniRep, also referred to as the \"babbler\" in our code. You need to provide the batch size you will use and the path to the weight directory."
   ]
  },
  {
   "cell_type": "code",
   "execution_count": 3,
   "metadata": {},
   "outputs": [
    {
     "name": "stderr",
     "output_type": "stream",
     "text": [
      "/usr/local/lib/python3.5/dist-packages/h5py/__init__.py:34: FutureWarning: Conversion of the second argument of issubdtype from `float` to `np.floating` is deprecated. In future, it will be treated as `np.float64 == np.dtype(float).type`.\n",
      "  from ._conv import register_converters as _register_converters\n"
     ]
    }
   ],
   "source": [
    "batch_size = 1\n",
    "b = babbler(batch_size=batch_size, model_path=MODEL_WEIGHT_PATH)"
   ]
  },
  {
   "cell_type": "markdown",
   "metadata": {},
   "source": [
    "UniRep needs to receive data in the correct format, a (batch_size, max_seq_len) matrix with integer values, where the integers correspond to an amino acid label at that position, and the end of the sequence is padded with 0s until the max sequence length to form a non-ragged rectangular matrix. We provide a formatting function to translate a string of amino acids into a list of integers with the correct codex:"
   ]
  },
  {
   "cell_type": "code",
   "execution_count": 4,
   "metadata": {
    "collapsed": true
   },
   "outputs": [],
   "source": [
    "seq_open = open(\"./emi_iso_seqs.txt\")\n",
    "seq = seq_open.read()"
   ]
  },
  {
   "cell_type": "code",
   "execution_count": 5,
   "metadata": {
    "collapsed": true
   },
   "outputs": [],
   "source": [
    "seq_formatted = []\n",
    "for line in seq.splitlines():\n",
    "    seq_formatted.append(np.array(b.format_seq(line)))"
   ]
  },
  {
   "cell_type": "markdown",
   "metadata": {},
   "source": [
    "We also provide a function that will check your amino acid sequences don't contain any characters which will break the UniRep model."
   ]
  },
  {
   "cell_type": "code",
   "execution_count": null,
   "metadata": {
    "collapsed": true
   },
   "outputs": [],
   "source": [
    "b.is_valid_seq(seq)"
   ]
  },
  {
   "cell_type": "markdown",
   "metadata": {},
   "source": [
    "You could use your own data flow as long as you ensure that the data format is obeyed. Alternatively, you can use the data flow we've implemented for UniRep training, which happens in the tensorflow graph. It reads from a file of integer sequences, shuffles them around, collects them into groups of similar length (to minimize padding waste) and pads them to the max_length. Here's how to do that:"
   ]
  },
  {
   "cell_type": "markdown",
   "metadata": {},
   "source": [
    "First, sequences need to be saved in the correct format. Suppose we have a new-line seperated file of amino acid sequences, `seqs.txt`, and we want to format them. Note that training is currently only publicly supported for amino acid sequences less than 275 amino acids as gradient updates for sequences longer than that start to get unwieldy. If you want to train on sequences longer than this, please reach out to us. \n",
    "\n",
    "Sequence formatting can be done as follows:"
   ]
  },
  {
   "cell_type": "code",
   "execution_count": 5,
   "metadata": {
    "collapsed": true
   },
   "outputs": [],
   "source": [
    "# Before you can train your model, \n",
    "sequences = []\n",
    "with open(\"emi_iso_seqs.txt\", \"r\") as source:\n",
    "    with open(\"formatted.txt\", \"w\") as destination:\n",
    "        for i,seq in enumerate(source):\n",
    "            seq = seq.strip()\n",
    "            sequences.append(seq)\n",
    "            if b.is_valid_seq(seq) and len(seq) < 275: \n",
    "                formatted = \",\".join(map(str,b.format_seq(seq)))\n",
    "                destination.write(formatted)\n",
    "                destination.write('\\n')"
   ]
  },
  {
   "cell_type": "markdown",
   "metadata": {},
   "source": [
    "This is what the integer format looks like"
   ]
  },
  {
   "cell_type": "code",
   "execution_count": null,
   "metadata": {
    "collapsed": true
   },
   "outputs": [],
   "source": [
    "!head -n1 formatted.txt"
   ]
  },
  {
   "cell_type": "markdown",
   "metadata": {},
   "source": [
    "Notice that by default format_seq does not include the stop symbol (25) at the end of the sequence. This is the correct behavior if you are trying to train a top model, but not if you are training UniRep representations."
   ]
  },
  {
   "cell_type": "markdown",
   "metadata": {},
   "source": [
    "Now we can use a custom function to bucket, batch and pad sequences from `formatted.txt` (which has the correct integer codex after calling `babbler.format_seq()`). The bucketing occurs in the graph. \n",
    "\n",
    "What is bucketing? Specify a lower and upper bound, and interval. All sequences less than lower or greater than upper will be batched together. The interval defines the \"sides\" of buckets between these bounds. Don't pick a small interval for a small dataset because the function will just repeat a sequence if there are not enough to\n",
    "fill a batch. All batches are the size you passed when initializing the babbler.\n",
    "\n",
    "This is also doing a few other things:\n",
    "- Shuffling the sequences by randomly sampling from a 10000 sequence buffer\n",
    "- Automatically padding the sequences with zeros so the returned batch is a perfect rectangle\n",
    "- Automatically repeating the dataset"
   ]
  },
  {
   "cell_type": "code",
   "execution_count": 7,
   "metadata": {
    "collapsed": true
   },
   "outputs": [],
   "source": [
    "bucket_op = b.bucket_batch_pad(\"formatted.txt\", interval=1000) # Large interval"
   ]
  },
  {
   "cell_type": "markdown",
   "metadata": {},
   "source": [
    "Inconveniently, this does not make it easy for a value to be associated with each sequence and not lost during shuffling. You can get around this by just prepending every integer sequence with the sequence label (eg, every sequence would be saved to the file as \"{brightness value}, 24, 1, 5,...\" and then you could just index out the first column after calling the `bucket_op`. Please reach out if you have questions on how to do this."
   ]
  },
  {
   "cell_type": "markdown",
   "metadata": {},
   "source": [
    "Now that we have the `bucket_op`, we can simply `sess.run()` it to get a correctly formatted batch"
   ]
  },
  {
   "cell_type": "code",
   "execution_count": 8,
   "metadata": {},
   "outputs": [
    {
     "name": "stdout",
     "output_type": "stream",
     "text": [
      "[[24 10 16 ... 16  7  7]\n",
      " [24 10 16 ... 16  7  7]\n",
      " [24 10 16 ... 16  7  7]\n",
      " ...\n",
      " [24 10 16 ... 16  7  7]\n",
      " [24 10 16 ... 16  7  7]\n",
      " [24 10 16 ... 16  7  7]]\n",
      "(50, 116)\n"
     ]
    }
   ],
   "source": [
    "with tf.Session() as sess:\n",
    "    sess.run(tf.global_variables_initializer())\n",
    "    batch = sess.run(bucket_op)\n",
    "    \n",
    "print(batch)\n",
    "print(batch.shape)"
   ]
  },
  {
   "cell_type": "markdown",
   "metadata": {},
   "source": [
    "You can look back and see that the batch_size we passed to __init__ is indeed 12, and the second dimension must be the longest sequence included in this batch. Now we have the data flow setup (note that as long as your batch looks like this, you don't need my flow), so we can proceed to implementing the graph. The module returns all the operations needed to feed in sequence and get out trainable representations."
   ]
  },
  {
   "cell_type": "markdown",
   "metadata": {},
   "source": [
    "## Training a top model and a top model + mLSTM."
   ]
  },
  {
   "cell_type": "markdown",
   "metadata": {},
   "source": [
    "First, obtain all of the ops needed to output a representation"
   ]
  },
  {
   "cell_type": "code",
   "execution_count": 9,
   "metadata": {
    "collapsed": true
   },
   "outputs": [],
   "source": [
    "final_hidden, x_placeholder, batch_size_placeholder, seq_length_placeholder, initial_state_placeholder = (\n",
    "    b.get_rep_ops())"
   ]
  },
  {
   "cell_type": "markdown",
   "metadata": {},
   "source": [
    "`final_hidden` should be a batch_size x rep_dim matrix.\n",
    "\n",
    "Lets say we want to train a basic feed-forward network as the top model, doing regression with MSE loss, and the Adam optimizer. We can do that by:\n",
    "\n",
    "1.  Defining a loss function.\n",
    "\n",
    "2.  Defining an optimizer that's only optimizing variables in the top model.\n",
    "\n",
    "3.  Minimizing the loss inside of a TensorFlow session"
   ]
  },
  {
   "cell_type": "code",
   "execution_count": 10,
   "metadata": {
    "collapsed": true
   },
   "outputs": [],
   "source": [
    "y_placeholder = tf.placeholder(tf.float32, shape=[None,1], name=\"y\")\n",
    "initializer = tf.contrib.layers.xavier_initializer(uniform=False)\n",
    "\n",
    "with tf.variable_scope(\"top\"):\n",
    "    prediction = tf.contrib.layers.fully_connected(\n",
    "        final_hidden, 1, activation_fn=None, \n",
    "        weights_initializer=initializer,\n",
    "        biases_initializer=tf.zeros_initializer()\n",
    "    )\n",
    "\n",
    "loss = tf.losses.mean_squared_error(y_placeholder, prediction)"
   ]
  },
  {
   "cell_type": "markdown",
   "metadata": {},
   "source": [
    "You can specifically train the top model first by isolating variables of the \"top\" scope, and forcing the optimizer to only optimize these."
   ]
  },
  {
   "cell_type": "code",
   "execution_count": 11,
   "metadata": {
    "collapsed": true
   },
   "outputs": [],
   "source": [
    "learning_rate=.005\n",
    "top_variables = tf.get_collection(tf.GraphKeys.GLOBAL_VARIABLES, scope=\"top\")\n",
    "optimizer = tf.train.AdamOptimizer(learning_rate)\n",
    "top_only_step_op = optimizer.minimize(loss, var_list=top_variables)\n",
    "all_step_op = optimizer.minimize(loss)"
   ]
  },
  {
   "cell_type": "markdown",
   "metadata": {},
   "source": [
    "We next need to define a function that allows us to calculate the length each sequence in the batch so that we know what index to use to obtain the right \"final\" hidden state"
   ]
  },
  {
   "cell_type": "code",
   "execution_count": 12,
   "metadata": {},
   "outputs": [
    {
     "data": {
      "text/plain": [
       "array([116, 116, 116, 116, 116, 116, 116, 116, 116, 116, 116, 116, 116,\n",
       "       116, 116, 116, 116, 116, 116, 116, 116, 116, 116, 116, 116, 116,\n",
       "       116, 116, 116, 116, 116, 116, 116, 116, 116, 116, 116, 116, 116,\n",
       "       116, 116, 116, 116, 116, 116, 116, 116, 116, 116, 116])"
      ]
     },
     "execution_count": 12,
     "metadata": {},
     "output_type": "execute_result"
    }
   ],
   "source": [
    "def nonpad_len(batch):\n",
    "    nonzero = batch > 0\n",
    "    lengths = np.sum(nonzero, axis=1)\n",
    "    return lengths\n",
    "\n",
    "nonpad_len(batch)"
   ]
  },
  {
   "cell_type": "markdown",
   "metadata": {},
   "source": [
    "We are ready to train. As an illustration, let's learn to predict the number 42 just optimizing the top model."
   ]
  },
  {
   "cell_type": "code",
   "execution_count": null,
   "metadata": {
    "collapsed": true
   },
   "outputs": [],
   "source": [
    "\"\"\"\n",
    "y = [[1], [1], [1], [0], [0], [0], [0], [0], [0], [1], [1], [1], [1], [0], [0], [0], [1], [0], [1], [1], [1], [1], [0], [1], [0], [0], [0], [1], [0], [1], [1], [0], [1], [0], [1], [0], [1], [1], [1], [1], [0], [1], [1], [1], [1], [0], [0], [1], [1], [1], [1], [1], [0], [1], [1], [1], [1], [1], [1], [1], [0], [1], [1]]\n",
    "num_iters = 1\n",
    "with tf.Session() as sess:\n",
    "    sess.run(tf.global_variables_initializer())\n",
    "    for i in range(num_iters):\n",
    "        batch = sess.run(bucket_op)\n",
    "        length = nonpad_len(batch)\n",
    "        loss_, __, = sess.run([loss, top_only_step_op],\n",
    "                feed_dict={\n",
    "                     x_placeholder: batch,\n",
    "                     y_placeholder: y,\n",
    "                     batch_size_placeholder: batch_size,\n",
    "                     seq_length_placeholder:length,\n",
    "                     initial_state_placeholder:b._zero_state\n",
    "                }\n",
    "        )\n",
    "        viscosity_pred, final_hidden_layer = sess.run([prediction, final_hidden],\n",
    "                feed_dict={\n",
    "                     x_placeholder: batch,\n",
    "                     batch_size_placeholder: batch_size,\n",
    "                     seq_length_placeholder:length,\n",
    "                     initial_state_placeholder:b._zero_state})\n",
    "        print(\"Iteration {0}: {1}\".format(i,loss_))\n",
    "#    print(np.hstack([viscosity_pred, y])\n",
    "    print(final_hidden_layer)\n",
    "    plt.scatter(viscosity_pred, y)\n",
    "    plt.show()\n",
    "\"\"\""
   ]
  },
  {
   "cell_type": "markdown",
   "metadata": {},
   "source": [
    "We can also jointly train the top model and the mLSTM. Note that if using the 1900-unit (full) model, you will need a GPU with at least 16GB RAM. To see a demonstration of joint training with fewer computational resources, please run this notebook using the 64-unit model."
   ]
  },
  {
   "cell_type": "code",
   "execution_count": null,
   "metadata": {
    "collapsed": true
   },
   "outputs": [],
   "source": [
    "\"\"\"y = [[1], [1], [1], [0], [0], [0], [0], [0], [0], [1], [1], [1], [1], [0], [0], [0], [1], [0], [1], [1], [1], [1], [0], [1], [0], [0], [0], [1], [0], [1], [1], [0], [1], [0], [1], [0], [1], [1], [1], [1], [0], [1], [1], [1], [1], [0], [0], [1], [1], [1], [1], [1], [0], [1], [1], [1], [1], [1], [1], [1], [0], [1], [1]]\n",
    "num_iters = 25\n",
    "with tf.Session() as sess:\n",
    "    sess.run(tf.global_variables_initializer())\n",
    "    for i in range(num_iters):\n",
    "        batch = sess.run(bucket_op)\n",
    "        length = nonpad_len(batch)\n",
    "        loss_, __, = sess.run([loss, all_step_op],\n",
    "                feed_dict={\n",
    "                     x_placeholder: batch,\n",
    "                     y_placeholder: y,\n",
    "                     batch_size_placeholder: batch_size,\n",
    "                     seq_length_placeholder:length,\n",
    "                     initial_state_placeholder:b._zero_state\n",
    "                }\n",
    "        )\n",
    "        viscosity_pred = sess.run(prediction,\n",
    "                feed_dict={\n",
    "                     x_placeholder: batch,\n",
    "                     batch_size_placeholder: batch_size,\n",
    "                     seq_length_placeholder:length,\n",
    "                     initial_state_placeholder:b._zero_state})\n",
    "        print(\"Iteration {0}: {1}\".format(i,loss_))\n",
    "    print(np.hstack([viscosity_pred, y]))\n",
    "\"\"\""
   ]
  },
  {
   "cell_type": "code",
   "execution_count": 6,
   "metadata": {
    "scrolled": true
   },
   "outputs": [
    {
     "name": "stdout",
     "output_type": "stream",
     "text": [
      "rep\n",
      "rep\n",
      "rep\n",
      "rep\n",
      "rep\n",
      "rep\n",
      "rep\n",
      "rep\n",
      "rep\n",
      "rep\n",
      "rep\n",
      "rep\n",
      "rep\n",
      "rep\n",
      "rep\n",
      "rep\n",
      "rep\n",
      "rep\n",
      "rep\n",
      "rep\n",
      "rep\n",
      "rep\n",
      "rep\n",
      "rep\n",
      "rep\n",
      "rep\n",
      "rep\n",
      "rep\n",
      "rep\n",
      "rep\n",
      "rep\n",
      "rep\n",
      "rep\n",
      "rep\n",
      "rep\n",
      "rep\n",
      "rep\n",
      "rep\n",
      "rep\n",
      "rep\n",
      "rep\n",
      "rep\n",
      "rep\n",
      "rep\n",
      "rep\n",
      "rep\n",
      "rep\n",
      "rep\n",
      "rep\n",
      "rep\n",
      "rep\n",
      "rep\n",
      "rep\n",
      "rep\n",
      "rep\n",
      "rep\n",
      "rep\n",
      "rep\n",
      "rep\n",
      "rep\n",
      "rep\n",
      "rep\n",
      "rep\n",
      "rep\n",
      "rep\n",
      "rep\n",
      "rep\n",
      "rep\n",
      "rep\n",
      "rep\n",
      "rep\n",
      "rep\n",
      "rep\n",
      "rep\n",
      "rep\n",
      "rep\n",
      "rep\n",
      "rep\n",
      "rep\n",
      "rep\n",
      "rep\n",
      "rep\n",
      "rep\n",
      "rep\n",
      "rep\n",
      "rep\n",
      "rep\n",
      "rep\n",
      "rep\n",
      "rep\n",
      "rep\n",
      "rep\n",
      "rep\n",
      "rep\n",
      "rep\n",
      "rep\n",
      "rep\n",
      "rep\n",
      "rep\n",
      "rep\n",
      "rep\n",
      "rep\n",
      "rep\n",
      "rep\n",
      "rep\n",
      "rep\n",
      "rep\n",
      "rep\n",
      "rep\n",
      "rep\n",
      "rep\n",
      "rep\n",
      "rep\n",
      "rep\n",
      "rep\n",
      "rep\n",
      "rep\n",
      "rep\n",
      "rep\n",
      "rep\n",
      "rep\n",
      "rep\n",
      "rep\n",
      "rep\n",
      "rep\n",
      "rep\n",
      "rep\n",
      "rep\n",
      "rep\n",
      "rep\n",
      "rep\n",
      "rep\n",
      "rep\n",
      "rep\n",
      "rep\n",
      "rep\n",
      "rep\n",
      "rep\n",
      "rep\n",
      "rep\n",
      "rep\n",
      "rep\n",
      "rep\n",
      "rep\n",
      "rep\n",
      "rep\n",
      "rep\n",
      "rep\n",
      "rep\n",
      "rep\n",
      "rep\n",
      "rep\n",
      "rep\n",
      "rep\n",
      "rep\n",
      "rep\n",
      "rep\n",
      "rep\n",
      "rep\n",
      "rep\n",
      "rep\n",
      "rep\n",
      "rep\n",
      "rep\n",
      "rep\n",
      "rep\n",
      "rep\n",
      "rep\n",
      "rep\n",
      "rep\n",
      "rep\n",
      "rep\n",
      "rep\n",
      "rep\n",
      "rep\n",
      "rep\n",
      "rep\n",
      "rep\n"
     ]
    },
    {
     "ename": "IndexError",
     "evalue": "list index out of range",
     "output_type": "error",
     "traceback": [
      "\u001b[0;31m---------------------------------------------------------------------------\u001b[0m",
      "\u001b[0;31mIndexError\u001b[0m                                Traceback (most recent call last)",
      "\u001b[0;32m<ipython-input-6-051983badf75>\u001b[0m in \u001b[0;36m<module>\u001b[0;34m()\u001b[0m\n\u001b[1;32m      8\u001b[0m     \u001b[0mnum1\u001b[0m \u001b[0;34m=\u001b[0m \u001b[0mrange\u001b[0m\u001b[0;34m(\u001b[0m\u001b[0mx\u001b[0m\u001b[0;34m,\u001b[0m \u001b[0my\u001b[0m\u001b[0;34m)\u001b[0m\u001b[0;34m\u001b[0m\u001b[0m\n\u001b[1;32m      9\u001b[0m     \u001b[0;32mfor\u001b[0m \u001b[0mj\u001b[0m \u001b[0;32min\u001b[0m \u001b[0mnum1\u001b[0m\u001b[0;34m:\u001b[0m\u001b[0;34m\u001b[0m\u001b[0m\n\u001b[0;32m---> 10\u001b[0;31m         \u001b[0mavg_hidden\u001b[0m\u001b[0;34m,\u001b[0m \u001b[0mfinal_hidden\u001b[0m\u001b[0;34m,\u001b[0m \u001b[0mfinal_cell\u001b[0m \u001b[0;34m=\u001b[0m \u001b[0;34m(\u001b[0m\u001b[0mb\u001b[0m\u001b[0;34m.\u001b[0m\u001b[0mget_rep\u001b[0m\u001b[0;34m(\u001b[0m\u001b[0msequences\u001b[0m\u001b[0;34m[\u001b[0m\u001b[0mj\u001b[0m\u001b[0;34m]\u001b[0m\u001b[0;34m)\u001b[0m\u001b[0;34m)\u001b[0m\u001b[0;34m\u001b[0m\u001b[0m\n\u001b[0m\u001b[1;32m     11\u001b[0m         \u001b[0maverage_hidden\u001b[0m\u001b[0;34m.\u001b[0m\u001b[0mappend\u001b[0m\u001b[0;34m(\u001b[0m\u001b[0mavg_hidden\u001b[0m\u001b[0;34m)\u001b[0m\u001b[0;34m\u001b[0m\u001b[0m\n\u001b[1;32m     12\u001b[0m         \u001b[0mfinal_hidden_list\u001b[0m\u001b[0;34m.\u001b[0m\u001b[0mappend\u001b[0m\u001b[0;34m(\u001b[0m\u001b[0mfinal_hidden\u001b[0m\u001b[0;34m)\u001b[0m\u001b[0;34m\u001b[0m\u001b[0m\n",
      "\u001b[0;31mIndexError\u001b[0m: list index out of range"
     ]
    }
   ],
   "source": [
    "average_hidden = []\n",
    "final_hidden_list = []\n",
    "\n",
    "num2 = range(0, 50)\n",
    "x = 0\n",
    "y = 50\n",
    "for i in num2:\n",
    "    num1 = range(x, y)\n",
    "    for j in num1:\n",
    "        avg_hidden, final_hidden, final_cell = (b.get_rep(sequences[j]))\n",
    "        average_hidden.append(avg_hidden)\n",
    "        final_hidden_list.append(final_hidden)\n",
    "        print('rep')\n",
    "    x = x + 50\n",
    "    y = y + 50\n",
    "    \n"
   ]
  },
  {
   "cell_type": "code",
   "execution_count": 7,
   "metadata": {},
   "outputs": [
    {
     "name": "stdout",
     "output_type": "stream",
     "text": [
      "           0         1         2         3         4         5         6   \\\n",
      "0    0.076755  0.133941 -0.217563 -0.750901 -0.015073 -0.438732  0.090106   \n",
      "1    0.070438  0.134512 -0.211405 -0.740506 -0.013499 -0.428308  0.081730   \n",
      "2    0.076276  0.132318 -0.207612 -0.759482 -0.014509 -0.462704  0.086577   \n",
      "3    0.070016  0.128825 -0.220605 -0.735547 -0.012015 -0.454904  0.085056   \n",
      "4    0.062569  0.144736 -0.228296 -0.758365 -0.020228 -0.379285  0.106915   \n",
      "5    0.093061  0.134643 -0.227703 -0.723074 -0.013620 -0.433097  0.079281   \n",
      "6    0.066717  0.126646 -0.220707 -0.780275 -0.018097 -0.421887  0.083318   \n",
      "7    0.070039  0.122084 -0.207394 -0.750783 -0.006348 -0.451235  0.085698   \n",
      "8    0.069085  0.134643 -0.221387 -0.771893 -0.020463 -0.404132  0.092668   \n",
      "9    0.069846  0.128838 -0.201144 -0.771587 -0.007120 -0.428683  0.078280   \n",
      "10   0.075088  0.133899 -0.202939 -0.770864 -0.013021 -0.433792  0.076132   \n",
      "11   0.068316  0.134300 -0.237318 -0.780147 -0.026029 -0.432848  0.112967   \n",
      "12   0.084903  0.142542 -0.229780 -0.755076 -0.016414 -0.423599  0.091543   \n",
      "13   0.077789  0.133810 -0.238828 -0.680986 -0.015572 -0.430330  0.106561   \n",
      "14   0.075039  0.138145 -0.208660 -0.806132 -0.013008 -0.436599  0.081030   \n",
      "15   0.081182  0.136678 -0.224387 -0.724591 -0.013316 -0.429433  0.079826   \n",
      "16   0.067445  0.134782 -0.219788 -0.786787 -0.018646 -0.404421  0.086917   \n",
      "17   0.072437  0.129162 -0.193320 -0.776358 -0.007725 -0.429124  0.072813   \n",
      "18   0.076767  0.133635 -0.214443 -0.756838 -0.015126 -0.449363  0.088745   \n",
      "19   0.068855  0.146679 -0.218212 -0.785661 -0.020564 -0.394219  0.099750   \n",
      "20   0.081198  0.125290 -0.201627 -0.785214 -0.006308 -0.457104  0.069473   \n",
      "21   0.074809  0.136726 -0.198735 -0.780289 -0.010468 -0.426598  0.083273   \n",
      "22   0.077913  0.134824 -0.246506 -0.723403 -0.015012 -0.429920  0.087637   \n",
      "23   0.081783  0.137049 -0.231897 -0.754881 -0.013617 -0.427968  0.092734   \n",
      "24   0.059018  0.131811 -0.201186 -0.774862 -0.012322 -0.429767  0.087909   \n",
      "25   0.079558  0.130146 -0.210787 -0.740849 -0.008513 -0.451961  0.081237   \n",
      "26   0.081166  0.133690 -0.219373 -0.738345 -0.011433 -0.455072  0.073005   \n",
      "27   0.079949  0.126753 -0.233960 -0.726717 -0.015135 -0.436876  0.090082   \n",
      "28   0.067027  0.130733 -0.205824 -0.728640 -0.009074 -0.419148  0.084906   \n",
      "29   0.074442  0.137386 -0.238887 -0.717577 -0.020760 -0.401118  0.109109   \n",
      "..        ...       ...       ...       ...       ...       ...       ...   \n",
      "148  0.091644  0.141895 -0.228484 -0.741419 -0.015302 -0.434281  0.085656   \n",
      "149  0.058850  0.138083 -0.211166 -0.776926 -0.016430 -0.420170  0.091668   \n",
      "150  0.070670  0.133362 -0.224966 -0.728000 -0.012910 -0.424571  0.086165   \n",
      "151  0.063128  0.135743 -0.228556 -0.782320 -0.021628 -0.416731  0.093498   \n",
      "152  0.080000  0.139677 -0.224884 -0.745355 -0.014874 -0.424890  0.090119   \n",
      "153  0.080056  0.138846 -0.210308 -0.782053 -0.013526 -0.437708  0.080215   \n",
      "154  0.085473  0.130394 -0.225348 -0.756425 -0.015831 -0.446255  0.089391   \n",
      "155  0.074704  0.131983 -0.237820 -0.701742 -0.011579 -0.429734  0.085802   \n",
      "156  0.067638  0.138690 -0.210449 -0.783613 -0.017669 -0.429938  0.083980   \n",
      "157  0.075590  0.138732 -0.237697 -0.790142 -0.025162 -0.431847  0.093313   \n",
      "158  0.069739  0.138667 -0.208576 -0.792364 -0.017396 -0.440218  0.085197   \n",
      "159  0.075668  0.134677 -0.208449 -0.772645 -0.012828 -0.433521  0.092870   \n",
      "160  0.080458  0.133089 -0.226281 -0.744315 -0.020877 -0.436304  0.091859   \n",
      "161  0.078672  0.138657 -0.229106 -0.769457 -0.017161 -0.421601  0.091480   \n",
      "162  0.085846  0.133267 -0.221099 -0.758976 -0.018310 -0.423338  0.107692   \n",
      "163  0.071694  0.130890 -0.217407 -0.769387 -0.014918 -0.407565  0.079879   \n",
      "164  0.066489  0.121954 -0.223139 -0.718347 -0.005993 -0.427682  0.091567   \n",
      "165  0.086336  0.140901 -0.232049 -0.724108 -0.010006 -0.407202  0.104584   \n",
      "166  0.078559  0.135690 -0.228352 -0.779640 -0.021692 -0.418885  0.094608   \n",
      "167  0.073300  0.133757 -0.222713 -0.732098 -0.011941 -0.418365  0.097582   \n",
      "168  0.095082  0.140353 -0.234035 -0.734732 -0.011458 -0.421715  0.086053   \n",
      "169  0.082050  0.132656 -0.207937 -0.788359 -0.010103 -0.465814  0.063727   \n",
      "170  0.081075  0.128802 -0.205305 -0.748059 -0.009360 -0.441922  0.085715   \n",
      "171  0.085742  0.136369 -0.204455 -0.780249 -0.012074 -0.462599  0.069320   \n",
      "172  0.087613  0.141606 -0.232878 -0.765696 -0.017057 -0.431861  0.089677   \n",
      "173  0.053914  0.122663 -0.224714 -0.704693 -0.007195 -0.414114  0.080255   \n",
      "174  0.068930  0.137170 -0.215641 -0.787488 -0.018241 -0.430882  0.087042   \n",
      "175  0.055266  0.132131 -0.220304 -0.849889 -0.027399 -0.437089  0.107164   \n",
      "176  0.061957  0.132074 -0.208519 -0.769405 -0.015696 -0.447797  0.082384   \n",
      "177  0.065181  0.131405 -0.198881 -0.767529 -0.011930 -0.418477  0.077501   \n",
      "\n",
      "           7         8         9     ...           54        55        56  \\\n",
      "0    0.153467  0.483013 -0.508342    ...     0.131396  0.019741  0.096519   \n",
      "1    0.158051  0.480238 -0.516185    ...     0.134112  0.017995  0.092202   \n",
      "2    0.123447  0.491722 -0.544482    ...     0.132985  0.021841  0.080788   \n",
      "3    0.143931  0.484123 -0.507589    ...     0.143068  0.020703  0.082558   \n",
      "4    0.188549  0.457646 -0.497409    ...     0.156783  0.017529  0.107188   \n",
      "5    0.162560  0.478683 -0.486560    ...     0.140199  0.018726  0.102328   \n",
      "6    0.150137  0.478791 -0.483200    ...     0.126913  0.017211  0.092911   \n",
      "7    0.165552  0.475579 -0.489277    ...     0.147176  0.017650  0.087147   \n",
      "8    0.169371  0.472311 -0.464933    ...     0.127302  0.016521  0.091028   \n",
      "9    0.151997  0.484216 -0.491731    ...     0.124079  0.012690  0.093414   \n",
      "10   0.137344  0.482846 -0.488713    ...     0.131838  0.014505  0.082426   \n",
      "11   0.172491  0.476113 -0.479145    ...     0.143140  0.026868  0.091831   \n",
      "12   0.149885  0.489718 -0.498792    ...     0.133256  0.017221  0.106896   \n",
      "13   0.167136  0.473411 -0.523890    ...     0.149161  0.023116  0.106689   \n",
      "14   0.141113  0.495478 -0.476950    ...     0.116342  0.014072  0.081962   \n",
      "15   0.150214  0.485619 -0.524437    ...     0.139452  0.018555  0.109545   \n",
      "16   0.160031  0.483890 -0.460443    ...     0.116230  0.015575  0.078973   \n",
      "17   0.142611  0.485315 -0.504893    ...     0.131443  0.013556  0.088224   \n",
      "18   0.138774  0.490482 -0.517615    ...     0.126720  0.020306  0.091424   \n",
      "19   0.166178  0.466984 -0.489739    ...     0.147030  0.016440  0.095249   \n",
      "20   0.129240  0.496063 -0.491301    ...     0.127322  0.015037  0.084460   \n",
      "21   0.140738  0.485759 -0.476115    ...     0.126569  0.014080  0.075825   \n",
      "22   0.164077  0.482997 -0.502562    ...     0.144881  0.020724  0.117606   \n",
      "23   0.153932  0.490953 -0.471977    ...     0.128097  0.017909  0.097386   \n",
      "24   0.144362  0.482421 -0.507073    ...     0.129345  0.017262  0.074136   \n",
      "25   0.141194  0.482826 -0.518513    ...     0.149445  0.019207  0.093262   \n",
      "26   0.144995  0.488839 -0.527147    ...     0.149304  0.022134  0.101360   \n",
      "27   0.168228  0.473732 -0.481206    ...     0.143843  0.021371  0.101205   \n",
      "28   0.156471  0.471761 -0.510683    ...     0.148001  0.016829  0.094493   \n",
      "29   0.165553  0.470647 -0.488475    ...     0.139087  0.016209  0.093027   \n",
      "..        ...       ...       ...    ...          ...       ...       ...   \n",
      "148  0.150077  0.491891 -0.499485    ...     0.133305  0.019610  0.106655   \n",
      "149  0.142375  0.485107 -0.505058    ...     0.122877  0.015816  0.067370   \n",
      "150  0.163838  0.483990 -0.502069    ...     0.132713  0.017021  0.099608   \n",
      "151  0.161941  0.485913 -0.475137    ...     0.120337  0.018095  0.080767   \n",
      "152  0.150423  0.487791 -0.515758    ...     0.133699  0.018539  0.100603   \n",
      "153  0.139495  0.494876 -0.497534    ...     0.126910  0.017340  0.087879   \n",
      "154  0.143585  0.487161 -0.499245    ...     0.128165  0.022021  0.096655   \n",
      "155  0.168369  0.476542 -0.518940    ...     0.152722  0.021459  0.114371   \n",
      "156  0.143658  0.484002 -0.480069    ...     0.124532  0.016216  0.070419   \n",
      "157  0.144150  0.495096 -0.480053    ...     0.113302  0.022527  0.083866   \n",
      "158  0.134587  0.485945 -0.492657    ...     0.123931  0.016188  0.065506   \n",
      "159  0.150767  0.486542 -0.488185    ...     0.119787  0.018182  0.085636   \n",
      "160  0.155320  0.482372 -0.491060    ...     0.129127  0.019085  0.090390   \n",
      "161  0.159051  0.486764 -0.469059    ...     0.125765  0.017282  0.099210   \n",
      "162  0.165723  0.470900 -0.479029    ...     0.138229  0.021407  0.087265   \n",
      "163  0.159322  0.477071 -0.468507    ...     0.130245  0.012899  0.097303   \n",
      "164  0.161699  0.484142 -0.485136    ...     0.125561  0.013933  0.081076   \n",
      "165  0.176936  0.480981 -0.485515    ...     0.149923  0.019973  0.128419   \n",
      "166  0.158040  0.481903 -0.450662    ...     0.123220  0.017213  0.087571   \n",
      "167  0.167247  0.476459 -0.502753    ...     0.136781  0.019455  0.102328   \n",
      "168  0.151199  0.491367 -0.493783    ...     0.133202  0.015945  0.119797   \n",
      "169  0.121110  0.501322 -0.536017    ...     0.136533  0.017358  0.093791   \n",
      "170  0.146907  0.479072 -0.500674    ...     0.137791  0.018917  0.084295   \n",
      "171  0.119876  0.501046 -0.540076    ...     0.132052  0.018394  0.088772   \n",
      "172  0.142644  0.494771 -0.497909    ...     0.126840  0.019593  0.100553   \n",
      "173  0.169254  0.471684 -0.553977    ...     0.155917  0.018408  0.106261   \n",
      "174  0.142773  0.487989 -0.489485    ...     0.124748  0.013938  0.088294   \n",
      "175  0.165424  0.481876 -0.449288    ...     0.124108  0.021237  0.068488   \n",
      "176  0.138760  0.485306 -0.486482    ...     0.128404  0.015162  0.058834   \n",
      "177  0.143559  0.474690 -0.495327    ...     0.133332  0.013651  0.082728   \n",
      "\n",
      "           57        58        59        60        61        62        63  \n",
      "0   -0.016326 -0.001489  0.116310 -0.195996 -0.031620  0.614864 -0.105492  \n",
      "1   -0.015539 -0.008372  0.118317 -0.195188 -0.028863  0.609629 -0.108004  \n",
      "2   -0.007285 -0.004077  0.117502 -0.189810 -0.036594  0.633621 -0.106496  \n",
      "3   -0.005381 -0.007521  0.119220 -0.192877 -0.030672  0.618628 -0.099679  \n",
      "4   -0.022173 -0.011192  0.131532 -0.195025 -0.030500  0.589561 -0.087978  \n",
      "5   -0.019213 -0.013300  0.121503 -0.194968 -0.028889  0.597880 -0.105711  \n",
      "6   -0.016341 -0.001654  0.110467 -0.178510 -0.036064  0.608948 -0.090237  \n",
      "7   -0.014302 -0.011267  0.115926 -0.182809 -0.033179  0.592367 -0.102124  \n",
      "8   -0.019425 -0.005594  0.130629 -0.198863 -0.034662  0.611999 -0.086624  \n",
      "9   -0.031147 -0.002908  0.109286 -0.183503 -0.035443  0.595562 -0.098427  \n",
      "10  -0.014113 -0.009286  0.124477 -0.189706 -0.032134  0.597818 -0.087432  \n",
      "11  -0.002821 -0.003463  0.117342 -0.199085 -0.033897  0.615124 -0.098530  \n",
      "12  -0.018152 -0.003501  0.128249 -0.195492 -0.032308  0.617214 -0.092954  \n",
      "13  -0.022530 -0.007382  0.121571 -0.206083 -0.029494  0.610590 -0.111573  \n",
      "14  -0.013605  0.001642  0.115255 -0.200232 -0.035477  0.600628 -0.093406  \n",
      "15  -0.021033 -0.008673  0.119187 -0.186636 -0.029975  0.617250 -0.105859  \n",
      "16  -0.018718  0.000712  0.117089 -0.192313 -0.033869  0.607916 -0.088393  \n",
      "17  -0.022378 -0.009003  0.114100 -0.174411 -0.033739  0.592549 -0.096569  \n",
      "18  -0.017601  0.000829  0.113464 -0.198192 -0.035360  0.617363 -0.107596  \n",
      "19  -0.015565 -0.007087  0.133878 -0.203702 -0.033163  0.586898 -0.084155  \n",
      "20  -0.017778 -0.003678  0.106136 -0.173591 -0.037605  0.597088 -0.097966  \n",
      "21  -0.016287 -0.006064  0.124877 -0.195424 -0.032766  0.593266 -0.089233  \n",
      "22  -0.016689 -0.006200  0.116999 -0.188180 -0.028078  0.614745 -0.105056  \n",
      "23  -0.018941  0.000955  0.117823 -0.199414 -0.033757  0.610373 -0.097535  \n",
      "24  -0.011631 -0.007320  0.123687 -0.188424 -0.033276  0.620142 -0.094695  \n",
      "25  -0.012257 -0.011745  0.121103 -0.189980 -0.031913  0.606316 -0.101822  \n",
      "26  -0.007542 -0.012782  0.118297 -0.189836 -0.029333  0.612158 -0.112238  \n",
      "27  -0.013342 -0.010149  0.118232 -0.185582 -0.029708  0.606379 -0.098082  \n",
      "28  -0.019985 -0.013401  0.128175 -0.188244 -0.027842  0.599628 -0.095829  \n",
      "29  -0.019073 -0.001664  0.133963 -0.208217 -0.028644  0.594214 -0.084362  \n",
      "..        ...       ...       ...       ...       ...       ...       ...  \n",
      "148 -0.016363 -0.007022  0.124770 -0.200846 -0.031120  0.617551 -0.103479  \n",
      "149 -0.011882 -0.002068  0.118580 -0.196477 -0.035119  0.619517 -0.094472  \n",
      "150 -0.021972 -0.004480  0.113885 -0.189259 -0.029090  0.610144 -0.106340  \n",
      "151 -0.009522  0.001222  0.113245 -0.196093 -0.030891  0.611011 -0.091565  \n",
      "152 -0.019768 -0.005893  0.123256 -0.194309 -0.034262  0.624166 -0.103111  \n",
      "153 -0.011757 -0.004066  0.117093 -0.195543 -0.033768  0.604782 -0.100442  \n",
      "154 -0.017352 -0.001737  0.107766 -0.190009 -0.036402  0.613185 -0.106835  \n",
      "155 -0.018394 -0.010686  0.114243 -0.187589 -0.028542  0.612622 -0.115725  \n",
      "156 -0.005076 -0.006426  0.126462 -0.201665 -0.032743  0.609893 -0.088570  \n",
      "157 -0.008113  0.008788  0.104788 -0.199417 -0.035326  0.621720 -0.100649  \n",
      "158 -0.002857 -0.005052  0.122884 -0.198799 -0.036460  0.615397 -0.090789  \n",
      "159 -0.021450  0.002483  0.116439 -0.204834 -0.036437  0.611454 -0.106381  \n",
      "160 -0.015707 -0.003670  0.123008 -0.200839 -0.034940  0.623055 -0.100037  \n",
      "161 -0.018745 -0.000501  0.117918 -0.201262 -0.034265  0.609338 -0.097348  \n",
      "162 -0.022302 -0.006649  0.133911 -0.200357 -0.042879  0.615188 -0.095740  \n",
      "163 -0.024852 -0.007118  0.123345 -0.184591 -0.033338  0.594797 -0.082796  \n",
      "164 -0.030996 -0.000962  0.104001 -0.179316 -0.037042  0.603975 -0.110341  \n",
      "165 -0.034572 -0.007904  0.134749 -0.202264 -0.034044  0.608612 -0.101639  \n",
      "166 -0.015374 -0.002482  0.132243 -0.204775 -0.036004  0.615624 -0.083152  \n",
      "167 -0.026502 -0.002983  0.115879 -0.194177 -0.034532  0.612965 -0.110127  \n",
      "168 -0.032562 -0.003305  0.116716 -0.192797 -0.032400  0.602871 -0.100587  \n",
      "169 -0.004667 -0.007506  0.110549 -0.177510 -0.034795  0.612760 -0.103148  \n",
      "170 -0.016649 -0.009300  0.119125 -0.192596 -0.035288  0.607496 -0.102074  \n",
      "171 -0.006811 -0.006392  0.114054 -0.183157 -0.036067  0.620029 -0.107767  \n",
      "172 -0.016774  0.001626  0.114332 -0.197454 -0.036773  0.619276 -0.103910  \n",
      "173 -0.019468 -0.010372  0.106636 -0.170862 -0.029416  0.612990 -0.116766  \n",
      "174 -0.013615  0.000654  0.125357 -0.197105 -0.035009  0.611756 -0.085463  \n",
      "175  0.001591  0.000591  0.109272 -0.181282 -0.039896  0.609640 -0.079314  \n",
      "176 -0.001046 -0.006320  0.119847 -0.194001 -0.031733  0.607307 -0.090488  \n",
      "177 -0.019140 -0.009481  0.122833 -0.183554 -0.032036  0.595480 -0.086819  \n",
      "\n",
      "[178 rows x 64 columns]\n"
     ]
    }
   ],
   "source": [
    "average_hidden_pd = pd.DataFrame(np.row_stack(average_hidden))\n",
    "final_hidden_pd = pd.DataFrame(np.row_stack(final_hidden_list))\n",
    "print(final_hidden_pd)"
   ]
  },
  {
   "cell_type": "code",
   "execution_count": 10,
   "metadata": {},
   "outputs": [],
   "source": [
    "average_hidden_pd.to_csv(\"emi_iso_reps.csv\")\n",
    "final_hidden_pd.to_csv(\"emi_iso_finalhidden.csv\")"
   ]
  },
  {
   "cell_type": "code",
   "execution_count": 4,
   "metadata": {},
   "outputs": [
    {
     "ename": "NameError",
     "evalue": "name 'QVQLVQSGAEVKKPGASVKVSCKASGYTFTDYYMHWVRQAPGQGLEWMGRVNPNRRGTTYNQKFEGRVTMTTDTSTSTAYMELRSLRSDDTAVYYCARANWLDYWGQGTTVTVSS' is not defined",
     "output_type": "error",
     "traceback": [
      "\u001b[0;31m---------------------------------------------------------------------------\u001b[0m",
      "\u001b[0;31mNameError\u001b[0m                                 Traceback (most recent call last)",
      "\u001b[0;32m<ipython-input-4-2661d4686aef>\u001b[0m in \u001b[0;36m<module>\u001b[0;34m()\u001b[0m\n\u001b[0;32m----> 1\u001b[0;31m \u001b[0mavg_hidden\u001b[0m\u001b[0;34m,\u001b[0m \u001b[0mfinal_hidden\u001b[0m\u001b[0;34m,\u001b[0m \u001b[0mfinal_cell\u001b[0m \u001b[0;34m=\u001b[0m \u001b[0;34m(\u001b[0m\u001b[0mb\u001b[0m\u001b[0;34m.\u001b[0m\u001b[0mget_rep\u001b[0m\u001b[0;34m(\u001b[0m\u001b[0mQVQLVQSGAEVKKPGASVKVSCKASGYTFTDYYMHWVRQAPGQGLEWMGRVNPNRRGTTYNQKFEGRVTMTTDTSTSTAYMELRSLRSDDTAVYYCARANWLDYWGQGTTVTVSS\u001b[0m\u001b[0;34m)\u001b[0m\u001b[0;34m)\u001b[0m\u001b[0;34m\u001b[0m\u001b[0m\n\u001b[0m",
      "\u001b[0;31mNameError\u001b[0m: name 'QVQLVQSGAEVKKPGASVKVSCKASGYTFTDYYMHWVRQAPGQGLEWMGRVNPNRRGTTYNQKFEGRVTMTTDTSTSTAYMELRSLRSDDTAVYYCARANWLDYWGQGTTVTVSS' is not defined"
     ]
    }
   ],
   "source": [
    "avg_hidden, final_hidden, final_cell = (b.get_rep(QVQLVQSGAEVKKPGASVKVSCKASGYTFTDYYMHWVRQAPGQGLEWMGRVNPNRRGTTYNQKFEGRVTMTTDTSTSTAYMELRSLRSDDTAVYYCARANWLDYWGQGTTVTVSS))"
   ]
  },
  {
   "cell_type": "code",
   "execution_count": null,
   "metadata": {
    "collapsed": true
   },
   "outputs": [],
   "source": []
  },
  {
   "cell_type": "code",
   "execution_count": null,
   "metadata": {
    "collapsed": true
   },
   "outputs": [],
   "source": []
  }
 ],
 "metadata": {
  "kernelspec": {
   "display_name": "Python 3",
   "language": "python",
   "name": "python3"
  },
  "language_info": {
   "codemirror_mode": {
    "name": "ipython",
    "version": 3
   },
   "file_extension": ".py",
   "mimetype": "text/x-python",
   "name": "python",
   "nbconvert_exporter": "python",
   "pygments_lexer": "ipython3",
   "version": "3.5.2"
  }
 },
 "nbformat": 4,
 "nbformat_minor": 2
}
