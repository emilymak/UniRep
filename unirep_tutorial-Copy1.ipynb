{
 "cells": [
  {
   "cell_type": "code",
   "execution_count": 1,
   "metadata": {
    "collapsed": true
   },
   "outputs": [],
   "source": [
    "USE_FULL_1900_DIM_MODEL = False # if True use 1900 dimensional model, else use 64 dimensional one."
   ]
  },
  {
   "cell_type": "code",
   "execution_count": 2,
   "metadata": {
    "collapsed": true
   },
   "outputs": [],
   "source": [
    "import tensorflow as tf\n",
    "import numpy as np\n",
    "import pandas as pd\n",
    "import matplotlib.pyplot as plt\n",
    "\n",
    "# Set seeds\n",
    "tf.set_random_seed(42)\n",
    "np.random.seed(42)\n",
    "\n",
    "if USE_FULL_1900_DIM_MODEL:\n",
    "    # Sync relevant weight files\n",
    "    !aws s3 sync --no-sign-request --quiet s3://unirep-public/1900_weights/ 1900_weights/\n",
    "    \n",
    "    # Import the mLSTM babbler model\n",
    "    from unirep import babbler1900 as babbler\n",
    "    \n",
    "    # Where model weights are stored.\n",
    "    MODEL_WEIGHT_PATH = \"./1900_weights\"\n",
    "    \n",
    "else:\n",
    "    # Sync relevant weight files\n",
    "    !aws s3 sync --no-sign-request --quiet s3://unirep-public/64_weights/ 64_weights/\n",
    "    \n",
    "    # Import the mLSTM babbler model\n",
    "    from unirep import babbler64 as babbler\n",
    "    \n",
    "    # Where model weights are stored.\n",
    "    MODEL_WEIGHT_PATH = \"./64_weights\""
   ]
  },
  {
   "cell_type": "code",
   "execution_count": 3,
   "metadata": {},
   "outputs": [
    {
     "name": "stderr",
     "output_type": "stream",
     "text": [
      "/usr/local/lib/python3.5/dist-packages/h5py/__init__.py:34: FutureWarning: Conversion of the second argument of issubdtype from `float` to `np.floating` is deprecated. In future, it will be treated as `np.float64 == np.dtype(float).type`.\n",
      "  from ._conv import register_converters as _register_converters\n"
     ]
    }
   ],
   "source": [
    "batch_size = 50\n",
    "b = babbler(batch_size=batch_size, model_path=MODEL_WEIGHT_PATH)"
   ]
  },
  {
   "cell_type": "code",
   "execution_count": 5,
   "metadata": {},
   "outputs": [],
   "source": [
    "# Before you can train your model, \n",
    "sequences = []\n",
    "with open(\"emi_novel_R2_seqs.txt\", \"r\") as source:\n",
    "    with open(\"formatted.txt\", \"w\") as destination:\n",
    "        for i,seq in enumerate(source):\n",
    "            seq = seq.strip()\n",
    "            sequences.append(seq)\n",
    "            if b.is_valid_seq(seq) and len(seq) < 275: \n",
    "                formatted = \",\".join(map(str,b.format_seq(seq)))\n",
    "                destination.write(formatted)\n",
    "                destination.write('\\n')"
   ]
  },
  {
   "cell_type": "code",
   "execution_count": 6,
   "metadata": {
    "scrolled": false
   },
   "outputs": [
    {
     "ename": "IndexError",
     "evalue": "list index out of range",
     "output_type": "error",
     "traceback": [
      "\u001b[0;31m---------------------------------------------------------------------------\u001b[0m",
      "\u001b[0;31mIndexError\u001b[0m                                Traceback (most recent call last)",
      "\u001b[0;32m<ipython-input-6-15decadfd271>\u001b[0m in \u001b[0;36m<module>\u001b[0;34m()\u001b[0m\n\u001b[1;32m     12\u001b[0m     \u001b[0mnum1\u001b[0m \u001b[0;34m=\u001b[0m \u001b[0mrange\u001b[0m\u001b[0;34m(\u001b[0m\u001b[0mx\u001b[0m\u001b[0;34m,\u001b[0m \u001b[0my\u001b[0m\u001b[0;34m)\u001b[0m\u001b[0;34m\u001b[0m\u001b[0m\n\u001b[1;32m     13\u001b[0m     \u001b[0;32mfor\u001b[0m \u001b[0mj\u001b[0m \u001b[0;32min\u001b[0m \u001b[0mnum1\u001b[0m\u001b[0;34m:\u001b[0m\u001b[0;34m\u001b[0m\u001b[0m\n\u001b[0;32m---> 14\u001b[0;31m         \u001b[0mavg_hidden\u001b[0m\u001b[0;34m,\u001b[0m \u001b[0mfinal_hidden\u001b[0m\u001b[0;34m,\u001b[0m \u001b[0mfinal_cell\u001b[0m\u001b[0;34m,\u001b[0m \u001b[0mhs_out\u001b[0m \u001b[0;34m=\u001b[0m \u001b[0;34m(\u001b[0m\u001b[0mb\u001b[0m\u001b[0;34m.\u001b[0m\u001b[0mget_rep_hs\u001b[0m\u001b[0;34m(\u001b[0m\u001b[0msequences\u001b[0m\u001b[0;34m[\u001b[0m\u001b[0mj\u001b[0m\u001b[0;34m]\u001b[0m\u001b[0;34m)\u001b[0m\u001b[0;34m)\u001b[0m\u001b[0;34m\u001b[0m\u001b[0m\n\u001b[0m\u001b[1;32m     15\u001b[0m         \u001b[0maverage_hidden_list\u001b[0m\u001b[0;34m.\u001b[0m\u001b[0mappend\u001b[0m\u001b[0;34m(\u001b[0m\u001b[0mavg_hidden\u001b[0m\u001b[0;34m)\u001b[0m\u001b[0;34m\u001b[0m\u001b[0m\n\u001b[1;32m     16\u001b[0m         \u001b[0mfinal_hidden_list\u001b[0m\u001b[0;34m.\u001b[0m\u001b[0mappend\u001b[0m\u001b[0;34m(\u001b[0m\u001b[0mfinal_hidden\u001b[0m\u001b[0;34m)\u001b[0m\u001b[0;34m\u001b[0m\u001b[0m\n",
      "\u001b[0;31mIndexError\u001b[0m: list index out of range"
     ]
    }
   ],
   "source": [
    "## \n",
    "average_hidden_list = []\n",
    "final_hidden_list = []\n",
    "hs_list = []\n",
    "final_cell_list = []\n",
    "\n",
    "\n",
    "num2 = range(0, 50)\n",
    "x = 0\n",
    "y = 50\n",
    "for i in num2:\n",
    "    num1 = range(x, y)\n",
    "    for j in num1:\n",
    "        avg_hidden, final_hidden, final_cell, hs_out = (b.get_rep_hs(sequences[j]))\n",
    "        average_hidden_list.append(avg_hidden)\n",
    "        final_hidden_list.append(final_hidden)\n",
    "        final_cell_list.append(final_cell)\n",
    "        hs_list.append(hs_out)\n",
    "    print('rep')\n",
    "    x = x + 50\n",
    "    y = y + 50\n",
    "    \n"
   ]
  },
  {
   "cell_type": "code",
   "execution_count": 7,
   "metadata": {},
   "outputs": [
    {
     "name": "stdout",
     "output_type": "stream",
     "text": [
      "          0         1         2         3         4         5         6   \\\n",
      "0   0.035535  0.167171 -0.098253 -0.961980 -0.011877 -0.245272  0.058685   \n",
      "1   0.034834  0.166253 -0.100336 -0.960168 -0.012382 -0.245872  0.057680   \n",
      "2   0.036384  0.164464 -0.095186 -0.958135 -0.010737 -0.240504  0.057311   \n",
      "3   0.033601  0.165395 -0.100427 -0.961394 -0.013071 -0.247018  0.058941   \n",
      "4   0.035962  0.167376 -0.100315 -0.960088 -0.012033 -0.247449  0.056915   \n",
      "5   0.033054  0.163880 -0.101697 -0.957339 -0.011935 -0.247242  0.061496   \n",
      "6   0.034182  0.167940 -0.099446 -0.960929 -0.011812 -0.245349  0.058089   \n",
      "7   0.034949  0.169506 -0.105904 -0.955092 -0.013352 -0.242997  0.062520   \n",
      "8   0.037837  0.170839 -0.102597 -0.956848 -0.012679 -0.247230  0.062006   \n",
      "9   0.033029  0.166501 -0.099412 -0.958391 -0.010912 -0.251335  0.061225   \n",
      "10  0.029307  0.171944 -0.099085 -0.955278 -0.011593 -0.234247  0.065672   \n",
      "11  0.034465  0.165498 -0.098959 -0.959000 -0.011372 -0.252436  0.060635   \n",
      "12  0.029258  0.170004 -0.098930 -0.955979 -0.012158 -0.231083  0.065115   \n",
      "13  0.035662  0.169619 -0.099587 -0.958503 -0.011411 -0.253271  0.063937   \n",
      "14  0.037469  0.173158 -0.102131 -0.958471 -0.012771 -0.247528  0.061860   \n",
      "15  0.029460  0.173320 -0.098503 -0.956742 -0.012576 -0.231185  0.067829   \n",
      "16  0.032226  0.168829 -0.098758 -0.956014 -0.008548 -0.263076  0.066043   \n",
      "17  0.031616  0.161915 -0.093422 -0.956551 -0.007540 -0.249998  0.060735   \n",
      "18  0.032592  0.166784 -0.098264 -0.956176 -0.009562 -0.257651  0.065235   \n",
      "19  0.031731  0.162549 -0.102591 -0.957333 -0.011595 -0.246988  0.064050   \n",
      "20  0.025125  0.162734 -0.097500 -0.957520 -0.010397 -0.237982  0.066473   \n",
      "21  0.034133  0.165523 -0.098105 -0.956836 -0.010310 -0.261821  0.066121   \n",
      "22  0.032169  0.164333 -0.097741 -0.959515 -0.010267 -0.255729  0.064316   \n",
      "23  0.030239  0.163587 -0.103729 -0.953841 -0.010658 -0.251740  0.067908   \n",
      "\n",
      "          7         8         9     ...           54        55        56  \\\n",
      "0   0.229169  0.305929 -0.360884    ...     0.116462  0.001296  0.050328   \n",
      "1   0.229734  0.305922 -0.361145    ...     0.117687  0.001503  0.050140   \n",
      "2   0.232792  0.302690 -0.352314    ...     0.117336  0.001770  0.052042   \n",
      "3   0.230432  0.303291 -0.362210    ...     0.120466  0.001702  0.050326   \n",
      "4   0.229628  0.306486 -0.363706    ...     0.118197  0.001017  0.051022   \n",
      "5   0.237278  0.301030 -0.365664    ...     0.118868  0.002771  0.051550   \n",
      "6   0.229874  0.305083 -0.360441    ...     0.117125  0.001020  0.050301   \n",
      "7   0.238446  0.297109 -0.368976    ...     0.121128  0.001260  0.051696   \n",
      "8   0.237875  0.299585 -0.371466    ...     0.119656  0.001147  0.050946   \n",
      "9   0.237682  0.301577 -0.367515    ...     0.118171  0.001774  0.050891   \n",
      "10  0.245244  0.289777 -0.382583    ...     0.122738 -0.001996  0.048300   \n",
      "11  0.237104  0.302015 -0.368567    ...     0.118669  0.001753  0.052235   \n",
      "12  0.244279  0.289258 -0.379424    ...     0.122256 -0.001055  0.049167   \n",
      "13  0.230805  0.300361 -0.371110    ...     0.117674  0.000892  0.048415   \n",
      "14  0.232488  0.302860 -0.372114    ...     0.117713  0.000475  0.051314   \n",
      "15  0.240272  0.291666 -0.380581    ...     0.119758 -0.001315  0.045681   \n",
      "16  0.247054  0.299257 -0.383903    ...     0.122374  0.000469  0.051556   \n",
      "17  0.238920  0.301666 -0.361835    ...     0.118899  0.002073  0.055370   \n",
      "18  0.243665  0.300140 -0.377578    ...     0.119143  0.002820  0.051888   \n",
      "19  0.226792  0.303028 -0.357838    ...     0.116440  0.003129  0.045819   \n",
      "20  0.232798  0.295453 -0.369469    ...     0.119118  0.001181  0.043925   \n",
      "21  0.238087  0.297827 -0.377472    ...     0.119552  0.001718  0.050124   \n",
      "22  0.226712  0.304697 -0.361421    ...     0.115251  0.002105  0.044076   \n",
      "23  0.233651  0.298852 -0.370521    ...     0.119166  0.002891  0.047277   \n",
      "\n",
      "          57        58        59        60        61        62        63  \n",
      "0  -0.024351 -0.030025  0.315652 -0.166857 -0.047089  0.506745 -0.026416  \n",
      "1  -0.022877 -0.030872  0.315523 -0.165818 -0.046495  0.508885 -0.026148  \n",
      "2  -0.029547 -0.032574  0.323986 -0.164156 -0.047544  0.505499 -0.026163  \n",
      "3  -0.021263 -0.031608  0.316457 -0.165545 -0.046082  0.507190 -0.023929  \n",
      "4  -0.021650 -0.031859  0.315484 -0.165350 -0.046478  0.509266 -0.026625  \n",
      "5  -0.025331 -0.030616  0.319058 -0.168537 -0.046926  0.514612 -0.029333  \n",
      "6  -0.023930 -0.030938  0.316306 -0.166551 -0.046822  0.507011 -0.026730  \n",
      "7  -0.025805 -0.031381  0.327383 -0.172800 -0.047332  0.515252 -0.028365  \n",
      "8  -0.023633 -0.032044  0.327526 -0.172227 -0.047610  0.516691 -0.028845  \n",
      "9  -0.024047 -0.031747  0.319041 -0.168321 -0.047150  0.513379 -0.030480  \n",
      "10 -0.028410 -0.032177  0.330895 -0.171971 -0.048571  0.511751 -0.028604  \n",
      "11 -0.022917 -0.032257  0.317589 -0.166606 -0.046851  0.513323 -0.029706  \n",
      "12 -0.029192 -0.032136  0.330806 -0.171619 -0.048103  0.510949 -0.027377  \n",
      "13 -0.024767 -0.030291  0.323217 -0.170463 -0.048989  0.518081 -0.027488  \n",
      "14 -0.023803 -0.031481  0.322104 -0.168755 -0.048952  0.514237 -0.029005  \n",
      "15 -0.032127 -0.028587  0.330680 -0.173269 -0.048799  0.511554 -0.025848  \n",
      "16 -0.020473 -0.034772  0.325508 -0.170498 -0.047294  0.520494 -0.035858  \n",
      "17 -0.030048 -0.033732  0.320938 -0.162689 -0.047577  0.509693 -0.032205  \n",
      "18 -0.024404 -0.032120  0.323751 -0.170645 -0.047572  0.520619 -0.035036  \n",
      "19 -0.026382 -0.026837  0.321876 -0.168164 -0.049015  0.516847 -0.025659  \n",
      "20 -0.027875 -0.028873  0.325946 -0.166721 -0.048797  0.515077 -0.023407  \n",
      "21 -0.022947 -0.031955  0.325005 -0.169732 -0.049359  0.522720 -0.030883  \n",
      "22 -0.023443 -0.027673  0.321832 -0.167227 -0.048847  0.516845 -0.025369  \n",
      "23 -0.026860 -0.028152  0.326125 -0.170934 -0.049596  0.522452 -0.029125  \n",
      "\n",
      "[24 rows x 64 columns]\n"
     ]
    }
   ],
   "source": [
    "average_hidden_pd = pd.DataFrame(np.row_stack(average_hidden_list))\n",
    "final_hidden_pd = pd.DataFrame(np.row_stack(final_hidden_list))\n",
    "hidden_state = pd.DataFrame(np.row_stack(hs_list))\n",
    "print(average_hidden_pd)"
   ]
  },
  {
   "cell_type": "code",
   "execution_count": 8,
   "metadata": {
    "collapsed": true
   },
   "outputs": [],
   "source": [
    "average_hidden_pd.to_csv(\"emi_novel_R2_reps.csv\")\n",
    "final_hidden_pd.to_csv(\"emi_novel_R2_finalhidden.csv\")"
   ]
  },
  {
   "cell_type": "code",
   "execution_count": 8,
   "metadata": {
    "collapsed": true
   },
   "outputs": [],
   "source": [
    "import pickle\n",
    "save_loc = \"C:\\\\Users\\\\makow\\\\Documents\\\\GitHub\\\\UniRep\\\\Datasets\"\n",
    "data_name = 'ins_seq_1'\n",
    "file_append = '.pickle'\n",
    "\n",
    "\n",
    "fn = save_loc + data_name + 'avg_hidden' + file_append\n",
    "with open(fn, 'wb') as f:\n",
    "    pickle.dump(average_hidden_list, f)\n",
    "\n",
    "fn = save_loc + data_name + 'final_hidden' + file_append\n",
    "with open(fn, 'wb') as f:\n",
    "    pickle.dump(final_hidden_list, f)\n",
    "\n",
    "fn = save_loc + data_name + 'final_cell' + file_append\n",
    "with open(fn, 'wb') as f:\n",
    "    pickle.dump(final_cell_list, f)\n",
    "   \n",
    "fn = save_loc + data_name + 'hidden_state' + file_append\n",
    "with open(fn, 'wb') as f:\n",
    "    pickle.dump(hs_list, f)\n",
    "   \n",
    "fn = save_loc + data_name + 'all_output_hs' + file_append\n",
    "with open(fn, 'wb') as f:\n",
    "    pickle.dump([average_hidden_list, final_hidden_list, final_cell_list, hs_list], f)"
   ]
  },
  {
   "cell_type": "code",
   "execution_count": null,
   "metadata": {
    "collapsed": true
   },
   "outputs": [],
   "source": []
  },
  {
   "cell_type": "code",
   "execution_count": null,
   "metadata": {
    "collapsed": true
   },
   "outputs": [],
   "source": []
  }
 ],
 "metadata": {
  "kernelspec": {
   "display_name": "Python 3",
   "language": "python",
   "name": "python3"
  },
  "language_info": {
   "codemirror_mode": {
    "name": "ipython",
    "version": 3
   },
   "file_extension": ".py",
   "mimetype": "text/x-python",
   "name": "python",
   "nbconvert_exporter": "python",
   "pygments_lexer": "ipython3",
   "version": "3.5.2"
  }
 },
 "nbformat": 4,
 "nbformat_minor": 2
}
