{
 "cells": [
  {
   "cell_type": "markdown",
   "metadata": {},
   "source": [
    "## How to use the UniRep mLSTM \"babbler\". This version demonstrates the 64-unit and the 1900-unit architecture. \n",
    "\n",
    "We recommend getting started with the 64-unit architecture as it is easier and faster to run, but has the same interface as the 1900-unit one."
   ]
  },
  {
   "cell_type": "markdown",
   "metadata": {},
   "source": [
    "Use the 64-unit or the 1900-unit model?"
   ]
  },
  {
   "cell_type": "code",
   "execution_count": 1,
   "metadata": {
    "collapsed": true
   },
   "outputs": [],
   "source": [
    "USE_FULL_1900_DIM_MODEL = False # if True use 1900 dimensional model, else use 64 dimensional one."
   ]
  },
  {
   "cell_type": "markdown",
   "metadata": {},
   "source": [
    "## Setup"
   ]
  },
  {
   "cell_type": "code",
   "execution_count": 2,
   "metadata": {
    "collapsed": true
   },
   "outputs": [],
   "source": [
    "import tensorflow as tf\n",
    "import numpy as np\n",
    "import pandas as pd\n",
    "import matplotlib.pyplot as plt\n",
    "\n",
    "# Set seeds\n",
    "tf.set_random_seed(42)\n",
    "np.random.seed(42)\n",
    "\n",
    "if USE_FULL_1900_DIM_MODEL:\n",
    "    # Sync relevant weight files\n",
    "    !aws s3 sync --no-sign-request --quiet s3://unirep-public/1900_weights/ 1900_weights/\n",
    "    \n",
    "    # Import the mLSTM babbler model\n",
    "    from unirep import babbler1900 as babbler\n",
    "    \n",
    "    # Where model weights are stored.\n",
    "    MODEL_WEIGHT_PATH = \"./1900_weights\"\n",
    "    \n",
    "else:\n",
    "    # Sync relevant weight files\n",
    "    !aws s3 sync --no-sign-request --quiet s3://unirep-public/64_weights/ 64_weights/\n",
    "    \n",
    "    # Import the mLSTM babbler model\n",
    "    from unirep import babbler64 as babbler\n",
    "    \n",
    "    # Where model weights are stored.\n",
    "    MODEL_WEIGHT_PATH = \"./64_weights\""
   ]
  },
  {
   "cell_type": "markdown",
   "metadata": {},
   "source": [
    "## Data formatting and management"
   ]
  },
  {
   "cell_type": "markdown",
   "metadata": {},
   "source": [
    "Initialize UniRep, also referred to as the \"babbler\" in our code. You need to provide the batch size you will use and the path to the weight directory."
   ]
  },
  {
   "cell_type": "code",
   "execution_count": 3,
   "metadata": {},
   "outputs": [
    {
     "name": "stderr",
     "output_type": "stream",
     "text": [
      "/usr/local/lib/python3.5/dist-packages/h5py/__init__.py:34: FutureWarning: Conversion of the second argument of issubdtype from `float` to `np.floating` is deprecated. In future, it will be treated as `np.float64 == np.dtype(float).type`.\n",
      "  from ._conv import register_converters as _register_converters\n"
     ]
    }
   ],
   "source": [
    "batch_size = 50\n",
    "b = babbler(batch_size=batch_size, model_path=MODEL_WEIGHT_PATH)"
   ]
  },
  {
   "cell_type": "markdown",
   "metadata": {},
   "source": [
    "UniRep needs to receive data in the correct format, a (batch_size, max_seq_len) matrix with integer values, where the integers correspond to an amino acid label at that position, and the end of the sequence is padded with 0s until the max sequence length to form a non-ragged rectangular matrix. We provide a formatting function to translate a string of amino acids into a list of integers with the correct codex:"
   ]
  },
  {
   "cell_type": "code",
   "execution_count": 4,
   "metadata": {
    "collapsed": true
   },
   "outputs": [],
   "source": [
    "seq_open = open(\"./emi_iso_seqs.txt\")\n",
    "seq = seq_open.read()"
   ]
  },
  {
   "cell_type": "code",
   "execution_count": 5,
   "metadata": {
    "collapsed": true
   },
   "outputs": [],
   "source": [
    "seq_formatted = []\n",
    "for line in seq.splitlines():\n",
    "    seq_formatted.append(np.array(b.format_seq(line)))"
   ]
  },
  {
   "cell_type": "markdown",
   "metadata": {},
   "source": [
    "We also provide a function that will check your amino acid sequences don't contain any characters which will break the UniRep model."
   ]
  },
  {
   "cell_type": "code",
   "execution_count": null,
   "metadata": {
    "collapsed": true
   },
   "outputs": [],
   "source": [
    "b.is_valid_seq(seq)"
   ]
  },
  {
   "cell_type": "markdown",
   "metadata": {},
   "source": [
    "You could use your own data flow as long as you ensure that the data format is obeyed. Alternatively, you can use the data flow we've implemented for UniRep training, which happens in the tensorflow graph. It reads from a file of integer sequences, shuffles them around, collects them into groups of similar length (to minimize padding waste) and pads them to the max_length. Here's how to do that:"
   ]
  },
  {
   "cell_type": "markdown",
   "metadata": {},
   "source": [
    "First, sequences need to be saved in the correct format. Suppose we have a new-line seperated file of amino acid sequences, `seqs.txt`, and we want to format them. Note that training is currently only publicly supported for amino acid sequences less than 275 amino acids as gradient updates for sequences longer than that start to get unwieldy. If you want to train on sequences longer than this, please reach out to us. \n",
    "\n",
    "Sequence formatting can be done as follows:"
   ]
  },
  {
   "cell_type": "code",
   "execution_count": 4,
   "metadata": {
    "collapsed": true
   },
   "outputs": [],
   "source": [
    "# Before you can train your model, \n",
    "sequences = []\n",
    "with open(\"emi_neg_seqs_7Y_4.txt\", \"r\") as source:\n",
    "    with open(\"formatted.txt\", \"w\") as destination:\n",
    "        for i,seq in enumerate(source):\n",
    "            seq = seq.strip()\n",
    "            sequences.append(seq)\n",
    "            if b.is_valid_seq(seq) and len(seq) < 275: \n",
    "                formatted = \",\".join(map(str,b.format_seq(seq)))\n",
    "                destination.write(formatted)\n",
    "                destination.write('\\n')"
   ]
  },
  {
   "cell_type": "markdown",
   "metadata": {},
   "source": [
    "This is what the integer format looks like"
   ]
  },
  {
   "cell_type": "code",
   "execution_count": null,
   "metadata": {
    "collapsed": true
   },
   "outputs": [],
   "source": [
    "!head -n1 formatted.txt"
   ]
  },
  {
   "cell_type": "markdown",
   "metadata": {},
   "source": [
    "Notice that by default format_seq does not include the stop symbol (25) at the end of the sequence. This is the correct behavior if you are trying to train a top model, but not if you are training UniRep representations."
   ]
  },
  {
   "cell_type": "markdown",
   "metadata": {},
   "source": [
    "Now we can use a custom function to bucket, batch and pad sequences from `formatted.txt` (which has the correct integer codex after calling `babbler.format_seq()`). The bucketing occurs in the graph. \n",
    "\n",
    "What is bucketing? Specify a lower and upper bound, and interval. All sequences less than lower or greater than upper will be batched together. The interval defines the \"sides\" of buckets between these bounds. Don't pick a small interval for a small dataset because the function will just repeat a sequence if there are not enough to\n",
    "fill a batch. All batches are the size you passed when initializing the babbler.\n",
    "\n",
    "This is also doing a few other things:\n",
    "- Shuffling the sequences by randomly sampling from a 10000 sequence buffer\n",
    "- Automatically padding the sequences with zeros so the returned batch is a perfect rectangle\n",
    "- Automatically repeating the dataset"
   ]
  },
  {
   "cell_type": "code",
   "execution_count": 7,
   "metadata": {
    "collapsed": true
   },
   "outputs": [],
   "source": [
    "bucket_op = b.bucket_batch_pad(\"formatted.txt\", interval=1000) # Large interval"
   ]
  },
  {
   "cell_type": "markdown",
   "metadata": {},
   "source": [
    "Inconveniently, this does not make it easy for a value to be associated with each sequence and not lost during shuffling. You can get around this by just prepending every integer sequence with the sequence label (eg, every sequence would be saved to the file as \"{brightness value}, 24, 1, 5,...\" and then you could just index out the first column after calling the `bucket_op`. Please reach out if you have questions on how to do this."
   ]
  },
  {
   "cell_type": "markdown",
   "metadata": {},
   "source": [
    "Now that we have the `bucket_op`, we can simply `sess.run()` it to get a correctly formatted batch"
   ]
  },
  {
   "cell_type": "code",
   "execution_count": 8,
   "metadata": {},
   "outputs": [
    {
     "name": "stdout",
     "output_type": "stream",
     "text": [
      "[[24 10 16 ... 16  7  7]\n",
      " [24 10 16 ... 16  7  7]\n",
      " [24 10 16 ... 16  7  7]\n",
      " ...\n",
      " [24 10 16 ... 16  7  7]\n",
      " [24 10 16 ... 16  7  7]\n",
      " [24 10 16 ... 16  7  7]]\n",
      "(50, 116)\n"
     ]
    }
   ],
   "source": [
    "with tf.Session() as sess:\n",
    "    sess.run(tf.global_variables_initializer())\n",
    "    batch = sess.run(bucket_op)\n",
    "    \n",
    "print(batch)\n",
    "print(batch.shape)"
   ]
  },
  {
   "cell_type": "markdown",
   "metadata": {},
   "source": [
    "You can look back and see that the batch_size we passed to __init__ is indeed 12, and the second dimension must be the longest sequence included in this batch. Now we have the data flow setup (note that as long as your batch looks like this, you don't need my flow), so we can proceed to implementing the graph. The module returns all the operations needed to feed in sequence and get out trainable representations."
   ]
  },
  {
   "cell_type": "markdown",
   "metadata": {},
   "source": [
    "## Training a top model and a top model + mLSTM."
   ]
  },
  {
   "cell_type": "markdown",
   "metadata": {},
   "source": [
    "First, obtain all of the ops needed to output a representation"
   ]
  },
  {
   "cell_type": "code",
   "execution_count": 9,
   "metadata": {
    "collapsed": true
   },
   "outputs": [],
   "source": [
    "final_hidden, x_placeholder, batch_size_placeholder, seq_length_placeholder, initial_state_placeholder = (\n",
    "    b.get_rep_ops())"
   ]
  },
  {
   "cell_type": "markdown",
   "metadata": {},
   "source": [
    "`final_hidden` should be a batch_size x rep_dim matrix.\n",
    "\n",
    "Lets say we want to train a basic feed-forward network as the top model, doing regression with MSE loss, and the Adam optimizer. We can do that by:\n",
    "\n",
    "1.  Defining a loss function.\n",
    "\n",
    "2.  Defining an optimizer that's only optimizing variables in the top model.\n",
    "\n",
    "3.  Minimizing the loss inside of a TensorFlow session"
   ]
  },
  {
   "cell_type": "code",
   "execution_count": 10,
   "metadata": {
    "collapsed": true
   },
   "outputs": [],
   "source": [
    "y_placeholder = tf.placeholder(tf.float32, shape=[None,1], name=\"y\")\n",
    "initializer = tf.contrib.layers.xavier_initializer(uniform=False)\n",
    "\n",
    "with tf.variable_scope(\"top\"):\n",
    "    prediction = tf.contrib.layers.fully_connected(\n",
    "        final_hidden, 1, activation_fn=None, \n",
    "        weights_initializer=initializer,\n",
    "        biases_initializer=tf.zeros_initializer()\n",
    "    )\n",
    "\n",
    "loss = tf.losses.mean_squared_error(y_placeholder, prediction)"
   ]
  },
  {
   "cell_type": "markdown",
   "metadata": {},
   "source": [
    "You can specifically train the top model first by isolating variables of the \"top\" scope, and forcing the optimizer to only optimize these."
   ]
  },
  {
   "cell_type": "code",
   "execution_count": 11,
   "metadata": {
    "collapsed": true
   },
   "outputs": [],
   "source": [
    "learning_rate=.005\n",
    "top_variables = tf.get_collection(tf.GraphKeys.GLOBAL_VARIABLES, scope=\"top\")\n",
    "optimizer = tf.train.AdamOptimizer(learning_rate)\n",
    "top_only_step_op = optimizer.minimize(loss, var_list=top_variables)\n",
    "all_step_op = optimizer.minimize(loss)"
   ]
  },
  {
   "cell_type": "markdown",
   "metadata": {},
   "source": [
    "We next need to define a function that allows us to calculate the length each sequence in the batch so that we know what index to use to obtain the right \"final\" hidden state"
   ]
  },
  {
   "cell_type": "code",
   "execution_count": 12,
   "metadata": {},
   "outputs": [
    {
     "data": {
      "text/plain": [
       "array([116, 116, 116, 116, 116, 116, 116, 116, 116, 116, 116, 116, 116,\n",
       "       116, 116, 116, 116, 116, 116, 116, 116, 116, 116, 116, 116, 116,\n",
       "       116, 116, 116, 116, 116, 116, 116, 116, 116, 116, 116, 116, 116,\n",
       "       116, 116, 116, 116, 116, 116, 116, 116, 116, 116, 116])"
      ]
     },
     "execution_count": 12,
     "metadata": {},
     "output_type": "execute_result"
    }
   ],
   "source": [
    "def nonpad_len(batch):\n",
    "    nonzero = batch > 0\n",
    "    lengths = np.sum(nonzero, axis=1)\n",
    "    return lengths\n",
    "\n",
    "nonpad_len(batch)"
   ]
  },
  {
   "cell_type": "markdown",
   "metadata": {},
   "source": [
    "We are ready to train. As an illustration, let's learn to predict the number 42 just optimizing the top model."
   ]
  },
  {
   "cell_type": "code",
   "execution_count": null,
   "metadata": {
    "collapsed": true
   },
   "outputs": [],
   "source": [
    "\"\"\"\n",
    "y = [[1], [1], [1], [0], [0], [0], [0], [0], [0], [1], [1], [1], [1], [0], [0], [0], [1], [0], [1], [1], [1], [1], [0], [1], [0], [0], [0], [1], [0], [1], [1], [0], [1], [0], [1], [0], [1], [1], [1], [1], [0], [1], [1], [1], [1], [0], [0], [1], [1], [1], [1], [1], [0], [1], [1], [1], [1], [1], [1], [1], [0], [1], [1]]\n",
    "num_iters = 1\n",
    "with tf.Session() as sess:\n",
    "    sess.run(tf.global_variables_initializer())\n",
    "    for i in range(num_iters):\n",
    "        batch = sess.run(bucket_op)\n",
    "        length = nonpad_len(batch)\n",
    "        loss_, __, = sess.run([loss, top_only_step_op],\n",
    "                feed_dict={\n",
    "                     x_placeholder: batch,\n",
    "                     y_placeholder: y,\n",
    "                     batch_size_placeholder: batch_size,\n",
    "                     seq_length_placeholder:length,\n",
    "                     initial_state_placeholder:b._zero_state\n",
    "                }\n",
    "        )\n",
    "        viscosity_pred, final_hidden_layer = sess.run([prediction, final_hidden],\n",
    "                feed_dict={\n",
    "                     x_placeholder: batch,\n",
    "                     batch_size_placeholder: batch_size,\n",
    "                     seq_length_placeholder:length,\n",
    "                     initial_state_placeholder:b._zero_state})\n",
    "        print(\"Iteration {0}: {1}\".format(i,loss_))\n",
    "#    print(np.hstack([viscosity_pred, y])\n",
    "    print(final_hidden_layer)\n",
    "    plt.scatter(viscosity_pred, y)\n",
    "    plt.show()\n",
    "\"\"\""
   ]
  },
  {
   "cell_type": "markdown",
   "metadata": {},
   "source": [
    "We can also jointly train the top model and the mLSTM. Note that if using the 1900-unit (full) model, you will need a GPU with at least 16GB RAM. To see a demonstration of joint training with fewer computational resources, please run this notebook using the 64-unit model."
   ]
  },
  {
   "cell_type": "code",
   "execution_count": null,
   "metadata": {
    "collapsed": true
   },
   "outputs": [],
   "source": [
    "\"\"\"y = [[1], [1], [1], [0], [0], [0], [0], [0], [0], [1], [1], [1], [1], [0], [0], [0], [1], [0], [1], [1], [1], [1], [0], [1], [0], [0], [0], [1], [0], [1], [1], [0], [1], [0], [1], [0], [1], [1], [1], [1], [0], [1], [1], [1], [1], [0], [0], [1], [1], [1], [1], [1], [0], [1], [1], [1], [1], [1], [1], [1], [0], [1], [1]]\n",
    "num_iters = 25\n",
    "with tf.Session() as sess:\n",
    "    sess.run(tf.global_variables_initializer())\n",
    "    for i in range(num_iters):\n",
    "        batch = sess.run(bucket_op)\n",
    "        length = nonpad_len(batch)\n",
    "        loss_, __, = sess.run([loss, all_step_op],\n",
    "                feed_dict={\n",
    "                     x_placeholder: batch,\n",
    "                     y_placeholder: y,\n",
    "                     batch_size_placeholder: batch_size,\n",
    "                     seq_length_placeholder:length,\n",
    "                     initial_state_placeholder:b._zero_state\n",
    "                }\n",
    "        )\n",
    "        viscosity_pred = sess.run(prediction,\n",
    "                feed_dict={\n",
    "                     x_placeholder: batch,\n",
    "                     batch_size_placeholder: batch_size,\n",
    "                     seq_length_placeholder:length,\n",
    "                     initial_state_placeholder:b._zero_state})\n",
    "        print(\"Iteration {0}: {1}\".format(i,loss_))\n",
    "    print(np.hstack([viscosity_pred, y]))\n",
    "\"\"\""
   ]
  },
  {
   "cell_type": "code",
   "execution_count": 5,
   "metadata": {
    "scrolled": true
   },
   "outputs": [
    {
     "ename": "IndexError",
     "evalue": "list index out of range",
     "output_type": "error",
     "traceback": [
      "\u001b[0;31m---------------------------------------------------------------------------\u001b[0m",
      "\u001b[0;31mIndexError\u001b[0m                                Traceback (most recent call last)",
      "\u001b[0;32m<ipython-input-5-abae7d084eab>\u001b[0m in \u001b[0;36m<module>\u001b[0;34m()\u001b[0m\n\u001b[1;32m     12\u001b[0m     \u001b[0mnum1\u001b[0m \u001b[0;34m=\u001b[0m \u001b[0mrange\u001b[0m\u001b[0;34m(\u001b[0m\u001b[0mx\u001b[0m\u001b[0;34m,\u001b[0m \u001b[0my\u001b[0m\u001b[0;34m)\u001b[0m\u001b[0;34m\u001b[0m\u001b[0m\n\u001b[1;32m     13\u001b[0m     \u001b[0;32mfor\u001b[0m \u001b[0mj\u001b[0m \u001b[0;32min\u001b[0m \u001b[0mnum1\u001b[0m\u001b[0;34m:\u001b[0m\u001b[0;34m\u001b[0m\u001b[0m\n\u001b[0;32m---> 14\u001b[0;31m         \u001b[0mavg_hidden\u001b[0m\u001b[0;34m,\u001b[0m \u001b[0mfinal_hidden\u001b[0m\u001b[0;34m,\u001b[0m \u001b[0mfinal_cell\u001b[0m\u001b[0;34m,\u001b[0m \u001b[0mhs_out\u001b[0m \u001b[0;34m=\u001b[0m \u001b[0;34m(\u001b[0m\u001b[0mb\u001b[0m\u001b[0;34m.\u001b[0m\u001b[0mget_rep_hs\u001b[0m\u001b[0;34m(\u001b[0m\u001b[0msequences\u001b[0m\u001b[0;34m[\u001b[0m\u001b[0mj\u001b[0m\u001b[0;34m]\u001b[0m\u001b[0;34m)\u001b[0m\u001b[0;34m)\u001b[0m\u001b[0;34m\u001b[0m\u001b[0m\n\u001b[0m\u001b[1;32m     15\u001b[0m         \u001b[0maverage_hidden_list\u001b[0m\u001b[0;34m.\u001b[0m\u001b[0mappend\u001b[0m\u001b[0;34m(\u001b[0m\u001b[0mavg_hidden\u001b[0m\u001b[0;34m)\u001b[0m\u001b[0;34m\u001b[0m\u001b[0m\n\u001b[1;32m     16\u001b[0m         \u001b[0mfinal_hidden_list\u001b[0m\u001b[0;34m.\u001b[0m\u001b[0mappend\u001b[0m\u001b[0;34m(\u001b[0m\u001b[0mfinal_hidden\u001b[0m\u001b[0;34m)\u001b[0m\u001b[0;34m\u001b[0m\u001b[0m\n",
      "\u001b[0;31mIndexError\u001b[0m: list index out of range"
     ]
    }
   ],
   "source": [
    "## \n",
    "average_hidden_list = []\n",
    "final_hidden_list = []\n",
    "hs_list = []\n",
    "final_cell_list = []\n",
    "\n",
    "\n",
    "num2 = range(0, 50)\n",
    "x = 0\n",
    "y = 50\n",
    "for i in num2:\n",
    "    num1 = range(x, y)\n",
    "    for j in num1:\n",
    "        avg_hidden, final_hidden, final_cell, hs_out = (b.get_rep_hs(sequences[j]))\n",
    "        average_hidden_list.append(avg_hidden)\n",
    "        final_hidden_list.append(final_hidden)\n",
    "        final_cell_list.append(final_cell)\n",
    "        hs_list.append(hs_out)\n",
    "        print('rep')\n",
    "    x = x + 50\n",
    "    y = y + 50\n",
    "    \n"
   ]
  },
  {
   "cell_type": "code",
   "execution_count": null,
   "metadata": {
    "collapsed": true
   },
   "outputs": [],
   "source": []
  },
  {
   "cell_type": "code",
   "execution_count": 8,
   "metadata": {},
   "outputs": [
    {
     "name": "stdout",
     "output_type": "stream",
     "text": [
      "             0         1         2         3         4         5         6   \\\n",
      "0     -0.165004  0.367741  0.358379 -0.652705  0.310745  0.112354  0.319343   \n",
      "1     -0.156224  0.020769 -0.005827 -0.946178 -0.175482  0.024309  0.109565   \n",
      "2     -0.076103  0.039707 -0.068597 -0.982010 -0.074966 -0.034950  0.068059   \n",
      "3     -0.058311  0.053986 -0.086645 -0.987298 -0.051170 -0.053258  0.027245   \n",
      "4     -0.003677  0.076352 -0.109282 -0.989626 -0.047260 -0.053738  0.027420   \n",
      "5     -0.038077  0.097799 -0.118403 -0.985669 -0.050498 -0.049629  0.037225   \n",
      "6      0.025612  0.064812 -0.113066 -0.984256 -0.059101 -0.051365  0.012105   \n",
      "7      0.049025  0.082313 -0.087995 -0.990922 -0.041432 -0.112213  0.029521   \n",
      "8      0.006583  0.135147 -0.078896 -0.990121 -0.015207 -0.122814  0.061241   \n",
      "9      0.008933  0.127565 -0.079991 -0.987132 -0.015113 -0.152265  0.025057   \n",
      "10     0.077980  0.103989 -0.058407 -0.984953 -0.021431 -0.128419  0.045190   \n",
      "11     0.026909  0.202782 -0.059125 -0.989396 -0.018550 -0.105592  0.042051   \n",
      "12     0.035936  0.159157 -0.088357 -0.969360 -0.026968 -0.056122  0.024937   \n",
      "13     0.059801  0.093132 -0.055557 -0.975596  0.002670 -0.008614  0.013640   \n",
      "14     0.062550  0.186707 -0.051769 -0.991475 -0.006423 -0.028718 -0.005721   \n",
      "15    -0.011214  0.167544 -0.043082 -0.991248 -0.011145 -0.035595  0.034426   \n",
      "16     0.058632  0.181080 -0.040065 -0.987976  0.017790 -0.069905  0.001385   \n",
      "17     0.029970  0.136943 -0.033349 -0.990374  0.005956 -0.082746  0.020479   \n",
      "18     0.000441  0.139913 -0.038506 -0.990033 -0.004634 -0.071803  0.016742   \n",
      "19     0.010915  0.160127 -0.046023 -0.979786 -0.002303 -0.025715 -0.015243   \n",
      "20     0.000773  0.222996 -0.049428 -0.987504  0.004572 -0.033628  0.006430   \n",
      "21     0.025222  0.186978 -0.068745 -0.972566  0.009812 -0.064642  0.029696   \n",
      "22     0.014874  0.136089 -0.071880 -0.985632 -0.014120 -0.041224 -0.008277   \n",
      "23     0.013732  0.130824 -0.094137 -0.940037  0.016129 -0.021758  0.006848   \n",
      "24     0.040988  0.195814 -0.055992 -0.972032  0.064121 -0.009580  0.047241   \n",
      "25     0.027895  0.113103 -0.053742 -0.974870  0.035050 -0.019315 -0.016683   \n",
      "26     0.006742  0.205769 -0.055555 -0.977195  0.057405 -0.013741  0.014226   \n",
      "27     0.018036  0.158473 -0.039804 -0.984140  0.025614 -0.047718 -0.009029   \n",
      "28     0.056865  0.188677 -0.014084 -0.986501  0.030536 -0.090299  0.052287   \n",
      "29    -0.006308  0.198464 -0.095512 -0.978152  0.017377 -0.077658  0.031064   \n",
      "...         ...       ...       ...       ...       ...       ...       ...   \n",
      "57970  0.052259  0.150926 -0.169700 -0.950766 -0.050380 -0.308447  0.035104   \n",
      "57971  0.065508  0.138270 -0.214862 -0.891462 -0.053413 -0.237105  0.030487   \n",
      "57972  0.035601  0.143567 -0.156682 -0.943786 -0.029114 -0.244662  0.062304   \n",
      "57973  0.069550  0.177848 -0.146721 -0.955867 -0.026500 -0.388885  0.154623   \n",
      "57974  0.070453  0.169129 -0.102275 -0.983639 -0.039755 -0.438770  0.130499   \n",
      "57975  0.088011  0.218938 -0.087432 -0.987377 -0.017713 -0.509198  0.099781   \n",
      "57976  0.032757  0.197058 -0.071460 -0.987347 -0.002172 -0.501669  0.072088   \n",
      "57977  0.071320  0.259296 -0.044473 -0.989152 -0.003066 -0.490771  0.060565   \n",
      "57978  0.048413  0.344566 -0.076405 -0.985248 -0.019948 -0.484346  0.072290   \n",
      "57979  0.055525  0.318216 -0.079183 -0.976259 -0.022072 -0.494327  0.068496   \n",
      "57980  0.027266  0.271818 -0.189584 -0.959378 -0.024201 -0.500136  0.056483   \n",
      "57981 -0.010514  0.215484 -0.182752 -0.954921 -0.004689 -0.444772  0.073880   \n",
      "57982 -0.007593  0.142750 -0.167201 -0.901336  0.002597 -0.409587  0.075476   \n",
      "57983  0.067657  0.217355 -0.166657 -0.901529 -0.008800 -0.408510  0.219508   \n",
      "57984  0.082208  0.173163 -0.181455 -0.944457 -0.012113 -0.467011  0.124112   \n",
      "57985  0.077721  0.192732 -0.136099 -0.950089 -0.008619 -0.559241  0.069067   \n",
      "57986  0.090529  0.150044 -0.127979 -0.976483 -0.013012 -0.514271  0.028460   \n",
      "57987  0.066114  0.200439 -0.126704 -0.979647 -0.031372 -0.498959  0.104943   \n",
      "57988  0.066920  0.207546 -0.123237 -0.972019 -0.003611 -0.494338  0.076209   \n",
      "57989  0.028179  0.245854 -0.140583 -0.934167 -0.000070 -0.449280  0.092247   \n",
      "57990  0.012246  0.188905 -0.105764 -0.958068  0.002531 -0.497533  0.099108   \n",
      "57991  0.079935  0.127296 -0.125373 -0.947800 -0.006193 -0.471724  0.077345   \n",
      "57992  0.031415  0.198936 -0.103304 -0.957269  0.004136 -0.531135  0.101299   \n",
      "57993  0.121055  0.240104 -0.111001 -0.979860  0.003922 -0.602417  0.104788   \n",
      "57994  0.091300  0.266665 -0.102501 -0.987759 -0.005643 -0.618331  0.125589   \n",
      "57995  0.059310  0.276317 -0.153041 -0.983873 -0.010549 -0.541418  0.076386   \n",
      "57996  0.127811  0.341020 -0.050045 -0.978056 -0.002966 -0.552634  0.113822   \n",
      "57997 -0.002550  0.239026 -0.282058 -0.934146 -0.028351 -0.404094  0.083852   \n",
      "57998  0.088620  0.224507 -0.301541 -0.795970  0.004218 -0.422134  0.107010   \n",
      "57999  0.082085  0.131854 -0.226447 -0.733829 -0.012656 -0.461610  0.091273   \n",
      "\n",
      "             7         8         9     ...           54        55        56  \\\n",
      "0      0.479474  0.566543  0.441343    ...     0.537194  0.512816  0.240133   \n",
      "1      0.108014  0.036832 -0.132778    ...     0.043055  0.063621 -0.021644   \n",
      "2      0.092981  0.163093 -0.054431    ...     0.037193  0.030412  0.071537   \n",
      "3      0.115106  0.120097 -0.164142    ...     0.046072  0.025641  0.055651   \n",
      "4      0.155599  0.163205 -0.143081    ...     0.053135  0.030944  0.110881   \n",
      "5      0.159635  0.174306 -0.124355    ...     0.062251  0.020353  0.117015   \n",
      "6      0.186465  0.157787 -0.161483    ...     0.067689  0.023296  0.123832   \n",
      "7      0.176079  0.200251 -0.158324    ...     0.054021  0.026638  0.132952   \n",
      "8      0.169030  0.212899 -0.221204    ...     0.060218  0.005316  0.015762   \n",
      "9      0.210119  0.217192 -0.265375    ...     0.067813  0.014017  0.088167   \n",
      "10     0.250093  0.124040 -0.227202    ...     0.056659 -0.003319  0.066461   \n",
      "11     0.147191  0.169260 -0.306931    ...     0.050413 -0.009246  0.021361   \n",
      "12     0.315876  0.157280 -0.265005    ...     0.095552 -0.015065  0.081112   \n",
      "13     0.342136  0.193036 -0.279929    ...     0.112255 -0.001664  0.103319   \n",
      "14     0.285693  0.127764 -0.365324    ...     0.137205 -0.009927  0.159071   \n",
      "15     0.264832  0.129591 -0.366905    ...     0.098436 -0.019926 -0.001309   \n",
      "16     0.367824  0.119783 -0.407532    ...     0.111354 -0.023082  0.160573   \n",
      "17     0.259494  0.185185 -0.361639    ...     0.065524 -0.013946  0.166405   \n",
      "18     0.197030  0.176720 -0.402051    ...     0.083203 -0.010517  0.140349   \n",
      "19     0.345719  0.141291 -0.340079    ...     0.137557 -0.016372  0.160160   \n",
      "20     0.172252  0.167280 -0.481209    ...     0.121422 -0.028451  0.109289   \n",
      "21     0.276378  0.180244 -0.314023    ...     0.123142 -0.016370  0.149385   \n",
      "22     0.157362  0.315546 -0.393191    ...     0.145586 -0.003677  0.190528   \n",
      "23     0.373720  0.179608 -0.306049    ...     0.224222 -0.006104  0.096121   \n",
      "24     0.325717  0.297871 -0.398989    ...     0.206409  0.015456  0.214602   \n",
      "25     0.264334  0.269589 -0.428428    ...     0.152294 -0.002339  0.173945   \n",
      "26     0.289775  0.301878 -0.507993    ...     0.158412 -0.073247  0.119530   \n",
      "27     0.285636  0.250421 -0.438021    ...     0.135970 -0.031341  0.082042   \n",
      "28     0.317975  0.223776 -0.359402    ...     0.092093 -0.033573  0.128310   \n",
      "29     0.134313  0.306728 -0.589696    ...     0.170220 -0.034644  0.065737   \n",
      "...         ...       ...       ...    ...          ...       ...       ...   \n",
      "57970  0.118476  0.340884 -0.428944    ...     0.102878  0.019889  0.046518   \n",
      "57971  0.205827  0.345883 -0.279203    ...     0.163042  0.021503  0.114457   \n",
      "57972  0.204183  0.447265 -0.316686    ...     0.085540  0.020862  0.112131   \n",
      "57973  0.237633  0.434648 -0.411032    ...     0.090234  0.019087  0.102528   \n",
      "57974  0.157914  0.428310 -0.442129    ...     0.054784  0.005056  0.041968   \n",
      "57975  0.153038  0.374488 -0.491285    ...     0.042259 -0.031580 -0.033774   \n",
      "57976  0.160415  0.405869 -0.465346    ...     0.041307 -0.032109 -0.051228   \n",
      "57977  0.157950  0.407809 -0.507277    ...     0.044439 -0.032296 -0.043862   \n",
      "57978  0.122256  0.473412 -0.463564    ...     0.070988 -0.025382 -0.040334   \n",
      "57979  0.129595  0.468008 -0.433677    ...     0.075714 -0.011675 -0.027251   \n",
      "57980  0.136884  0.470738 -0.363218    ...     0.128114 -0.001381  0.023001   \n",
      "57981  0.172556  0.418745 -0.306025    ...     0.092999  0.005519 -0.029727   \n",
      "57982  0.211896  0.402716 -0.293291    ...     0.140490  0.020898 -0.017966   \n",
      "57983  0.302115  0.494783 -0.352011    ...     0.099529  0.040800  0.094677   \n",
      "57984  0.150669  0.467033 -0.465739    ...     0.092862  0.041008  0.005869   \n",
      "57985  0.168090  0.511304 -0.571569    ...     0.069761 -0.005667 -0.029521   \n",
      "57986  0.149380  0.360121 -0.502465    ...     0.061999 -0.017337 -0.053403   \n",
      "57987  0.236673  0.415966 -0.386659    ...     0.069889  0.004243  0.040011   \n",
      "57988  0.122504  0.390861 -0.496793    ...     0.076539 -0.021343 -0.040712   \n",
      "57989  0.170613  0.379187 -0.351194    ...     0.140531 -0.010314 -0.070327   \n",
      "57990  0.216621  0.411091 -0.393447    ...     0.115338 -0.000429 -0.019301   \n",
      "57991  0.215618  0.332998 -0.415767    ...     0.119622  0.000268 -0.053823   \n",
      "57992  0.188256  0.426641 -0.528639    ...     0.111264 -0.025963 -0.069928   \n",
      "57993  0.238729  0.376875 -0.550025    ...     0.092835 -0.034787 -0.045564   \n",
      "57994  0.163921  0.424324 -0.548105    ...     0.066386 -0.066998 -0.054456   \n",
      "57995  0.134972  0.384873 -0.643167    ...     0.108430 -0.067425 -0.074014   \n",
      "57996  0.251845  0.376563 -0.343427    ...     0.076714 -0.015635 -0.028347   \n",
      "57997  0.072867  0.368926 -0.692861    ...     0.208430 -0.041196 -0.017590   \n",
      "57998  0.268255  0.390040 -0.293081    ...     0.227202  0.020437  0.050058   \n",
      "57999  0.138337  0.492524 -0.523637    ...     0.134271  0.019952  0.083664   \n",
      "\n",
      "             57        58        59        60        61        62        63  \n",
      "0      0.487939  0.511597  0.349602 -0.145424 -0.455004  0.441083  0.015762  \n",
      "1     -0.076822 -0.164030  0.893134  0.008492  0.016379  0.301379  0.005142  \n",
      "2     -0.032667 -0.108770  0.888038 -0.030944 -0.022160  0.497383 -0.016388  \n",
      "3     -0.030964 -0.047055  0.861368 -0.051400 -0.038630  0.666427 -0.020759  \n",
      "4     -0.036768 -0.044220  0.816845 -0.046780 -0.055321  0.660834 -0.026113  \n",
      "5     -0.064195 -0.058449  0.819727 -0.053925 -0.038737  0.674398 -0.017432  \n",
      "6     -0.048263 -0.037435  0.778645 -0.060062 -0.016980  0.652568 -0.019643  \n",
      "7     -0.030426 -0.038942  0.705063 -0.075229 -0.065626  0.657501 -0.067168  \n",
      "8      0.035158 -0.037259  0.774125 -0.105098 -0.029515  0.639903 -0.045360  \n",
      "9     -0.037739 -0.030386  0.660063 -0.127395 -0.085441  0.572246 -0.085825  \n",
      "10    -0.103659 -0.002936  0.692104 -0.162095 -0.067467  0.600933 -0.004912  \n",
      "11    -0.133821  0.000229  0.687867 -0.150174 -0.082718  0.557086 -0.009580  \n",
      "12    -0.200778 -0.011217  0.575031 -0.178972 -0.070315  0.479866 -0.006530  \n",
      "13    -0.151392  0.019952  0.523976 -0.228020 -0.025012  0.502675  0.033962  \n",
      "14    -0.185315  0.005921  0.560682 -0.257437 -0.066823  0.499618  0.007613  \n",
      "15    -0.078992 -0.023821  0.601956 -0.188844 -0.052808  0.455927 -0.025289  \n",
      "16    -0.142497  0.000680  0.599247 -0.224612 -0.105688  0.476499 -0.039322  \n",
      "17    -0.130926 -0.018574  0.462415 -0.183796 -0.049165  0.495711 -0.056372  \n",
      "18    -0.164547 -0.006038  0.537005 -0.174843 -0.052648  0.508777  0.009857  \n",
      "19    -0.267873 -0.016887  0.544652 -0.217414 -0.061035  0.447292  0.025399  \n",
      "20    -0.165588 -0.018657  0.525783 -0.214575 -0.087700  0.454747  0.008836  \n",
      "21    -0.232572 -0.008371  0.402627 -0.172029 -0.072603  0.491755 -0.008352  \n",
      "22    -0.105586 -0.042746  0.269446 -0.100759 -0.051021  0.420040 -0.000352  \n",
      "23    -0.236962 -0.018610  0.305138 -0.166258 -0.052423  0.425097  0.001632  \n",
      "24    -0.101726  0.002017  0.339098 -0.076670 -0.051397  0.542834 -0.036802  \n",
      "25    -0.183757 -0.035624  0.219369 -0.088381 -0.036086  0.476750 -0.031323  \n",
      "26    -0.001479 -0.051571  0.331985 -0.106514 -0.014167  0.477594  0.003510  \n",
      "27    -0.071645 -0.125622  0.219496 -0.098311 -0.047108  0.403606 -0.023932  \n",
      "28    -0.148694 -0.064050  0.278964 -0.128571 -0.075679  0.511326 -0.018728  \n",
      "29    -0.059973 -0.064885  0.340290 -0.142496 -0.040736  0.480546  0.002427  \n",
      "...         ...       ...       ...       ...       ...       ...       ...  \n",
      "57970 -0.038069 -0.006563  0.223314 -0.203295 -0.065814  0.515144 -0.019262  \n",
      "57971 -0.038035 -0.023804  0.287069 -0.218870 -0.009287  0.500626  0.010205  \n",
      "57972  0.007007 -0.020993  0.237466 -0.220762  0.010010  0.472755 -0.031694  \n",
      "57973  0.008544 -0.000671  0.190512 -0.221139 -0.017076  0.527764 -0.053628  \n",
      "57974  0.012202 -0.033904  0.190066 -0.206928  0.008784  0.513670 -0.010485  \n",
      "57975 -0.026606 -0.028727  0.253275 -0.238695 -0.070292  0.572899 -0.026713  \n",
      "57976 -0.009095 -0.021702  0.259547 -0.239253 -0.070328  0.560196 -0.025804  \n",
      "57977  0.037113 -0.014783  0.358274 -0.245151 -0.094163  0.626281 -0.002517  \n",
      "57978  0.118857 -0.035330  0.272540 -0.211889 -0.039915  0.627733 -0.020438  \n",
      "57979  0.117360 -0.030850  0.245938 -0.178935 -0.037953  0.690938 -0.023632  \n",
      "57980  0.074086 -0.028845  0.202142 -0.194194 -0.045132  0.653352 -0.021931  \n",
      "57981 -0.014352  0.005758  0.161916 -0.190214 -0.065797  0.638998 -0.058390  \n",
      "57982  0.045362 -0.012789  0.119890 -0.175468 -0.054893  0.504312 -0.074180  \n",
      "57983  0.068284  0.000258  0.125355 -0.176470  0.020278  0.509063 -0.135492  \n",
      "57984  0.006316 -0.004641  0.106210 -0.185220 -0.023817  0.570336 -0.093284  \n",
      "57985  0.064201 -0.032038  0.120243 -0.164174 -0.034852  0.545133 -0.172721  \n",
      "57986  0.014272 -0.043618  0.139416 -0.155583 -0.098555  0.522798 -0.036652  \n",
      "57987  0.044853  0.005429  0.186039 -0.174207 -0.047796  0.569846 -0.022530  \n",
      "57988  0.010907  0.004283  0.225532 -0.199788 -0.096920  0.586352 -0.002630  \n",
      "57989  0.084402 -0.048087  0.221427 -0.167461 -0.061620  0.586963 -0.018475  \n",
      "57990  0.076863 -0.038002  0.203747 -0.161272 -0.029661  0.613531 -0.019986  \n",
      "57991  0.029738 -0.029577  0.126073 -0.180278 -0.064342  0.531114 -0.039239  \n",
      "57992  0.094235 -0.036575  0.192810 -0.166202 -0.033320  0.577814 -0.063378  \n",
      "57993  0.060932 -0.009432  0.226675 -0.210680 -0.111130  0.622114 -0.061472  \n",
      "57994  0.062519 -0.016815  0.239255 -0.226381 -0.106695  0.608961 -0.099271  \n",
      "57995  0.121459 -0.030095  0.307350 -0.203330 -0.104560  0.587452 -0.062257  \n",
      "57996  0.003381 -0.002546  0.293850 -0.191965 -0.120082  0.649782 -0.089906  \n",
      "57997  0.119270 -0.013780  0.321212 -0.226392 -0.088844  0.584616 -0.053380  \n",
      "57998 -0.034876  0.018914  0.245719 -0.176824 -0.064524  0.652092 -0.089687  \n",
      "57999 -0.013601 -0.002552  0.107643 -0.189768 -0.037367  0.617479 -0.117236  \n",
      "\n",
      "[58000 rows x 64 columns]\n"
     ]
    }
   ],
   "source": [
    "average_hidden_pd = pd.DataFrame(np.row_stack(average_hidden_list))\n",
    "final_hidden_pd = pd.DataFrame(np.row_stack(final_hidden_list))\n",
    "hidden_state = pd.DataFrame(np.row_stack(hs_list))\n",
    "print(hidden_state)"
   ]
  },
  {
   "cell_type": "code",
   "execution_count": 9,
   "metadata": {
    "collapsed": true
   },
   "outputs": [],
   "source": [
    "average_hidden_pd.to_csv(\"emi_neg_reps_7Y_4.csv\")\n",
    "final_hidden_pd.to_csv(\"emi_neg_finalhidden_7Y_4.csv\")"
   ]
  },
  {
   "cell_type": "code",
   "execution_count": 4,
   "metadata": {},
   "outputs": [
    {
     "ename": "NameError",
     "evalue": "name 'QVQLVQSGAEVKKPGASVKVSCKASGYTFTDYYMHWVRQAPGQGLEWMGRVNPNRRGTTYNQKFEGRVTMTTDTSTSTAYMELRSLRSDDTAVYYCARANWLDYWGQGTTVTVSS' is not defined",
     "output_type": "error",
     "traceback": [
      "\u001b[0;31m---------------------------------------------------------------------------\u001b[0m",
      "\u001b[0;31mNameError\u001b[0m                                 Traceback (most recent call last)",
      "\u001b[0;32m<ipython-input-4-2661d4686aef>\u001b[0m in \u001b[0;36m<module>\u001b[0;34m()\u001b[0m\n\u001b[0;32m----> 1\u001b[0;31m \u001b[0mavg_hidden\u001b[0m\u001b[0;34m,\u001b[0m \u001b[0mfinal_hidden\u001b[0m\u001b[0;34m,\u001b[0m \u001b[0mfinal_cell\u001b[0m \u001b[0;34m=\u001b[0m \u001b[0;34m(\u001b[0m\u001b[0mb\u001b[0m\u001b[0;34m.\u001b[0m\u001b[0mget_rep\u001b[0m\u001b[0;34m(\u001b[0m\u001b[0mQVQLVQSGAEVKKPGASVKVSCKASGYTFTDYYMHWVRQAPGQGLEWMGRVNPNRRGTTYNQKFEGRVTMTTDTSTSTAYMELRSLRSDDTAVYYCARANWLDYWGQGTTVTVSS\u001b[0m\u001b[0;34m)\u001b[0m\u001b[0;34m)\u001b[0m\u001b[0;34m\u001b[0m\u001b[0m\n\u001b[0m",
      "\u001b[0;31mNameError\u001b[0m: name 'QVQLVQSGAEVKKPGASVKVSCKASGYTFTDYYMHWVRQAPGQGLEWMGRVNPNRRGTTYNQKFEGRVTMTTDTSTSTAYMELRSLRSDDTAVYYCARANWLDYWGQGTTVTVSS' is not defined"
     ]
    }
   ],
   "source": [
    "avg_hidden, final_hidden, final_cell = (b.get_rep(QVQLVQSGAEVKKPGASVKVSCKASGYTFTDYYMHWVRQAPGQGLEWMGRVNPNRRGTTYNQKFEGRVTMTTDTSTSTAYMELRSLRSDDTAVYYCARANWLDYWGQGTTVTVSS))"
   ]
  },
  {
   "cell_type": "code",
   "execution_count": 11,
   "metadata": {
    "collapsed": true
   },
   "outputs": [],
   "source": [
    "import pickle\n",
    "save_loc = \"C:\\\\Users\\\\pkinn\\\\Documents\\\\UniRep\\\\full representations\\\\emi larger set\\\\\"\n",
    "data_name = 'emi_neg_reps_7Y_2'\n",
    "file_append = '.pickle'\n",
    "\n",
    "\n",
    "fn = save_loc + data_name + 'avg_hidden' + file_append\n",
    "with open(fn, 'wb') as f:\n",
    "    pickle.dump(average_hidden_list, f)\n",
    "\n",
    "fn = save_loc + data_name + 'final_hidden' + file_append\n",
    "with open(fn, 'wb') as f:\n",
    "    pickle.dump(final_hidden_list, f)\n",
    "\n",
    "fn = save_loc + data_name + 'final_cell' + file_append\n",
    "with open(fn, 'wb') as f:\n",
    "    pickle.dump(final_cell_list, f)\n",
    "   \n",
    "fn = save_loc + data_name + 'hidden_state' + file_append\n",
    "with open(fn, 'wb') as f:\n",
    "    pickle.dump(hs_list, f)\n",
    "   \n",
    "fn = save_loc + data_name + 'all_output_hs' + file_append\n",
    "with open(fn, 'wb') as f:\n",
    "    pickle.dump([average_hidden_list, final_hidden_list, final_cell_list, hs_list], f)"
   ]
  },
  {
   "cell_type": "code",
   "execution_count": null,
   "metadata": {
    "collapsed": true
   },
   "outputs": [],
   "source": []
  }
 ],
 "metadata": {
  "kernelspec": {
   "display_name": "Python 3",
   "language": "python",
   "name": "python3"
  },
  "language_info": {
   "codemirror_mode": {
    "name": "ipython",
    "version": 3
   },
   "file_extension": ".py",
   "mimetype": "text/x-python",
   "name": "python",
   "nbconvert_exporter": "python",
   "pygments_lexer": "ipython3",
   "version": "3.5.2"
  }
 },
 "nbformat": 4,
 "nbformat_minor": 2
}
