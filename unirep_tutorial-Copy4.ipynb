{
 "cells": [
  {
   "cell_type": "markdown",
   "metadata": {},
   "source": [
    "## How to use the UniRep mLSTM \"babbler\". This version demonstrates the 64-unit and the 1900-unit architecture. \n",
    "\n",
    "We recommend getting started with the 64-unit architecture as it is easier and faster to run, but has the same interface as the 1900-unit one."
   ]
  },
  {
   "cell_type": "markdown",
   "metadata": {},
   "source": [
    "Use the 64-unit or the 1900-unit model?"
   ]
  },
  {
   "cell_type": "code",
   "execution_count": 1,
   "metadata": {
    "collapsed": true
   },
   "outputs": [],
   "source": [
    "USE_FULL_1900_DIM_MODEL = False # if True use 1900 dimensional model, else use 64 dimensional one."
   ]
  },
  {
   "cell_type": "markdown",
   "metadata": {},
   "source": [
    "## Setup"
   ]
  },
  {
   "cell_type": "code",
   "execution_count": 2,
   "metadata": {
    "collapsed": true
   },
   "outputs": [],
   "source": [
    "import tensorflow as tf\n",
    "import numpy as np\n",
    "import pandas as pd\n",
    "import matplotlib.pyplot as plt\n",
    "\n",
    "# Set seeds\n",
    "tf.set_random_seed(42)\n",
    "np.random.seed(42)\n",
    "\n",
    "if USE_FULL_1900_DIM_MODEL:\n",
    "    # Sync relevant weight files\n",
    "    !aws s3 sync --no-sign-request --quiet s3://unirep-public/1900_weights/ 1900_weights/\n",
    "    \n",
    "    # Import the mLSTM babbler model\n",
    "    from unirep import babbler1900 as babbler\n",
    "    \n",
    "    # Where model weights are stored.\n",
    "    MODEL_WEIGHT_PATH = \"./1900_weights\"\n",
    "    \n",
    "else:\n",
    "    # Sync relevant weight files\n",
    "    !aws s3 sync --no-sign-request --quiet s3://unirep-public/64_weights/ 64_weights/\n",
    "    \n",
    "    # Import the mLSTM babbler model\n",
    "    from unirep import babbler64 as babbler\n",
    "    \n",
    "    # Where model weights are stored.\n",
    "    MODEL_WEIGHT_PATH = \"./64_weights\""
   ]
  },
  {
   "cell_type": "markdown",
   "metadata": {},
   "source": [
    "## Data formatting and management"
   ]
  },
  {
   "cell_type": "markdown",
   "metadata": {},
   "source": [
    "Initialize UniRep, also referred to as the \"babbler\" in our code. You need to provide the batch size you will use and the path to the weight directory."
   ]
  },
  {
   "cell_type": "code",
   "execution_count": 3,
   "metadata": {},
   "outputs": [
    {
     "name": "stderr",
     "output_type": "stream",
     "text": [
      "/usr/local/lib/python3.5/dist-packages/h5py/__init__.py:34: FutureWarning: Conversion of the second argument of issubdtype from `float` to `np.floating` is deprecated. In future, it will be treated as `np.float64 == np.dtype(float).type`.\n",
      "  from ._conv import register_converters as _register_converters\n"
     ]
    }
   ],
   "source": [
    "batch_size = 50\n",
    "b = babbler(batch_size=batch_size, model_path=MODEL_WEIGHT_PATH)"
   ]
  },
  {
   "cell_type": "markdown",
   "metadata": {},
   "source": [
    "UniRep needs to receive data in the correct format, a (batch_size, max_seq_len) matrix with integer values, where the integers correspond to an amino acid label at that position, and the end of the sequence is padded with 0s until the max sequence length to form a non-ragged rectangular matrix. We provide a formatting function to translate a string of amino acids into a list of integers with the correct codex:"
   ]
  },
  {
   "cell_type": "code",
   "execution_count": 4,
   "metadata": {
    "collapsed": true
   },
   "outputs": [],
   "source": [
    "seq_open = open(\"./emi_iso_seqs.txt\")\n",
    "seq = seq_open.read()"
   ]
  },
  {
   "cell_type": "code",
   "execution_count": 5,
   "metadata": {
    "collapsed": true
   },
   "outputs": [],
   "source": [
    "seq_formatted = []\n",
    "for line in seq.splitlines():\n",
    "    seq_formatted.append(np.array(b.format_seq(line)))"
   ]
  },
  {
   "cell_type": "markdown",
   "metadata": {},
   "source": [
    "We also provide a function that will check your amino acid sequences don't contain any characters which will break the UniRep model."
   ]
  },
  {
   "cell_type": "code",
   "execution_count": null,
   "metadata": {
    "collapsed": true
   },
   "outputs": [],
   "source": [
    "b.is_valid_seq(seq)"
   ]
  },
  {
   "cell_type": "markdown",
   "metadata": {},
   "source": [
    "You could use your own data flow as long as you ensure that the data format is obeyed. Alternatively, you can use the data flow we've implemented for UniRep training, which happens in the tensorflow graph. It reads from a file of integer sequences, shuffles them around, collects them into groups of similar length (to minimize padding waste) and pads them to the max_length. Here's how to do that:"
   ]
  },
  {
   "cell_type": "markdown",
   "metadata": {},
   "source": [
    "First, sequences need to be saved in the correct format. Suppose we have a new-line seperated file of amino acid sequences, `seqs.txt`, and we want to format them. Note that training is currently only publicly supported for amino acid sequences less than 275 amino acids as gradient updates for sequences longer than that start to get unwieldy. If you want to train on sequences longer than this, please reach out to us. \n",
    "\n",
    "Sequence formatting can be done as follows:"
   ]
  },
  {
   "cell_type": "code",
   "execution_count": 4,
   "metadata": {
    "collapsed": true
   },
   "outputs": [],
   "source": [
    "# Before you can train your model, \n",
    "sequences = []\n",
    "with open(\"emi_neg_seqs_7Y_4.txt\", \"r\") as source:\n",
    "    with open(\"formatted.txt\", \"w\") as destination:\n",
    "        for i,seq in enumerate(source):\n",
    "            seq = seq.strip()\n",
    "            sequences.append(seq)\n",
    "            if b.is_valid_seq(seq) and len(seq) < 275: \n",
    "                formatted = \",\".join(map(str,b.format_seq(seq)))\n",
    "                destination.write(formatted)\n",
    "                destination.write('\\n')"
   ]
  },
  {
   "cell_type": "markdown",
   "metadata": {},
   "source": [
    "This is what the integer format looks like"
   ]
  },
  {
   "cell_type": "code",
   "execution_count": null,
   "metadata": {
    "collapsed": true
   },
   "outputs": [],
   "source": [
    "!head -n1 formatted.txt"
   ]
  },
  {
   "cell_type": "markdown",
   "metadata": {},
   "source": [
    "Notice that by default format_seq does not include the stop symbol (25) at the end of the sequence. This is the correct behavior if you are trying to train a top model, but not if you are training UniRep representations."
   ]
  },
  {
   "cell_type": "markdown",
   "metadata": {},
   "source": [
    "Now we can use a custom function to bucket, batch and pad sequences from `formatted.txt` (which has the correct integer codex after calling `babbler.format_seq()`). The bucketing occurs in the graph. \n",
    "\n",
    "What is bucketing? Specify a lower and upper bound, and interval. All sequences less than lower or greater than upper will be batched together. The interval defines the \"sides\" of buckets between these bounds. Don't pick a small interval for a small dataset because the function will just repeat a sequence if there are not enough to\n",
    "fill a batch. All batches are the size you passed when initializing the babbler.\n",
    "\n",
    "This is also doing a few other things:\n",
    "- Shuffling the sequences by randomly sampling from a 10000 sequence buffer\n",
    "- Automatically padding the sequences with zeros so the returned batch is a perfect rectangle\n",
    "- Automatically repeating the dataset"
   ]
  },
  {
   "cell_type": "code",
   "execution_count": 7,
   "metadata": {
    "collapsed": true
   },
   "outputs": [],
   "source": [
    "bucket_op = b.bucket_batch_pad(\"formatted.txt\", interval=1000) # Large interval"
   ]
  },
  {
   "cell_type": "markdown",
   "metadata": {},
   "source": [
    "Inconveniently, this does not make it easy for a value to be associated with each sequence and not lost during shuffling. You can get around this by just prepending every integer sequence with the sequence label (eg, every sequence would be saved to the file as \"{brightness value}, 24, 1, 5,...\" and then you could just index out the first column after calling the `bucket_op`. Please reach out if you have questions on how to do this."
   ]
  },
  {
   "cell_type": "markdown",
   "metadata": {},
   "source": [
    "Now that we have the `bucket_op`, we can simply `sess.run()` it to get a correctly formatted batch"
   ]
  },
  {
   "cell_type": "code",
   "execution_count": 8,
   "metadata": {},
   "outputs": [
    {
     "name": "stdout",
     "output_type": "stream",
     "text": [
      "[[24 10 16 ... 16  7  7]\n",
      " [24 10 16 ... 16  7  7]\n",
      " [24 10 16 ... 16  7  7]\n",
      " ...\n",
      " [24 10 16 ... 16  7  7]\n",
      " [24 10 16 ... 16  7  7]\n",
      " [24 10 16 ... 16  7  7]]\n",
      "(50, 116)\n"
     ]
    }
   ],
   "source": [
    "with tf.Session() as sess:\n",
    "    sess.run(tf.global_variables_initializer())\n",
    "    batch = sess.run(bucket_op)\n",
    "    \n",
    "print(batch)\n",
    "print(batch.shape)"
   ]
  },
  {
   "cell_type": "markdown",
   "metadata": {},
   "source": [
    "You can look back and see that the batch_size we passed to __init__ is indeed 12, and the second dimension must be the longest sequence included in this batch. Now we have the data flow setup (note that as long as your batch looks like this, you don't need my flow), so we can proceed to implementing the graph. The module returns all the operations needed to feed in sequence and get out trainable representations."
   ]
  },
  {
   "cell_type": "markdown",
   "metadata": {},
   "source": [
    "## Training a top model and a top model + mLSTM."
   ]
  },
  {
   "cell_type": "markdown",
   "metadata": {},
   "source": [
    "First, obtain all of the ops needed to output a representation"
   ]
  },
  {
   "cell_type": "code",
   "execution_count": 9,
   "metadata": {
    "collapsed": true
   },
   "outputs": [],
   "source": [
    "final_hidden, x_placeholder, batch_size_placeholder, seq_length_placeholder, initial_state_placeholder = (\n",
    "    b.get_rep_ops())"
   ]
  },
  {
   "cell_type": "markdown",
   "metadata": {},
   "source": [
    "`final_hidden` should be a batch_size x rep_dim matrix.\n",
    "\n",
    "Lets say we want to train a basic feed-forward network as the top model, doing regression with MSE loss, and the Adam optimizer. We can do that by:\n",
    "\n",
    "1.  Defining a loss function.\n",
    "\n",
    "2.  Defining an optimizer that's only optimizing variables in the top model.\n",
    "\n",
    "3.  Minimizing the loss inside of a TensorFlow session"
   ]
  },
  {
   "cell_type": "code",
   "execution_count": 10,
   "metadata": {
    "collapsed": true
   },
   "outputs": [],
   "source": [
    "y_placeholder = tf.placeholder(tf.float32, shape=[None,1], name=\"y\")\n",
    "initializer = tf.contrib.layers.xavier_initializer(uniform=False)\n",
    "\n",
    "with tf.variable_scope(\"top\"):\n",
    "    prediction = tf.contrib.layers.fully_connected(\n",
    "        final_hidden, 1, activation_fn=None, \n",
    "        weights_initializer=initializer,\n",
    "        biases_initializer=tf.zeros_initializer()\n",
    "    )\n",
    "\n",
    "loss = tf.losses.mean_squared_error(y_placeholder, prediction)"
   ]
  },
  {
   "cell_type": "markdown",
   "metadata": {},
   "source": [
    "You can specifically train the top model first by isolating variables of the \"top\" scope, and forcing the optimizer to only optimize these."
   ]
  },
  {
   "cell_type": "code",
   "execution_count": 11,
   "metadata": {
    "collapsed": true
   },
   "outputs": [],
   "source": [
    "learning_rate=.005\n",
    "top_variables = tf.get_collection(tf.GraphKeys.GLOBAL_VARIABLES, scope=\"top\")\n",
    "optimizer = tf.train.AdamOptimizer(learning_rate)\n",
    "top_only_step_op = optimizer.minimize(loss, var_list=top_variables)\n",
    "all_step_op = optimizer.minimize(loss)"
   ]
  },
  {
   "cell_type": "markdown",
   "metadata": {},
   "source": [
    "We next need to define a function that allows us to calculate the length each sequence in the batch so that we know what index to use to obtain the right \"final\" hidden state"
   ]
  },
  {
   "cell_type": "code",
   "execution_count": 12,
   "metadata": {},
   "outputs": [
    {
     "data": {
      "text/plain": [
       "array([116, 116, 116, 116, 116, 116, 116, 116, 116, 116, 116, 116, 116,\n",
       "       116, 116, 116, 116, 116, 116, 116, 116, 116, 116, 116, 116, 116,\n",
       "       116, 116, 116, 116, 116, 116, 116, 116, 116, 116, 116, 116, 116,\n",
       "       116, 116, 116, 116, 116, 116, 116, 116, 116, 116, 116])"
      ]
     },
     "execution_count": 12,
     "metadata": {},
     "output_type": "execute_result"
    }
   ],
   "source": [
    "def nonpad_len(batch):\n",
    "    nonzero = batch > 0\n",
    "    lengths = np.sum(nonzero, axis=1)\n",
    "    return lengths\n",
    "\n",
    "nonpad_len(batch)"
   ]
  },
  {
   "cell_type": "markdown",
   "metadata": {},
   "source": [
    "We are ready to train. As an illustration, let's learn to predict the number 42 just optimizing the top model."
   ]
  },
  {
   "cell_type": "code",
   "execution_count": null,
   "metadata": {
    "collapsed": true
   },
   "outputs": [],
   "source": [
    "\"\"\"\n",
    "y = [[1], [1], [1], [0], [0], [0], [0], [0], [0], [1], [1], [1], [1], [0], [0], [0], [1], [0], [1], [1], [1], [1], [0], [1], [0], [0], [0], [1], [0], [1], [1], [0], [1], [0], [1], [0], [1], [1], [1], [1], [0], [1], [1], [1], [1], [0], [0], [1], [1], [1], [1], [1], [0], [1], [1], [1], [1], [1], [1], [1], [0], [1], [1]]\n",
    "num_iters = 1\n",
    "with tf.Session() as sess:\n",
    "    sess.run(tf.global_variables_initializer())\n",
    "    for i in range(num_iters):\n",
    "        batch = sess.run(bucket_op)\n",
    "        length = nonpad_len(batch)\n",
    "        loss_, __, = sess.run([loss, top_only_step_op],\n",
    "                feed_dict={\n",
    "                     x_placeholder: batch,\n",
    "                     y_placeholder: y,\n",
    "                     batch_size_placeholder: batch_size,\n",
    "                     seq_length_placeholder:length,\n",
    "                     initial_state_placeholder:b._zero_state\n",
    "                }\n",
    "        )\n",
    "        viscosity_pred, final_hidden_layer = sess.run([prediction, final_hidden],\n",
    "                feed_dict={\n",
    "                     x_placeholder: batch,\n",
    "                     batch_size_placeholder: batch_size,\n",
    "                     seq_length_placeholder:length,\n",
    "                     initial_state_placeholder:b._zero_state})\n",
    "        print(\"Iteration {0}: {1}\".format(i,loss_))\n",
    "#    print(np.hstack([viscosity_pred, y])\n",
    "    print(final_hidden_layer)\n",
    "    plt.scatter(viscosity_pred, y)\n",
    "    plt.show()\n",
    "\"\"\""
   ]
  },
  {
   "cell_type": "markdown",
   "metadata": {},
   "source": [
    "We can also jointly train the top model and the mLSTM. Note that if using the 1900-unit (full) model, you will need a GPU with at least 16GB RAM. To see a demonstration of joint training with fewer computational resources, please run this notebook using the 64-unit model."
   ]
  },
  {
   "cell_type": "code",
   "execution_count": null,
   "metadata": {
    "collapsed": true
   },
   "outputs": [],
   "source": [
    "\"\"\"y = [[1], [1], [1], [0], [0], [0], [0], [0], [0], [1], [1], [1], [1], [0], [0], [0], [1], [0], [1], [1], [1], [1], [0], [1], [0], [0], [0], [1], [0], [1], [1], [0], [1], [0], [1], [0], [1], [1], [1], [1], [0], [1], [1], [1], [1], [0], [0], [1], [1], [1], [1], [1], [0], [1], [1], [1], [1], [1], [1], [1], [0], [1], [1]]\n",
    "num_iters = 25\n",
    "with tf.Session() as sess:\n",
    "    sess.run(tf.global_variables_initializer())\n",
    "    for i in range(num_iters):\n",
    "        batch = sess.run(bucket_op)\n",
    "        length = nonpad_len(batch)\n",
    "        loss_, __, = sess.run([loss, all_step_op],\n",
    "                feed_dict={\n",
    "                     x_placeholder: batch,\n",
    "                     y_placeholder: y,\n",
    "                     batch_size_placeholder: batch_size,\n",
    "                     seq_length_placeholder:length,\n",
    "                     initial_state_placeholder:b._zero_state\n",
    "                }\n",
    "        )\n",
    "        viscosity_pred = sess.run(prediction,\n",
    "                feed_dict={\n",
    "                     x_placeholder: batch,\n",
    "                     batch_size_placeholder: batch_size,\n",
    "                     seq_length_placeholder:length,\n",
    "                     initial_state_placeholder:b._zero_state})\n",
    "        print(\"Iteration {0}: {1}\".format(i,loss_))\n",
    "    print(np.hstack([viscosity_pred, y]))\n",
    "\"\"\""
   ]
  },
  {
   "cell_type": "code",
   "execution_count": 5,
   "metadata": {
    "scrolled": true
   },
   "outputs": [
    {
     "name": "stdout",
     "output_type": "stream",
     "text": [
      "rep\n",
      "rep\n",
      "rep\n",
      "rep\n",
      "rep\n",
      "rep\n",
      "rep\n",
      "rep\n",
      "rep\n",
      "rep\n",
      "rep\n",
      "rep\n",
      "rep\n",
      "rep\n",
      "rep\n",
      "rep\n",
      "rep\n"
     ]
    },
    {
     "ename": "IndexError",
     "evalue": "list index out of range",
     "output_type": "error",
     "traceback": [
      "\u001b[0;31m---------------------------------------------------------------------------\u001b[0m",
      "\u001b[0;31mIndexError\u001b[0m                                Traceback (most recent call last)",
      "\u001b[0;32m<ipython-input-5-abae7d084eab>\u001b[0m in \u001b[0;36m<module>\u001b[0;34m()\u001b[0m\n\u001b[1;32m     12\u001b[0m     \u001b[0mnum1\u001b[0m \u001b[0;34m=\u001b[0m \u001b[0mrange\u001b[0m\u001b[0;34m(\u001b[0m\u001b[0mx\u001b[0m\u001b[0;34m,\u001b[0m \u001b[0my\u001b[0m\u001b[0;34m)\u001b[0m\u001b[0;34m\u001b[0m\u001b[0m\n\u001b[1;32m     13\u001b[0m     \u001b[0;32mfor\u001b[0m \u001b[0mj\u001b[0m \u001b[0;32min\u001b[0m \u001b[0mnum1\u001b[0m\u001b[0;34m:\u001b[0m\u001b[0;34m\u001b[0m\u001b[0m\n\u001b[0;32m---> 14\u001b[0;31m         \u001b[0mavg_hidden\u001b[0m\u001b[0;34m,\u001b[0m \u001b[0mfinal_hidden\u001b[0m\u001b[0;34m,\u001b[0m \u001b[0mfinal_cell\u001b[0m\u001b[0;34m,\u001b[0m \u001b[0mhs_out\u001b[0m \u001b[0;34m=\u001b[0m \u001b[0;34m(\u001b[0m\u001b[0mb\u001b[0m\u001b[0;34m.\u001b[0m\u001b[0mget_rep_hs\u001b[0m\u001b[0;34m(\u001b[0m\u001b[0msequences\u001b[0m\u001b[0;34m[\u001b[0m\u001b[0mj\u001b[0m\u001b[0;34m]\u001b[0m\u001b[0;34m)\u001b[0m\u001b[0;34m)\u001b[0m\u001b[0;34m\u001b[0m\u001b[0m\n\u001b[0m\u001b[1;32m     15\u001b[0m         \u001b[0maverage_hidden_list\u001b[0m\u001b[0;34m.\u001b[0m\u001b[0mappend\u001b[0m\u001b[0;34m(\u001b[0m\u001b[0mavg_hidden\u001b[0m\u001b[0;34m)\u001b[0m\u001b[0;34m\u001b[0m\u001b[0m\n\u001b[1;32m     16\u001b[0m         \u001b[0mfinal_hidden_list\u001b[0m\u001b[0;34m.\u001b[0m\u001b[0mappend\u001b[0m\u001b[0;34m(\u001b[0m\u001b[0mfinal_hidden\u001b[0m\u001b[0;34m)\u001b[0m\u001b[0;34m\u001b[0m\u001b[0m\n",
      "\u001b[0;31mIndexError\u001b[0m: list index out of range"
     ]
    }
   ],
   "source": [
    "## \n",
    "average_hidden_list = []\n",
    "final_hidden_list = []\n",
    "hs_list = []\n",
    "final_cell_list = []\n",
    "\n",
    "\n",
    "num2 = range(0, 50)\n",
    "x = 0\n",
    "y = 50\n",
    "for i in num2:\n",
    "    num1 = range(x, y)\n",
    "    for j in num1:\n",
    "        avg_hidden, final_hidden, final_cell, hs_out = (b.get_rep_hs(sequences[j]))\n",
    "        average_hidden_list.append(avg_hidden)\n",
    "        final_hidden_list.append(final_hidden)\n",
    "        final_cell_list.append(final_cell)\n",
    "        hs_list.append(hs_out)\n",
    "        print('rep')\n",
    "    x = x + 50\n",
    "    y = y + 50\n",
    "    \n"
   ]
  },
  {
   "cell_type": "code",
   "execution_count": null,
   "metadata": {
    "collapsed": true
   },
   "outputs": [],
   "source": []
  },
  {
   "cell_type": "code",
   "execution_count": 6,
   "metadata": {},
   "outputs": [
    {
     "name": "stdout",
     "output_type": "stream",
     "text": [
      "            0         1         2         3         4         5         6   \\\n",
      "0    -0.165004  0.367741  0.358379 -0.652705  0.310745  0.112354  0.319343   \n",
      "1    -0.156224  0.020769 -0.005827 -0.946178 -0.175482  0.024309  0.109565   \n",
      "2    -0.076103  0.039707 -0.068597 -0.982010 -0.074966 -0.034950  0.068059   \n",
      "3    -0.058311  0.053986 -0.086645 -0.987298 -0.051170 -0.053258  0.027245   \n",
      "4    -0.003677  0.076352 -0.109282 -0.989626 -0.047260 -0.053738  0.027420   \n",
      "5    -0.038077  0.097799 -0.118403 -0.985669 -0.050498 -0.049629  0.037225   \n",
      "6     0.025612  0.064812 -0.113066 -0.984256 -0.059101 -0.051365  0.012105   \n",
      "7     0.049025  0.082313 -0.087995 -0.990922 -0.041432 -0.112213  0.029521   \n",
      "8     0.006583  0.135147 -0.078896 -0.990121 -0.015207 -0.122814  0.061241   \n",
      "9     0.008933  0.127565 -0.079991 -0.987132 -0.015113 -0.152265  0.025057   \n",
      "10    0.077980  0.103989 -0.058407 -0.984953 -0.021431 -0.128419  0.045190   \n",
      "11    0.026909  0.202782 -0.059125 -0.989396 -0.018550 -0.105592  0.042051   \n",
      "12    0.035936  0.159157 -0.088357 -0.969360 -0.026968 -0.056122  0.024937   \n",
      "13    0.059801  0.093132 -0.055557 -0.975596  0.002670 -0.008614  0.013640   \n",
      "14    0.062550  0.186707 -0.051769 -0.991475 -0.006423 -0.028718 -0.005721   \n",
      "15   -0.011214  0.167544 -0.043082 -0.991248 -0.011145 -0.035595  0.034426   \n",
      "16    0.058632  0.181080 -0.040065 -0.987976  0.017790 -0.069905  0.001385   \n",
      "17    0.029970  0.136943 -0.033349 -0.990374  0.005956 -0.082746  0.020479   \n",
      "18    0.000441  0.139913 -0.038506 -0.990033 -0.004634 -0.071803  0.016742   \n",
      "19    0.010915  0.160127 -0.046023 -0.979786 -0.002303 -0.025715 -0.015243   \n",
      "20    0.000773  0.222996 -0.049428 -0.987504  0.004572 -0.033628  0.006430   \n",
      "21    0.025222  0.186978 -0.068745 -0.972566  0.009812 -0.064642  0.029696   \n",
      "22    0.014874  0.136089 -0.071880 -0.985632 -0.014120 -0.041224 -0.008277   \n",
      "23    0.013732  0.130824 -0.094137 -0.940037  0.016129 -0.021758  0.006848   \n",
      "24    0.040988  0.195814 -0.055992 -0.972032  0.064121 -0.009580  0.047241   \n",
      "25    0.027895  0.113103 -0.053742 -0.974870  0.035050 -0.019315 -0.016683   \n",
      "26    0.006742  0.205769 -0.055555 -0.977195  0.057405 -0.013741  0.014226   \n",
      "27    0.018036  0.158473 -0.039804 -0.984140  0.025614 -0.047718 -0.009029   \n",
      "28    0.056865  0.188677 -0.014084 -0.986501  0.030536 -0.090299  0.052287   \n",
      "29   -0.006308  0.198464 -0.095512 -0.978152  0.017377 -0.077658  0.031064   \n",
      "...        ...       ...       ...       ...       ...       ...       ...   \n",
      "1942  0.051678  0.146821 -0.164151 -0.951527 -0.048031 -0.290112  0.032081   \n",
      "1943  0.061254  0.139164 -0.210710 -0.891048 -0.051279 -0.227250  0.027664   \n",
      "1944  0.039182  0.144487 -0.154699 -0.939697 -0.025728 -0.235195  0.062035   \n",
      "1945  0.078778  0.184124 -0.145951 -0.952586 -0.023333 -0.369064  0.154600   \n",
      "1946  0.082656  0.175494 -0.100745 -0.981952 -0.038735 -0.417949  0.130300   \n",
      "1947  0.098505  0.224458 -0.084569 -0.986754 -0.017007 -0.488408  0.098509   \n",
      "1948  0.041637  0.203296 -0.068429 -0.986921 -0.000508 -0.482033  0.070647   \n",
      "1949  0.078597  0.267910 -0.038320 -0.988987 -0.000330 -0.472727  0.059066   \n",
      "1950  0.055612  0.359188 -0.066010 -0.985396 -0.017584 -0.469384  0.071115   \n",
      "1951  0.061186  0.334066 -0.068603 -0.976665 -0.020038 -0.476768  0.067825   \n",
      "1952  0.029910  0.282804 -0.178223 -0.959425 -0.020835 -0.477815  0.056440   \n",
      "1953 -0.007115  0.228953 -0.173182 -0.951112 -0.001452 -0.421616  0.073094   \n",
      "1954 -0.005615  0.146772 -0.162591 -0.892599  0.005423 -0.387684  0.075177   \n",
      "1955  0.070544  0.222620 -0.162251 -0.896543 -0.005456 -0.390787  0.220162   \n",
      "1956  0.088607  0.173911 -0.181588 -0.942320 -0.008281 -0.449990  0.124627   \n",
      "1957  0.058047  0.156065 -0.125687 -0.933213 -0.015684 -0.442319  0.053290   \n",
      "1958  0.021308  0.171526 -0.155562 -0.969269 -0.018947 -0.445030  0.039248   \n",
      "1959  0.038697  0.176536 -0.148568 -0.972003 -0.028689 -0.416973  0.121244   \n",
      "1960  0.080650  0.183207 -0.152567 -0.966886 -0.015199 -0.452093  0.110730   \n",
      "1961  0.044038  0.171033 -0.163423 -0.924703 -0.016504 -0.430517  0.086578   \n",
      "1962  0.027982  0.155845 -0.140950 -0.941424 -0.009155 -0.445853  0.099159   \n",
      "1963  0.054240  0.105025 -0.153851 -0.935650 -0.017662 -0.415951  0.078190   \n",
      "1964  0.034685  0.181950 -0.119170 -0.952571 -0.006570 -0.469858  0.113660   \n",
      "1965  0.103643  0.210984 -0.131532 -0.979912 -0.020427 -0.559867  0.101706   \n",
      "1966  0.099582  0.236179 -0.121886 -0.989891 -0.034297 -0.577367  0.118870   \n",
      "1967  0.043900  0.230367 -0.172525 -0.984293 -0.036005 -0.516221  0.078336   \n",
      "1968  0.116281  0.296206 -0.108236 -0.978339 -0.034385 -0.510992  0.112498   \n",
      "1969 -0.011510  0.206636 -0.290963 -0.936482 -0.045638 -0.390793  0.083907   \n",
      "1970  0.078988  0.201641 -0.329088 -0.805845 -0.024145 -0.387229  0.112228   \n",
      "1971  0.073971  0.134758 -0.229443 -0.781991 -0.021960 -0.428010  0.111570   \n",
      "\n",
      "            7         8         9     ...           54        55        56  \\\n",
      "0     0.479474  0.566543  0.441343    ...     0.537194  0.512816  0.240133   \n",
      "1     0.108014  0.036832 -0.132778    ...     0.043055  0.063621 -0.021644   \n",
      "2     0.092981  0.163093 -0.054431    ...     0.037193  0.030412  0.071537   \n",
      "3     0.115106  0.120097 -0.164142    ...     0.046072  0.025641  0.055651   \n",
      "4     0.155599  0.163205 -0.143081    ...     0.053135  0.030944  0.110881   \n",
      "5     0.159635  0.174306 -0.124355    ...     0.062251  0.020353  0.117015   \n",
      "6     0.186465  0.157787 -0.161483    ...     0.067689  0.023296  0.123832   \n",
      "7     0.176079  0.200251 -0.158324    ...     0.054021  0.026638  0.132952   \n",
      "8     0.169030  0.212899 -0.221204    ...     0.060218  0.005316  0.015762   \n",
      "9     0.210119  0.217192 -0.265375    ...     0.067813  0.014017  0.088167   \n",
      "10    0.250093  0.124040 -0.227202    ...     0.056659 -0.003319  0.066461   \n",
      "11    0.147191  0.169260 -0.306931    ...     0.050413 -0.009246  0.021361   \n",
      "12    0.315876  0.157280 -0.265005    ...     0.095552 -0.015065  0.081112   \n",
      "13    0.342136  0.193036 -0.279929    ...     0.112255 -0.001664  0.103319   \n",
      "14    0.285693  0.127764 -0.365324    ...     0.137205 -0.009927  0.159071   \n",
      "15    0.264832  0.129591 -0.366905    ...     0.098436 -0.019926 -0.001309   \n",
      "16    0.367824  0.119783 -0.407532    ...     0.111354 -0.023082  0.160573   \n",
      "17    0.259494  0.185185 -0.361639    ...     0.065524 -0.013946  0.166405   \n",
      "18    0.197030  0.176720 -0.402051    ...     0.083203 -0.010517  0.140349   \n",
      "19    0.345719  0.141291 -0.340079    ...     0.137557 -0.016372  0.160160   \n",
      "20    0.172252  0.167280 -0.481209    ...     0.121422 -0.028451  0.109289   \n",
      "21    0.276378  0.180244 -0.314023    ...     0.123142 -0.016370  0.149385   \n",
      "22    0.157362  0.315546 -0.393191    ...     0.145586 -0.003677  0.190528   \n",
      "23    0.373720  0.179608 -0.306049    ...     0.224222 -0.006104  0.096121   \n",
      "24    0.325717  0.297871 -0.398989    ...     0.206409  0.015456  0.214602   \n",
      "25    0.264334  0.269589 -0.428428    ...     0.152294 -0.002339  0.173945   \n",
      "26    0.289775  0.301878 -0.507993    ...     0.158412 -0.073247  0.119530   \n",
      "27    0.285636  0.250421 -0.438021    ...     0.135970 -0.031341  0.082042   \n",
      "28    0.317975  0.223776 -0.359402    ...     0.092093 -0.033573  0.128310   \n",
      "29    0.134313  0.306728 -0.589696    ...     0.170220 -0.034644  0.065737   \n",
      "...        ...       ...       ...    ...          ...       ...       ...   \n",
      "1942  0.123856  0.338745 -0.414128    ...     0.104426  0.019642  0.054032   \n",
      "1943  0.220174  0.342385 -0.266826    ...     0.162549  0.020094  0.118241   \n",
      "1944  0.217968  0.453265 -0.308266    ...     0.088662  0.020507  0.131468   \n",
      "1945  0.253853  0.430917 -0.404159    ...     0.092899  0.019324  0.122749   \n",
      "1946  0.171466  0.423241 -0.437143    ...     0.055835  0.005503  0.057691   \n",
      "1947  0.164031  0.369176 -0.484541    ...     0.043300 -0.030046 -0.020127   \n",
      "1948  0.170529  0.399815 -0.453408    ...     0.041937 -0.030605 -0.040337   \n",
      "1949  0.166418  0.400555 -0.501682    ...     0.046063 -0.032197 -0.036145   \n",
      "1950  0.130040  0.465675 -0.453019    ...     0.073804 -0.025084 -0.034365   \n",
      "1951  0.136505  0.461937 -0.427382    ...     0.079503 -0.011427 -0.022828   \n",
      "1952  0.140895  0.460970 -0.356278    ...     0.130890 -0.002557  0.022764   \n",
      "1953  0.181263  0.411831 -0.289932    ...     0.098904  0.004571 -0.021266   \n",
      "1954  0.220017  0.392116 -0.275553    ...     0.145204  0.017555 -0.014024   \n",
      "1955  0.314903  0.487327 -0.337703    ...     0.102674  0.038215  0.103069   \n",
      "1956  0.156363  0.458973 -0.448149    ...     0.094865  0.038509  0.014819   \n",
      "1957  0.162622  0.357774 -0.483276    ...     0.113578 -0.010678 -0.065920   \n",
      "1958  0.203963  0.334734 -0.365921    ...     0.117214  0.007623 -0.026726   \n",
      "1959  0.246517  0.397801 -0.324838    ...     0.095828  0.018799  0.054243   \n",
      "1960  0.148182  0.412290 -0.416711    ...     0.112400  0.011630 -0.005124   \n",
      "1961  0.173548  0.335049 -0.372362    ...     0.179679  0.007572 -0.040868   \n",
      "1962  0.236315  0.376643 -0.378333    ...     0.177661  0.012051  0.005045   \n",
      "1963  0.224545  0.305569 -0.403390    ...     0.161395  0.012508 -0.034935   \n",
      "1964  0.207068  0.399729 -0.519798    ...     0.142114 -0.011445 -0.057276   \n",
      "1965  0.223482  0.347501 -0.556838    ...     0.126178 -0.018012 -0.033082   \n",
      "1966  0.177305  0.390671 -0.545757    ...     0.091501 -0.043818 -0.028941   \n",
      "1967  0.135803  0.363902 -0.619381    ...     0.130528 -0.042622 -0.059414   \n",
      "1968  0.252507  0.357284 -0.335640    ...     0.092944  0.000584 -0.012607   \n",
      "1969  0.080500  0.350785 -0.656060    ...     0.209193 -0.019796 -0.010477   \n",
      "1970  0.265358  0.368858 -0.279292    ...     0.232226  0.020503  0.043072   \n",
      "1971  0.167626  0.472679 -0.471750    ...     0.144313  0.022894  0.084190   \n",
      "\n",
      "            57        58        59        60        61        62        63  \n",
      "0     0.487939  0.511597  0.349602 -0.145424 -0.455004  0.441083  0.015762  \n",
      "1    -0.076822 -0.164030  0.893134  0.008492  0.016379  0.301379  0.005142  \n",
      "2    -0.032667 -0.108770  0.888038 -0.030944 -0.022160  0.497383 -0.016388  \n",
      "3    -0.030964 -0.047055  0.861368 -0.051400 -0.038630  0.666427 -0.020759  \n",
      "4    -0.036768 -0.044220  0.816845 -0.046780 -0.055321  0.660834 -0.026113  \n",
      "5    -0.064195 -0.058449  0.819727 -0.053925 -0.038737  0.674398 -0.017432  \n",
      "6    -0.048263 -0.037435  0.778645 -0.060062 -0.016980  0.652568 -0.019643  \n",
      "7    -0.030426 -0.038942  0.705063 -0.075229 -0.065626  0.657501 -0.067168  \n",
      "8     0.035158 -0.037259  0.774125 -0.105098 -0.029515  0.639903 -0.045360  \n",
      "9    -0.037739 -0.030386  0.660063 -0.127395 -0.085441  0.572246 -0.085825  \n",
      "10   -0.103659 -0.002936  0.692104 -0.162095 -0.067467  0.600933 -0.004912  \n",
      "11   -0.133821  0.000229  0.687867 -0.150174 -0.082718  0.557086 -0.009580  \n",
      "12   -0.200778 -0.011217  0.575031 -0.178972 -0.070315  0.479866 -0.006530  \n",
      "13   -0.151392  0.019952  0.523976 -0.228020 -0.025012  0.502675  0.033962  \n",
      "14   -0.185315  0.005921  0.560682 -0.257437 -0.066823  0.499618  0.007613  \n",
      "15   -0.078992 -0.023821  0.601956 -0.188844 -0.052808  0.455927 -0.025289  \n",
      "16   -0.142497  0.000680  0.599247 -0.224612 -0.105688  0.476499 -0.039322  \n",
      "17   -0.130926 -0.018574  0.462415 -0.183796 -0.049165  0.495711 -0.056372  \n",
      "18   -0.164547 -0.006038  0.537005 -0.174843 -0.052648  0.508777  0.009857  \n",
      "19   -0.267873 -0.016887  0.544652 -0.217414 -0.061035  0.447292  0.025399  \n",
      "20   -0.165588 -0.018657  0.525783 -0.214575 -0.087700  0.454747  0.008836  \n",
      "21   -0.232572 -0.008371  0.402627 -0.172029 -0.072603  0.491755 -0.008352  \n",
      "22   -0.105586 -0.042746  0.269446 -0.100759 -0.051021  0.420040 -0.000352  \n",
      "23   -0.236962 -0.018610  0.305138 -0.166258 -0.052423  0.425097  0.001632  \n",
      "24   -0.101726  0.002017  0.339098 -0.076670 -0.051397  0.542834 -0.036802  \n",
      "25   -0.183757 -0.035624  0.219369 -0.088381 -0.036086  0.476750 -0.031323  \n",
      "26   -0.001479 -0.051571  0.331985 -0.106514 -0.014167  0.477594  0.003510  \n",
      "27   -0.071645 -0.125622  0.219496 -0.098311 -0.047108  0.403606 -0.023932  \n",
      "28   -0.148694 -0.064050  0.278964 -0.128571 -0.075679  0.511326 -0.018728  \n",
      "29   -0.059973 -0.064885  0.340290 -0.142496 -0.040736  0.480546  0.002427  \n",
      "...        ...       ...       ...       ...       ...       ...       ...  \n",
      "1942 -0.057693 -0.007493  0.224477 -0.199434 -0.069138  0.496067 -0.019578  \n",
      "1943 -0.058077 -0.025584  0.292314 -0.216982 -0.012644  0.483744  0.006785  \n",
      "1944 -0.002789 -0.021125  0.240422 -0.220939  0.012967  0.460925 -0.032300  \n",
      "1945 -0.003221 -0.003907  0.198980 -0.223199 -0.008284  0.521850 -0.052158  \n",
      "1946  0.002798 -0.039717  0.196626 -0.205634  0.012807  0.505316 -0.015000  \n",
      "1947 -0.037282 -0.034923  0.260510 -0.235391 -0.067955  0.556969 -0.028885  \n",
      "1948 -0.020598 -0.026306  0.269169 -0.237473 -0.067736  0.541904 -0.028055  \n",
      "1949  0.029616 -0.019173  0.374789 -0.245328 -0.094512  0.605215 -0.003187  \n",
      "1950  0.111580 -0.038904  0.295176 -0.211192 -0.040859  0.609431 -0.020244  \n",
      "1951  0.114020 -0.035047  0.268027 -0.177197 -0.038527  0.672184 -0.023762  \n",
      "1952  0.065586 -0.031689  0.217641 -0.187602 -0.047264  0.629309 -0.023558  \n",
      "1953 -0.027175  0.000345  0.177918 -0.188245 -0.066242  0.618963 -0.059854  \n",
      "1954  0.035728 -0.015510  0.131213 -0.184970 -0.054522  0.490265 -0.073735  \n",
      "1955  0.059464 -0.003609  0.133374 -0.177349  0.023744  0.493890 -0.135472  \n",
      "1956 -0.008818 -0.012272  0.110767 -0.183845 -0.022517  0.553782 -0.092077  \n",
      "1957  0.082871 -0.057059  0.162086 -0.182325 -0.059253  0.452781 -0.039331  \n",
      "1958  0.025198 -0.042550  0.175799 -0.155036 -0.073252  0.471394 -0.030271  \n",
      "1959  0.032309  0.006875  0.173333 -0.169609 -0.044426  0.533921 -0.013940  \n",
      "1960  0.043699 -0.009031  0.215297 -0.206921 -0.052181  0.609191  0.000551  \n",
      "1961  0.090896 -0.050640  0.215276 -0.184112 -0.051435  0.575429 -0.009844  \n",
      "1962  0.076917 -0.045776  0.201127 -0.167321 -0.021283  0.566010 -0.007326  \n",
      "1963  0.026247 -0.033658  0.135644 -0.176136 -0.053066  0.485493 -0.032707  \n",
      "1964  0.080617 -0.037352  0.207133 -0.164071 -0.032580  0.568018 -0.041287  \n",
      "1965  0.062861 -0.015957  0.239787 -0.201124 -0.101284  0.608295 -0.038699  \n",
      "1966  0.065469 -0.012613  0.274824 -0.224502 -0.101835  0.613414 -0.056046  \n",
      "1967  0.097797 -0.025350  0.304823 -0.203489 -0.104641  0.576101 -0.040741  \n",
      "1968  0.001094 -0.000992  0.293920 -0.188282 -0.110835  0.629103 -0.068081  \n",
      "1969  0.092209 -0.010411  0.300722 -0.231854 -0.091100  0.569162 -0.036938  \n",
      "1970 -0.034570  0.011690  0.231901 -0.176664 -0.058899  0.617850 -0.069142  \n",
      "1971 -0.007377 -0.006581  0.118245 -0.197904 -0.034281  0.593846 -0.093618  \n",
      "\n",
      "[1972 rows x 64 columns]\n"
     ]
    }
   ],
   "source": [
    "average_hidden_pd = pd.DataFrame(np.row_stack(average_hidden_list))\n",
    "final_hidden_pd = pd.DataFrame(np.row_stack(final_hidden_list))\n",
    "hidden_state = pd.DataFrame(np.row_stack(hs_list))\n",
    "print(hidden_state)"
   ]
  },
  {
   "cell_type": "code",
   "execution_count": 7,
   "metadata": {
    "collapsed": true
   },
   "outputs": [],
   "source": [
    "average_hidden_pd.to_csv(\"emi_neg_reps_7Y_4.csv\")\n",
    "final_hidden_pd.to_csv(\"emi_neg_finalhidden_7Y_4.csv\")"
   ]
  },
  {
   "cell_type": "code",
   "execution_count": 4,
   "metadata": {},
   "outputs": [
    {
     "ename": "NameError",
     "evalue": "name 'QVQLVQSGAEVKKPGASVKVSCKASGYTFTDYYMHWVRQAPGQGLEWMGRVNPNRRGTTYNQKFEGRVTMTTDTSTSTAYMELRSLRSDDTAVYYCARANWLDYWGQGTTVTVSS' is not defined",
     "output_type": "error",
     "traceback": [
      "\u001b[0;31m---------------------------------------------------------------------------\u001b[0m",
      "\u001b[0;31mNameError\u001b[0m                                 Traceback (most recent call last)",
      "\u001b[0;32m<ipython-input-4-2661d4686aef>\u001b[0m in \u001b[0;36m<module>\u001b[0;34m()\u001b[0m\n\u001b[0;32m----> 1\u001b[0;31m \u001b[0mavg_hidden\u001b[0m\u001b[0;34m,\u001b[0m \u001b[0mfinal_hidden\u001b[0m\u001b[0;34m,\u001b[0m \u001b[0mfinal_cell\u001b[0m \u001b[0;34m=\u001b[0m \u001b[0;34m(\u001b[0m\u001b[0mb\u001b[0m\u001b[0;34m.\u001b[0m\u001b[0mget_rep\u001b[0m\u001b[0;34m(\u001b[0m\u001b[0mQVQLVQSGAEVKKPGASVKVSCKASGYTFTDYYMHWVRQAPGQGLEWMGRVNPNRRGTTYNQKFEGRVTMTTDTSTSTAYMELRSLRSDDTAVYYCARANWLDYWGQGTTVTVSS\u001b[0m\u001b[0;34m)\u001b[0m\u001b[0;34m)\u001b[0m\u001b[0;34m\u001b[0m\u001b[0m\n\u001b[0m",
      "\u001b[0;31mNameError\u001b[0m: name 'QVQLVQSGAEVKKPGASVKVSCKASGYTFTDYYMHWVRQAPGQGLEWMGRVNPNRRGTTYNQKFEGRVTMTTDTSTSTAYMELRSLRSDDTAVYYCARANWLDYWGQGTTVTVSS' is not defined"
     ]
    }
   ],
   "source": [
    "avg_hidden, final_hidden, final_cell = (b.get_rep(QVQLVQSGAEVKKPGASVKVSCKASGYTFTDYYMHWVRQAPGQGLEWMGRVNPNRRGTTYNQKFEGRVTMTTDTSTSTAYMELRSLRSDDTAVYYCARANWLDYWGQGTTVTVSS))"
   ]
  },
  {
   "cell_type": "code",
   "execution_count": 9,
   "metadata": {
    "collapsed": true
   },
   "outputs": [],
   "source": [
    "import pickle\n",
    "save_loc = \"C:\\\\Users\\\\pkinn\\\\Documents\\\\UniRep\\\\full representations\\\\emi larger set\\\\\"\n",
    "data_name = 'emi_neg_reps_7Y_4'\n",
    "file_append = '.pickle'\n",
    "\n",
    "\n",
    "fn = save_loc + data_name + 'avg_hidden' + file_append\n",
    "with open(fn, 'wb') as f:\n",
    "    pickle.dump(average_hidden_list, f)\n",
    "\n",
    "fn = save_loc + data_name + 'final_hidden' + file_append\n",
    "with open(fn, 'wb') as f:\n",
    "    pickle.dump(final_hidden_list, f)\n",
    "\n",
    "fn = save_loc + data_name + 'final_cell' + file_append\n",
    "with open(fn, 'wb') as f:\n",
    "    pickle.dump(final_cell_list, f)\n",
    "   \n",
    "fn = save_loc + data_name + 'hidden_state' + file_append\n",
    "with open(fn, 'wb') as f:\n",
    "    pickle.dump(hs_list, f)\n",
    "   \n",
    "fn = save_loc + data_name + 'all_output_hs' + file_append\n",
    "with open(fn, 'wb') as f:\n",
    "    pickle.dump([average_hidden_list, final_hidden_list, final_cell_list, hs_list], f)"
   ]
  },
  {
   "cell_type": "code",
   "execution_count": null,
   "metadata": {
    "collapsed": true
   },
   "outputs": [],
   "source": []
  }
 ],
 "metadata": {
  "kernelspec": {
   "display_name": "Python 3",
   "language": "python",
   "name": "python3"
  },
  "language_info": {
   "codemirror_mode": {
    "name": "ipython",
    "version": 3
   },
   "file_extension": ".py",
   "mimetype": "text/x-python",
   "name": "python",
   "nbconvert_exporter": "python",
   "pygments_lexer": "ipython3",
   "version": "3.5.2"
  }
 },
 "nbformat": 4,
 "nbformat_minor": 2
}
